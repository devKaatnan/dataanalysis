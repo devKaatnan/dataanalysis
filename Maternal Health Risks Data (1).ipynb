{
 "cells": [
  {
   "cell_type": "markdown",
   "metadata": {},
   "source": [
    "# Maternal Health Risks Dataset"
   ]
  },
  {
   "cell_type": "code",
   "execution_count": 1,
   "metadata": {},
   "outputs": [],
   "source": [
    "import matplotlib.pyplot as plt\n",
    "import pandas as pd\n",
    "import numpy as np"
   ]
  },
  {
   "cell_type": "code",
   "execution_count": 2,
   "metadata": {},
   "outputs": [],
   "source": [
    "df = pd.read_csv('/home/kaatnanret/Desktop/Maternal_Health_Risk_Data_Set.csv')"
   ]
  },
  {
   "cell_type": "code",
   "execution_count": 3,
   "metadata": {},
   "outputs": [
    {
     "data": {
      "text/html": [
       "<div>\n",
       "<style scoped>\n",
       "    .dataframe tbody tr th:only-of-type {\n",
       "        vertical-align: middle;\n",
       "    }\n",
       "\n",
       "    .dataframe tbody tr th {\n",
       "        vertical-align: top;\n",
       "    }\n",
       "\n",
       "    .dataframe thead th {\n",
       "        text-align: right;\n",
       "    }\n",
       "</style>\n",
       "<table border=\"1\" class=\"dataframe\">\n",
       "  <thead>\n",
       "    <tr style=\"text-align: right;\">\n",
       "      <th></th>\n",
       "      <th>Age</th>\n",
       "      <th>SystolicBP</th>\n",
       "      <th>DiastolicBP</th>\n",
       "      <th>BS</th>\n",
       "      <th>BodyTemp</th>\n",
       "      <th>HeartRate</th>\n",
       "      <th>RiskLevel</th>\n",
       "    </tr>\n",
       "  </thead>\n",
       "  <tbody>\n",
       "    <tr>\n",
       "      <th>0</th>\n",
       "      <td>25</td>\n",
       "      <td>130</td>\n",
       "      <td>80</td>\n",
       "      <td>15.0</td>\n",
       "      <td>98.0</td>\n",
       "      <td>86</td>\n",
       "      <td>high risk</td>\n",
       "    </tr>\n",
       "    <tr>\n",
       "      <th>1</th>\n",
       "      <td>35</td>\n",
       "      <td>140</td>\n",
       "      <td>90</td>\n",
       "      <td>13.0</td>\n",
       "      <td>98.0</td>\n",
       "      <td>70</td>\n",
       "      <td>high risk</td>\n",
       "    </tr>\n",
       "    <tr>\n",
       "      <th>2</th>\n",
       "      <td>29</td>\n",
       "      <td>90</td>\n",
       "      <td>70</td>\n",
       "      <td>8.0</td>\n",
       "      <td>100.0</td>\n",
       "      <td>80</td>\n",
       "      <td>high risk</td>\n",
       "    </tr>\n",
       "    <tr>\n",
       "      <th>3</th>\n",
       "      <td>30</td>\n",
       "      <td>140</td>\n",
       "      <td>85</td>\n",
       "      <td>7.0</td>\n",
       "      <td>98.0</td>\n",
       "      <td>70</td>\n",
       "      <td>high risk</td>\n",
       "    </tr>\n",
       "  </tbody>\n",
       "</table>\n",
       "</div>"
      ],
      "text/plain": [
       "   Age  SystolicBP  DiastolicBP    BS  BodyTemp  HeartRate  RiskLevel\n",
       "0   25         130           80  15.0      98.0         86  high risk\n",
       "1   35         140           90  13.0      98.0         70  high risk\n",
       "2   29          90           70   8.0     100.0         80  high risk\n",
       "3   30         140           85   7.0      98.0         70  high risk"
      ]
     },
     "execution_count": 3,
     "metadata": {},
     "output_type": "execute_result"
    }
   ],
   "source": [
    "df.head(4)"
   ]
  },
  {
   "cell_type": "code",
   "execution_count": 4,
   "metadata": {},
   "outputs": [
    {
     "name": "stdout",
     "output_type": "stream",
     "text": [
      "<class 'pandas.core.frame.DataFrame'>\n",
      "RangeIndex: 1014 entries, 0 to 1013\n",
      "Data columns (total 7 columns):\n",
      "Age            1014 non-null int64\n",
      "SystolicBP     1014 non-null int64\n",
      "DiastolicBP    1014 non-null int64\n",
      "BS             1014 non-null float64\n",
      "BodyTemp       1014 non-null float64\n",
      "HeartRate      1014 non-null int64\n",
      "RiskLevel      1014 non-null object\n",
      "dtypes: float64(2), int64(4), object(1)\n",
      "memory usage: 55.5+ KB\n"
     ]
    }
   ],
   "source": [
    "df.info()"
   ]
  },
  {
   "cell_type": "code",
   "execution_count": 5,
   "metadata": {
    "scrolled": true
   },
   "outputs": [
    {
     "data": {
      "text/plain": [
       "Age              int64\n",
       "SystolicBP       int64\n",
       "DiastolicBP      int64\n",
       "BS             float64\n",
       "BodyTemp       float64\n",
       "HeartRate        int64\n",
       "RiskLevel       object\n",
       "dtype: object"
      ]
     },
     "execution_count": 5,
     "metadata": {},
     "output_type": "execute_result"
    }
   ],
   "source": [
    "df.dtypes"
   ]
  },
  {
   "cell_type": "code",
   "execution_count": 17,
   "metadata": {
    "scrolled": true
   },
   "outputs": [
    {
     "data": {
      "text/html": [
       "<div>\n",
       "<style scoped>\n",
       "    .dataframe tbody tr th:only-of-type {\n",
       "        vertical-align: middle;\n",
       "    }\n",
       "\n",
       "    .dataframe tbody tr th {\n",
       "        vertical-align: top;\n",
       "    }\n",
       "\n",
       "    .dataframe thead th {\n",
       "        text-align: right;\n",
       "    }\n",
       "</style>\n",
       "<table border=\"1\" class=\"dataframe\">\n",
       "  <thead>\n",
       "    <tr style=\"text-align: right;\">\n",
       "      <th></th>\n",
       "      <th>Age</th>\n",
       "      <th>SystolicBP</th>\n",
       "      <th>DiastolicBP</th>\n",
       "      <th>BS</th>\n",
       "      <th>BodyTemp</th>\n",
       "      <th>HeartRate</th>\n",
       "      <th>RiskLevel</th>\n",
       "    </tr>\n",
       "  </thead>\n",
       "  <tbody>\n",
       "    <tr>\n",
       "      <th>0</th>\n",
       "      <td>25</td>\n",
       "      <td>130</td>\n",
       "      <td>80</td>\n",
       "      <td>15.0</td>\n",
       "      <td>98.0</td>\n",
       "      <td>86</td>\n",
       "      <td>high risk</td>\n",
       "    </tr>\n",
       "    <tr>\n",
       "      <th>1</th>\n",
       "      <td>35</td>\n",
       "      <td>140</td>\n",
       "      <td>90</td>\n",
       "      <td>13.0</td>\n",
       "      <td>98.0</td>\n",
       "      <td>70</td>\n",
       "      <td>high risk</td>\n",
       "    </tr>\n",
       "  </tbody>\n",
       "</table>\n",
       "</div>"
      ],
      "text/plain": [
       "   Age  SystolicBP  DiastolicBP    BS  BodyTemp  HeartRate  RiskLevel\n",
       "0   25         130           80  15.0      98.0         86  high risk\n",
       "1   35         140           90  13.0      98.0         70  high risk"
      ]
     },
     "execution_count": 17,
     "metadata": {},
     "output_type": "execute_result"
    }
   ],
   "source": [
    "df.head(2)"
   ]
  },
  {
   "cell_type": "code",
   "execution_count": null,
   "metadata": {},
   "outputs": [],
   "source": []
  },
  {
   "cell_type": "markdown",
   "metadata": {},
   "source": [
    "# Rearranging the various columns into categories based on their ranges, and the intended health condition and grouping the categories in new columns"
   ]
  },
  {
   "cell_type": "code",
   "execution_count": 18,
   "metadata": {},
   "outputs": [],
   "source": [
    "df.insert(1,'Age Cat', '')"
   ]
  },
  {
   "cell_type": "code",
   "execution_count": 19,
   "metadata": {},
   "outputs": [],
   "source": [
    "for i in range(len(df)):\n",
    "    if df.at[i,'Age'] < 20:\n",
    "        df.at[i,'Age Cat'] = 'Teenage '\n",
    "    elif df.at[i,'Age'] >= 20 and df['Age'][i] <= 35:\n",
    "        df.at[i,'Age Cat'] = 'Normal'\n",
    "    else:\n",
    "        df.at[i,'Age Cat'] = 'Advanced '"
   ]
  },
  {
   "cell_type": "code",
   "execution_count": 20,
   "metadata": {},
   "outputs": [
    {
     "data": {
      "text/html": [
       "<div>\n",
       "<style scoped>\n",
       "    .dataframe tbody tr th:only-of-type {\n",
       "        vertical-align: middle;\n",
       "    }\n",
       "\n",
       "    .dataframe tbody tr th {\n",
       "        vertical-align: top;\n",
       "    }\n",
       "\n",
       "    .dataframe thead th {\n",
       "        text-align: right;\n",
       "    }\n",
       "</style>\n",
       "<table border=\"1\" class=\"dataframe\">\n",
       "  <thead>\n",
       "    <tr style=\"text-align: right;\">\n",
       "      <th></th>\n",
       "      <th>Age</th>\n",
       "      <th>Age Cat</th>\n",
       "      <th>SystolicBP</th>\n",
       "      <th>DiastolicBP</th>\n",
       "      <th>BS</th>\n",
       "      <th>BodyTemp</th>\n",
       "      <th>HeartRate</th>\n",
       "      <th>RiskLevel</th>\n",
       "    </tr>\n",
       "  </thead>\n",
       "  <tbody>\n",
       "    <tr>\n",
       "      <th>0</th>\n",
       "      <td>25</td>\n",
       "      <td>Normal</td>\n",
       "      <td>130</td>\n",
       "      <td>80</td>\n",
       "      <td>15.0</td>\n",
       "      <td>98.0</td>\n",
       "      <td>86</td>\n",
       "      <td>high risk</td>\n",
       "    </tr>\n",
       "    <tr>\n",
       "      <th>1</th>\n",
       "      <td>35</td>\n",
       "      <td>Normal</td>\n",
       "      <td>140</td>\n",
       "      <td>90</td>\n",
       "      <td>13.0</td>\n",
       "      <td>98.0</td>\n",
       "      <td>70</td>\n",
       "      <td>high risk</td>\n",
       "    </tr>\n",
       "  </tbody>\n",
       "</table>\n",
       "</div>"
      ],
      "text/plain": [
       "   Age Age Cat  SystolicBP  DiastolicBP    BS  BodyTemp  HeartRate  RiskLevel\n",
       "0   25  Normal         130           80  15.0      98.0         86  high risk\n",
       "1   35  Normal         140           90  13.0      98.0         70  high risk"
      ]
     },
     "execution_count": 20,
     "metadata": {},
     "output_type": "execute_result"
    }
   ],
   "source": [
    "df.head(2)"
   ]
  },
  {
   "cell_type": "code",
   "execution_count": 21,
   "metadata": {},
   "outputs": [],
   "source": [
    "df.insert(3,'Sys Cat', '')"
   ]
  },
  {
   "cell_type": "code",
   "execution_count": 22,
   "metadata": {},
   "outputs": [],
   "source": [
    "for i in range(len(df)):\n",
    "    if df.at[i,'SystolicBP'] < 120:\n",
    "        df.at[i,'Sys Cat'] = 'Low'\n",
    "    elif df.at[i,'SystolicBP'] >= 120 and df['SystolicBP'][i] <= 140:\n",
    "        df.at[i,'Sys Cat'] = 'Normal'\n",
    "    else:\n",
    "        df.at[i,'Sys Cat'] = 'High  '"
   ]
  },
  {
   "cell_type": "code",
   "execution_count": 23,
   "metadata": {},
   "outputs": [
    {
     "data": {
      "text/html": [
       "<div>\n",
       "<style scoped>\n",
       "    .dataframe tbody tr th:only-of-type {\n",
       "        vertical-align: middle;\n",
       "    }\n",
       "\n",
       "    .dataframe tbody tr th {\n",
       "        vertical-align: top;\n",
       "    }\n",
       "\n",
       "    .dataframe thead th {\n",
       "        text-align: right;\n",
       "    }\n",
       "</style>\n",
       "<table border=\"1\" class=\"dataframe\">\n",
       "  <thead>\n",
       "    <tr style=\"text-align: right;\">\n",
       "      <th></th>\n",
       "      <th>Age</th>\n",
       "      <th>Age Cat</th>\n",
       "      <th>SystolicBP</th>\n",
       "      <th>Sys Cat</th>\n",
       "      <th>DiastolicBP</th>\n",
       "      <th>BS</th>\n",
       "      <th>BodyTemp</th>\n",
       "      <th>HeartRate</th>\n",
       "      <th>RiskLevel</th>\n",
       "    </tr>\n",
       "  </thead>\n",
       "  <tbody>\n",
       "    <tr>\n",
       "      <th>0</th>\n",
       "      <td>25</td>\n",
       "      <td>Normal</td>\n",
       "      <td>130</td>\n",
       "      <td>Normal</td>\n",
       "      <td>80</td>\n",
       "      <td>15.0</td>\n",
       "      <td>98.0</td>\n",
       "      <td>86</td>\n",
       "      <td>high risk</td>\n",
       "    </tr>\n",
       "    <tr>\n",
       "      <th>1</th>\n",
       "      <td>35</td>\n",
       "      <td>Normal</td>\n",
       "      <td>140</td>\n",
       "      <td>Normal</td>\n",
       "      <td>90</td>\n",
       "      <td>13.0</td>\n",
       "      <td>98.0</td>\n",
       "      <td>70</td>\n",
       "      <td>high risk</td>\n",
       "    </tr>\n",
       "  </tbody>\n",
       "</table>\n",
       "</div>"
      ],
      "text/plain": [
       "   Age Age Cat  SystolicBP Sys Cat  DiastolicBP    BS  BodyTemp  HeartRate  \\\n",
       "0   25  Normal         130  Normal           80  15.0      98.0         86   \n",
       "1   35  Normal         140  Normal           90  13.0      98.0         70   \n",
       "\n",
       "   RiskLevel  \n",
       "0  high risk  \n",
       "1  high risk  "
      ]
     },
     "execution_count": 23,
     "metadata": {},
     "output_type": "execute_result"
    }
   ],
   "source": [
    "df.head(2)"
   ]
  },
  {
   "cell_type": "code",
   "execution_count": 24,
   "metadata": {},
   "outputs": [],
   "source": [
    "df.insert(5,'Dia Cat', '')"
   ]
  },
  {
   "cell_type": "code",
   "execution_count": 25,
   "metadata": {},
   "outputs": [],
   "source": [
    "for i in range(len(df)):\n",
    "    if df.at[i,'DiastolicBP'] < 70:\n",
    "        df.at[i,'Dia Cat'] = 'Low'\n",
    "    elif df.at[i,'DiastolicBP'] >= 70 and df['DiastolicBP'][i] <= 90:\n",
    "        df.at[i,'Dia Cat'] = 'Normal'\n",
    "    else:\n",
    "        df.at[i,'Dia Cat'] = 'High  '"
   ]
  },
  {
   "cell_type": "code",
   "execution_count": 26,
   "metadata": {},
   "outputs": [
    {
     "data": {
      "text/html": [
       "<div>\n",
       "<style scoped>\n",
       "    .dataframe tbody tr th:only-of-type {\n",
       "        vertical-align: middle;\n",
       "    }\n",
       "\n",
       "    .dataframe tbody tr th {\n",
       "        vertical-align: top;\n",
       "    }\n",
       "\n",
       "    .dataframe thead th {\n",
       "        text-align: right;\n",
       "    }\n",
       "</style>\n",
       "<table border=\"1\" class=\"dataframe\">\n",
       "  <thead>\n",
       "    <tr style=\"text-align: right;\">\n",
       "      <th></th>\n",
       "      <th>Age</th>\n",
       "      <th>Age Cat</th>\n",
       "      <th>SystolicBP</th>\n",
       "      <th>Sys Cat</th>\n",
       "      <th>DiastolicBP</th>\n",
       "      <th>Dia Cat</th>\n",
       "      <th>BS</th>\n",
       "      <th>BodyTemp</th>\n",
       "      <th>HeartRate</th>\n",
       "      <th>RiskLevel</th>\n",
       "    </tr>\n",
       "  </thead>\n",
       "  <tbody>\n",
       "    <tr>\n",
       "      <th>0</th>\n",
       "      <td>25</td>\n",
       "      <td>Normal</td>\n",
       "      <td>130</td>\n",
       "      <td>Normal</td>\n",
       "      <td>80</td>\n",
       "      <td>Normal</td>\n",
       "      <td>15.0</td>\n",
       "      <td>98.0</td>\n",
       "      <td>86</td>\n",
       "      <td>high risk</td>\n",
       "    </tr>\n",
       "    <tr>\n",
       "      <th>1</th>\n",
       "      <td>35</td>\n",
       "      <td>Normal</td>\n",
       "      <td>140</td>\n",
       "      <td>Normal</td>\n",
       "      <td>90</td>\n",
       "      <td>Normal</td>\n",
       "      <td>13.0</td>\n",
       "      <td>98.0</td>\n",
       "      <td>70</td>\n",
       "      <td>high risk</td>\n",
       "    </tr>\n",
       "  </tbody>\n",
       "</table>\n",
       "</div>"
      ],
      "text/plain": [
       "   Age Age Cat  SystolicBP Sys Cat  DiastolicBP Dia Cat    BS  BodyTemp  \\\n",
       "0   25  Normal         130  Normal           80  Normal  15.0      98.0   \n",
       "1   35  Normal         140  Normal           90  Normal  13.0      98.0   \n",
       "\n",
       "   HeartRate  RiskLevel  \n",
       "0         86  high risk  \n",
       "1         70  high risk  "
      ]
     },
     "execution_count": 26,
     "metadata": {},
     "output_type": "execute_result"
    }
   ],
   "source": [
    "df.head(2)"
   ]
  },
  {
   "cell_type": "code",
   "execution_count": 27,
   "metadata": {},
   "outputs": [],
   "source": [
    "df.insert(7,'BS Cat', '')"
   ]
  },
  {
   "cell_type": "code",
   "execution_count": 31,
   "metadata": {},
   "outputs": [],
   "source": [
    "for i in range(len(df)):\n",
    "    if df.at[i,'BS'] < 7:\n",
    "        df.at[i,'BS Cat'] = 'Low BS'\n",
    "    elif df.at[i,'BS'] >= 7 and df['BS'][i] <= 10:\n",
    "        df.at[i,'BS Cat'] = 'Normal BS'\n",
    "    else:\n",
    "        df.at[i,'BS Cat'] = 'High BS'"
   ]
  },
  {
   "cell_type": "code",
   "execution_count": 32,
   "metadata": {},
   "outputs": [
    {
     "data": {
      "text/html": [
       "<div>\n",
       "<style scoped>\n",
       "    .dataframe tbody tr th:only-of-type {\n",
       "        vertical-align: middle;\n",
       "    }\n",
       "\n",
       "    .dataframe tbody tr th {\n",
       "        vertical-align: top;\n",
       "    }\n",
       "\n",
       "    .dataframe thead th {\n",
       "        text-align: right;\n",
       "    }\n",
       "</style>\n",
       "<table border=\"1\" class=\"dataframe\">\n",
       "  <thead>\n",
       "    <tr style=\"text-align: right;\">\n",
       "      <th></th>\n",
       "      <th>Age</th>\n",
       "      <th>Age Cat</th>\n",
       "      <th>SystolicBP</th>\n",
       "      <th>Sys Cat</th>\n",
       "      <th>DiastolicBP</th>\n",
       "      <th>Dia Cat</th>\n",
       "      <th>BS</th>\n",
       "      <th>BS Cat</th>\n",
       "      <th>BodyTemp</th>\n",
       "      <th>Temp Cat</th>\n",
       "      <th>HeartRate</th>\n",
       "      <th>RiskLevel</th>\n",
       "    </tr>\n",
       "  </thead>\n",
       "  <tbody>\n",
       "    <tr>\n",
       "      <th>0</th>\n",
       "      <td>25</td>\n",
       "      <td>Normal</td>\n",
       "      <td>130</td>\n",
       "      <td>Normal</td>\n",
       "      <td>80</td>\n",
       "      <td>Normal</td>\n",
       "      <td>15.0</td>\n",
       "      <td>High BS</td>\n",
       "      <td>98.0</td>\n",
       "      <td></td>\n",
       "      <td>86</td>\n",
       "      <td>high risk</td>\n",
       "    </tr>\n",
       "    <tr>\n",
       "      <th>1</th>\n",
       "      <td>35</td>\n",
       "      <td>Normal</td>\n",
       "      <td>140</td>\n",
       "      <td>Normal</td>\n",
       "      <td>90</td>\n",
       "      <td>Normal</td>\n",
       "      <td>13.0</td>\n",
       "      <td>High BS</td>\n",
       "      <td>98.0</td>\n",
       "      <td></td>\n",
       "      <td>70</td>\n",
       "      <td>high risk</td>\n",
       "    </tr>\n",
       "  </tbody>\n",
       "</table>\n",
       "</div>"
      ],
      "text/plain": [
       "   Age Age Cat  SystolicBP Sys Cat  DiastolicBP Dia Cat    BS   BS Cat  \\\n",
       "0   25  Normal         130  Normal           80  Normal  15.0  High BS   \n",
       "1   35  Normal         140  Normal           90  Normal  13.0  High BS   \n",
       "\n",
       "   BodyTemp Temp Cat  HeartRate  RiskLevel  \n",
       "0      98.0                  86  high risk  \n",
       "1      98.0                  70  high risk  "
      ]
     },
     "execution_count": 32,
     "metadata": {},
     "output_type": "execute_result"
    }
   ],
   "source": [
    "df.head(2)"
   ]
  },
  {
   "cell_type": "code",
   "execution_count": 36,
   "metadata": {},
   "outputs": [],
   "source": [
    "df.insert(9,'Temp Cat', '')"
   ]
  },
  {
   "cell_type": "code",
   "execution_count": 37,
   "metadata": {},
   "outputs": [],
   "source": [
    "for i in range(len(df)):\n",
    "    if df.at[i,'BodyTemp'] < 96:\n",
    "        df.at[i,'Temp Cat'] = 'Low temp'\n",
    "    elif df.at[i,'BodyTemp'] >= 96 and df['BodyTemp'][i] <= 99:\n",
    "        df.at[i,'Temp Cat'] = 'Normal temp'\n",
    "    else:\n",
    "        df.at[i,'Temp Cat'] = 'High  temp'"
   ]
  },
  {
   "cell_type": "code",
   "execution_count": 38,
   "metadata": {},
   "outputs": [
    {
     "data": {
      "text/html": [
       "<div>\n",
       "<style scoped>\n",
       "    .dataframe tbody tr th:only-of-type {\n",
       "        vertical-align: middle;\n",
       "    }\n",
       "\n",
       "    .dataframe tbody tr th {\n",
       "        vertical-align: top;\n",
       "    }\n",
       "\n",
       "    .dataframe thead th {\n",
       "        text-align: right;\n",
       "    }\n",
       "</style>\n",
       "<table border=\"1\" class=\"dataframe\">\n",
       "  <thead>\n",
       "    <tr style=\"text-align: right;\">\n",
       "      <th></th>\n",
       "      <th>Age</th>\n",
       "      <th>Age Cat</th>\n",
       "      <th>SystolicBP</th>\n",
       "      <th>Sys Cat</th>\n",
       "      <th>DiastolicBP</th>\n",
       "      <th>Dia Cat</th>\n",
       "      <th>BS</th>\n",
       "      <th>BS Cat</th>\n",
       "      <th>BodyTemp</th>\n",
       "      <th>Temp Cat</th>\n",
       "      <th>HeartRate</th>\n",
       "      <th>RiskLevel</th>\n",
       "    </tr>\n",
       "  </thead>\n",
       "  <tbody>\n",
       "    <tr>\n",
       "      <th>0</th>\n",
       "      <td>25</td>\n",
       "      <td>Normal</td>\n",
       "      <td>130</td>\n",
       "      <td>Normal</td>\n",
       "      <td>80</td>\n",
       "      <td>Normal</td>\n",
       "      <td>15.0</td>\n",
       "      <td>High BS</td>\n",
       "      <td>98.0</td>\n",
       "      <td>Normal temp</td>\n",
       "      <td>86</td>\n",
       "      <td>high risk</td>\n",
       "    </tr>\n",
       "    <tr>\n",
       "      <th>1</th>\n",
       "      <td>35</td>\n",
       "      <td>Normal</td>\n",
       "      <td>140</td>\n",
       "      <td>Normal</td>\n",
       "      <td>90</td>\n",
       "      <td>Normal</td>\n",
       "      <td>13.0</td>\n",
       "      <td>High BS</td>\n",
       "      <td>98.0</td>\n",
       "      <td>Normal temp</td>\n",
       "      <td>70</td>\n",
       "      <td>high risk</td>\n",
       "    </tr>\n",
       "  </tbody>\n",
       "</table>\n",
       "</div>"
      ],
      "text/plain": [
       "   Age Age Cat  SystolicBP Sys Cat  DiastolicBP Dia Cat    BS   BS Cat  \\\n",
       "0   25  Normal         130  Normal           80  Normal  15.0  High BS   \n",
       "1   35  Normal         140  Normal           90  Normal  13.0  High BS   \n",
       "\n",
       "   BodyTemp     Temp Cat  HeartRate  RiskLevel  \n",
       "0      98.0  Normal temp         86  high risk  \n",
       "1      98.0  Normal temp         70  high risk  "
      ]
     },
     "execution_count": 38,
     "metadata": {},
     "output_type": "execute_result"
    }
   ],
   "source": [
    "df.head(2)"
   ]
  },
  {
   "cell_type": "code",
   "execution_count": 39,
   "metadata": {},
   "outputs": [],
   "source": [
    "df.insert(11,'Heart Cat', '')"
   ]
  },
  {
   "cell_type": "code",
   "execution_count": 40,
   "metadata": {},
   "outputs": [],
   "source": [
    "for i in range(len(df)):\n",
    "    if df.at[i,'HeartRate'] < 60:\n",
    "        df.at[i,'Heart Cat'] = 'Low'\n",
    "    elif df.at[i,'HeartRate'] >= 60 and df['HeartRate'][i] <= 90:\n",
    "        df.at[i,'Heart Cat'] = 'Normal'\n",
    "    else:\n",
    "        df.at[i,'Heart Cat'] = 'High  '"
   ]
  },
  {
   "cell_type": "code",
   "execution_count": 41,
   "metadata": {},
   "outputs": [
    {
     "data": {
      "text/html": [
       "<div>\n",
       "<style scoped>\n",
       "    .dataframe tbody tr th:only-of-type {\n",
       "        vertical-align: middle;\n",
       "    }\n",
       "\n",
       "    .dataframe tbody tr th {\n",
       "        vertical-align: top;\n",
       "    }\n",
       "\n",
       "    .dataframe thead th {\n",
       "        text-align: right;\n",
       "    }\n",
       "</style>\n",
       "<table border=\"1\" class=\"dataframe\">\n",
       "  <thead>\n",
       "    <tr style=\"text-align: right;\">\n",
       "      <th></th>\n",
       "      <th>Age</th>\n",
       "      <th>Age Cat</th>\n",
       "      <th>SystolicBP</th>\n",
       "      <th>Sys Cat</th>\n",
       "      <th>DiastolicBP</th>\n",
       "      <th>Dia Cat</th>\n",
       "      <th>BS</th>\n",
       "      <th>BS Cat</th>\n",
       "      <th>BodyTemp</th>\n",
       "      <th>Temp Cat</th>\n",
       "      <th>HeartRate</th>\n",
       "      <th>Heart Cat</th>\n",
       "      <th>RiskLevel</th>\n",
       "    </tr>\n",
       "  </thead>\n",
       "  <tbody>\n",
       "    <tr>\n",
       "      <th>0</th>\n",
       "      <td>25</td>\n",
       "      <td>Normal</td>\n",
       "      <td>130</td>\n",
       "      <td>Normal</td>\n",
       "      <td>80</td>\n",
       "      <td>Normal</td>\n",
       "      <td>15.0</td>\n",
       "      <td>High BS</td>\n",
       "      <td>98.0</td>\n",
       "      <td>Normal temp</td>\n",
       "      <td>86</td>\n",
       "      <td>Normal</td>\n",
       "      <td>high risk</td>\n",
       "    </tr>\n",
       "    <tr>\n",
       "      <th>1</th>\n",
       "      <td>35</td>\n",
       "      <td>Normal</td>\n",
       "      <td>140</td>\n",
       "      <td>Normal</td>\n",
       "      <td>90</td>\n",
       "      <td>Normal</td>\n",
       "      <td>13.0</td>\n",
       "      <td>High BS</td>\n",
       "      <td>98.0</td>\n",
       "      <td>Normal temp</td>\n",
       "      <td>70</td>\n",
       "      <td>Normal</td>\n",
       "      <td>high risk</td>\n",
       "    </tr>\n",
       "  </tbody>\n",
       "</table>\n",
       "</div>"
      ],
      "text/plain": [
       "   Age Age Cat  SystolicBP Sys Cat  DiastolicBP Dia Cat    BS   BS Cat  \\\n",
       "0   25  Normal         130  Normal           80  Normal  15.0  High BS   \n",
       "1   35  Normal         140  Normal           90  Normal  13.0  High BS   \n",
       "\n",
       "   BodyTemp     Temp Cat  HeartRate Heart Cat  RiskLevel  \n",
       "0      98.0  Normal temp         86    Normal  high risk  \n",
       "1      98.0  Normal temp         70    Normal  high risk  "
      ]
     },
     "execution_count": 41,
     "metadata": {},
     "output_type": "execute_result"
    }
   ],
   "source": [
    "df.head(2)"
   ]
  },
  {
   "cell_type": "code",
   "execution_count": 42,
   "metadata": {},
   "outputs": [],
   "source": [
    "#creating a new dataframe with the new columns created \n",
    "df_cat = df[['Age Cat', 'Sys Cat', 'Dia Cat', 'BS Cat', 'Temp Cat', 'Heart Cat', 'RiskLevel']].copy()\n"
   ]
  },
  {
   "cell_type": "code",
   "execution_count": 44,
   "metadata": {
    "scrolled": true
   },
   "outputs": [
    {
     "data": {
      "text/html": [
       "<div>\n",
       "<style scoped>\n",
       "    .dataframe tbody tr th:only-of-type {\n",
       "        vertical-align: middle;\n",
       "    }\n",
       "\n",
       "    .dataframe tbody tr th {\n",
       "        vertical-align: top;\n",
       "    }\n",
       "\n",
       "    .dataframe thead th {\n",
       "        text-align: right;\n",
       "    }\n",
       "</style>\n",
       "<table border=\"1\" class=\"dataframe\">\n",
       "  <thead>\n",
       "    <tr style=\"text-align: right;\">\n",
       "      <th></th>\n",
       "      <th>Age Cat</th>\n",
       "      <th>Sys Cat</th>\n",
       "      <th>Dia Cat</th>\n",
       "      <th>BS Cat</th>\n",
       "      <th>Temp Cat</th>\n",
       "      <th>Heart Cat</th>\n",
       "      <th>RiskLevel</th>\n",
       "    </tr>\n",
       "  </thead>\n",
       "  <tbody>\n",
       "    <tr>\n",
       "      <th>0</th>\n",
       "      <td>Normal</td>\n",
       "      <td>Normal</td>\n",
       "      <td>Normal</td>\n",
       "      <td>High BS</td>\n",
       "      <td>Normal temp</td>\n",
       "      <td>Normal</td>\n",
       "      <td>high risk</td>\n",
       "    </tr>\n",
       "    <tr>\n",
       "      <th>1</th>\n",
       "      <td>Normal</td>\n",
       "      <td>Normal</td>\n",
       "      <td>Normal</td>\n",
       "      <td>High BS</td>\n",
       "      <td>Normal temp</td>\n",
       "      <td>Normal</td>\n",
       "      <td>high risk</td>\n",
       "    </tr>\n",
       "    <tr>\n",
       "      <th>2</th>\n",
       "      <td>Normal</td>\n",
       "      <td>Low</td>\n",
       "      <td>Normal</td>\n",
       "      <td>Normal BS</td>\n",
       "      <td>High  temp</td>\n",
       "      <td>Normal</td>\n",
       "      <td>high risk</td>\n",
       "    </tr>\n",
       "    <tr>\n",
       "      <th>3</th>\n",
       "      <td>Normal</td>\n",
       "      <td>Normal</td>\n",
       "      <td>Normal</td>\n",
       "      <td>Normal BS</td>\n",
       "      <td>Normal temp</td>\n",
       "      <td>Normal</td>\n",
       "      <td>high risk</td>\n",
       "    </tr>\n",
       "  </tbody>\n",
       "</table>\n",
       "</div>"
      ],
      "text/plain": [
       "  Age Cat Sys Cat Dia Cat     BS Cat     Temp Cat Heart Cat  RiskLevel\n",
       "0  Normal  Normal  Normal    High BS  Normal temp    Normal  high risk\n",
       "1  Normal  Normal  Normal    High BS  Normal temp    Normal  high risk\n",
       "2  Normal     Low  Normal  Normal BS   High  temp    Normal  high risk\n",
       "3  Normal  Normal  Normal  Normal BS  Normal temp    Normal  high risk"
      ]
     },
     "execution_count": 44,
     "metadata": {},
     "output_type": "execute_result"
    }
   ],
   "source": [
    "df_cat.head(4)"
   ]
  },
  {
   "cell_type": "markdown",
   "metadata": {},
   "source": [
    "# Regrouping the data set based on the data with high risks from from \"RiskLevel\" column, to see health factors that should be given proper attention"
   ]
  },
  {
   "cell_type": "code",
   "execution_count": 45,
   "metadata": {},
   "outputs": [],
   "source": [
    "df_risklevel = df['RiskLevel'].value_counts()\n"
   ]
  },
  {
   "cell_type": "code",
   "execution_count": 66,
   "metadata": {},
   "outputs": [
    {
     "data": {
      "text/plain": [
       "<matplotlib.axes._subplots.AxesSubplot at 0x7f5ad7dd3eb8>"
      ]
     },
     "execution_count": 66,
     "metadata": {},
     "output_type": "execute_result"
    },
    {
     "data": {
      "image/png": "[encoded data removed]",
      "text/plain": [
       "<matplotlib.figure.Figure at 0x7f5ad7db3160>"
      ]
     },
     "metadata": {},
     "output_type": "display_data"
    }
   ],
   "source": [
    "df_risklevel.plot(kind= 'bar')"
   ]
  },
  {
   "cell_type": "code",
   "execution_count": 47,
   "metadata": {},
   "outputs": [],
   "source": [
    "#working with the sets having high risks because they represent the extreme cases\n",
    "df1 = df[df['RiskLevel'] == 'high risk']"
   ]
  },
  {
   "cell_type": "code",
   "execution_count": 48,
   "metadata": {},
   "outputs": [
    {
     "data": {
      "text/html": [
       "<div>\n",
       "<style scoped>\n",
       "    .dataframe tbody tr th:only-of-type {\n",
       "        vertical-align: middle;\n",
       "    }\n",
       "\n",
       "    .dataframe tbody tr th {\n",
       "        vertical-align: top;\n",
       "    }\n",
       "\n",
       "    .dataframe thead th {\n",
       "        text-align: right;\n",
       "    }\n",
       "</style>\n",
       "<table border=\"1\" class=\"dataframe\">\n",
       "  <thead>\n",
       "    <tr style=\"text-align: right;\">\n",
       "      <th></th>\n",
       "      <th>Age</th>\n",
       "      <th>Age Cat</th>\n",
       "      <th>SystolicBP</th>\n",
       "      <th>Sys Cat</th>\n",
       "      <th>DiastolicBP</th>\n",
       "      <th>Dia Cat</th>\n",
       "      <th>BS</th>\n",
       "      <th>BS Cat</th>\n",
       "      <th>BodyTemp</th>\n",
       "      <th>Temp Cat</th>\n",
       "      <th>HeartRate</th>\n",
       "      <th>Heart Cat</th>\n",
       "      <th>RiskLevel</th>\n",
       "    </tr>\n",
       "  </thead>\n",
       "  <tbody>\n",
       "    <tr>\n",
       "      <th>0</th>\n",
       "      <td>25</td>\n",
       "      <td>Normal</td>\n",
       "      <td>130</td>\n",
       "      <td>Normal</td>\n",
       "      <td>80</td>\n",
       "      <td>Normal</td>\n",
       "      <td>15.0</td>\n",
       "      <td>High BS</td>\n",
       "      <td>98.0</td>\n",
       "      <td>Normal temp</td>\n",
       "      <td>86</td>\n",
       "      <td>Normal</td>\n",
       "      <td>high risk</td>\n",
       "    </tr>\n",
       "    <tr>\n",
       "      <th>1</th>\n",
       "      <td>35</td>\n",
       "      <td>Normal</td>\n",
       "      <td>140</td>\n",
       "      <td>Normal</td>\n",
       "      <td>90</td>\n",
       "      <td>Normal</td>\n",
       "      <td>13.0</td>\n",
       "      <td>High BS</td>\n",
       "      <td>98.0</td>\n",
       "      <td>Normal temp</td>\n",
       "      <td>70</td>\n",
       "      <td>Normal</td>\n",
       "      <td>high risk</td>\n",
       "    </tr>\n",
       "    <tr>\n",
       "      <th>2</th>\n",
       "      <td>29</td>\n",
       "      <td>Normal</td>\n",
       "      <td>90</td>\n",
       "      <td>Low</td>\n",
       "      <td>70</td>\n",
       "      <td>Normal</td>\n",
       "      <td>8.0</td>\n",
       "      <td>Normal BS</td>\n",
       "      <td>100.0</td>\n",
       "      <td>High  temp</td>\n",
       "      <td>80</td>\n",
       "      <td>Normal</td>\n",
       "      <td>high risk</td>\n",
       "    </tr>\n",
       "    <tr>\n",
       "      <th>3</th>\n",
       "      <td>30</td>\n",
       "      <td>Normal</td>\n",
       "      <td>140</td>\n",
       "      <td>Normal</td>\n",
       "      <td>85</td>\n",
       "      <td>Normal</td>\n",
       "      <td>7.0</td>\n",
       "      <td>Normal BS</td>\n",
       "      <td>98.0</td>\n",
       "      <td>Normal temp</td>\n",
       "      <td>70</td>\n",
       "      <td>Normal</td>\n",
       "      <td>high risk</td>\n",
       "    </tr>\n",
       "  </tbody>\n",
       "</table>\n",
       "</div>"
      ],
      "text/plain": [
       "   Age Age Cat  SystolicBP Sys Cat  DiastolicBP Dia Cat    BS     BS Cat  \\\n",
       "0   25  Normal         130  Normal           80  Normal  15.0    High BS   \n",
       "1   35  Normal         140  Normal           90  Normal  13.0    High BS   \n",
       "2   29  Normal          90     Low           70  Normal   8.0  Normal BS   \n",
       "3   30  Normal         140  Normal           85  Normal   7.0  Normal BS   \n",
       "\n",
       "   BodyTemp     Temp Cat  HeartRate Heart Cat  RiskLevel  \n",
       "0      98.0  Normal temp         86    Normal  high risk  \n",
       "1      98.0  Normal temp         70    Normal  high risk  \n",
       "2     100.0   High  temp         80    Normal  high risk  \n",
       "3      98.0  Normal temp         70    Normal  high risk  "
      ]
     },
     "execution_count": 48,
     "metadata": {},
     "output_type": "execute_result"
    }
   ],
   "source": [
    "df1.head(4)"
   ]
  },
  {
   "cell_type": "code",
   "execution_count": 50,
   "metadata": {},
   "outputs": [],
   "source": [
    "df2 = df_cat[df_cat['RiskLevel'] == 'high risk']"
   ]
  },
  {
   "cell_type": "code",
   "execution_count": 51,
   "metadata": {
    "scrolled": true
   },
   "outputs": [
    {
     "data": {
      "text/html": [
       "<div>\n",
       "<style scoped>\n",
       "    .dataframe tbody tr th:only-of-type {\n",
       "        vertical-align: middle;\n",
       "    }\n",
       "\n",
       "    .dataframe tbody tr th {\n",
       "        vertical-align: top;\n",
       "    }\n",
       "\n",
       "    .dataframe thead th {\n",
       "        text-align: right;\n",
       "    }\n",
       "</style>\n",
       "<table border=\"1\" class=\"dataframe\">\n",
       "  <thead>\n",
       "    <tr style=\"text-align: right;\">\n",
       "      <th></th>\n",
       "      <th>Age Cat</th>\n",
       "      <th>Sys Cat</th>\n",
       "      <th>Dia Cat</th>\n",
       "      <th>BS Cat</th>\n",
       "      <th>Temp Cat</th>\n",
       "      <th>Heart Cat</th>\n",
       "      <th>RiskLevel</th>\n",
       "    </tr>\n",
       "  </thead>\n",
       "  <tbody>\n",
       "    <tr>\n",
       "      <th>0</th>\n",
       "      <td>Normal</td>\n",
       "      <td>Normal</td>\n",
       "      <td>Normal</td>\n",
       "      <td>High BS</td>\n",
       "      <td>Normal temp</td>\n",
       "      <td>Normal</td>\n",
       "      <td>high risk</td>\n",
       "    </tr>\n",
       "    <tr>\n",
       "      <th>1</th>\n",
       "      <td>Normal</td>\n",
       "      <td>Normal</td>\n",
       "      <td>Normal</td>\n",
       "      <td>High BS</td>\n",
       "      <td>Normal temp</td>\n",
       "      <td>Normal</td>\n",
       "      <td>high risk</td>\n",
       "    </tr>\n",
       "    <tr>\n",
       "      <th>2</th>\n",
       "      <td>Normal</td>\n",
       "      <td>Low</td>\n",
       "      <td>Normal</td>\n",
       "      <td>Normal BS</td>\n",
       "      <td>High  temp</td>\n",
       "      <td>Normal</td>\n",
       "      <td>high risk</td>\n",
       "    </tr>\n",
       "    <tr>\n",
       "      <th>3</th>\n",
       "      <td>Normal</td>\n",
       "      <td>Normal</td>\n",
       "      <td>Normal</td>\n",
       "      <td>Normal BS</td>\n",
       "      <td>Normal temp</td>\n",
       "      <td>Normal</td>\n",
       "      <td>high risk</td>\n",
       "    </tr>\n",
       "  </tbody>\n",
       "</table>\n",
       "</div>"
      ],
      "text/plain": [
       "  Age Cat Sys Cat Dia Cat     BS Cat     Temp Cat Heart Cat  RiskLevel\n",
       "0  Normal  Normal  Normal    High BS  Normal temp    Normal  high risk\n",
       "1  Normal  Normal  Normal    High BS  Normal temp    Normal  high risk\n",
       "2  Normal     Low  Normal  Normal BS   High  temp    Normal  high risk\n",
       "3  Normal  Normal  Normal  Normal BS  Normal temp    Normal  high risk"
      ]
     },
     "execution_count": 51,
     "metadata": {},
     "output_type": "execute_result"
    }
   ],
   "source": [
    "df2.head(4)"
   ]
  },
  {
   "cell_type": "markdown",
   "metadata": {},
   "source": [
    "# Checking what category range has the higher risk potential"
   ]
  },
  {
   "cell_type": "code",
   "execution_count": 52,
   "metadata": {},
   "outputs": [],
   "source": [
    "age_cat = pd.pivot_table(df1, index = 'RiskLevel', columns = 'Age Cat', values = 'Age')"
   ]
  },
  {
   "cell_type": "code",
   "execution_count": 53,
   "metadata": {},
   "outputs": [
    {
     "data": {
      "text/plain": [
       "<matplotlib.axes._subplots.AxesSubplot at 0x7f5ad7db3b00>"
      ]
     },
     "execution_count": 53,
     "metadata": {},
     "output_type": "execute_result"
    },
    {
     "data": {
      "image/png": "[encoded data removed]",
      "text/plain": [
       "<matplotlib.figure.Figure at 0x7f5ad7dd35f8>"
      ]
     },
     "metadata": {},
     "output_type": "display_data"
    }
   ],
   "source": [
    "age_cat.plot(kind='bar')"
   ]
  },
  {
   "cell_type": "code",
   "execution_count": 54,
   "metadata": {},
   "outputs": [],
   "source": [
    "sys_cat = pd.pivot_table(df1, index = 'RiskLevel', columns = 'Sys Cat', values = 'SystolicBP')"
   ]
  },
  {
   "cell_type": "code",
   "execution_count": 65,
   "metadata": {},
   "outputs": [
    {
     "data": {
      "text/html": [
       "<div>\n",
       "<style scoped>\n",
       "    .dataframe tbody tr th:only-of-type {\n",
       "        vertical-align: middle;\n",
       "    }\n",
       "\n",
       "    .dataframe tbody tr th {\n",
       "        vertical-align: top;\n",
       "    }\n",
       "\n",
       "    .dataframe thead th {\n",
       "        text-align: right;\n",
       "    }\n",
       "</style>\n",
       "<table border=\"1\" class=\"dataframe\">\n",
       "  <thead>\n",
       "    <tr style=\"text-align: right;\">\n",
       "      <th>Sys Cat</th>\n",
       "      <th>High</th>\n",
       "      <th>Low</th>\n",
       "      <th>Normal</th>\n",
       "    </tr>\n",
       "    <tr>\n",
       "      <th>RiskLevel</th>\n",
       "      <th></th>\n",
       "      <th></th>\n",
       "      <th></th>\n",
       "    </tr>\n",
       "  </thead>\n",
       "  <tbody>\n",
       "    <tr>\n",
       "      <th>high risk</th>\n",
       "      <td>160.0</td>\n",
       "      <td>92.193548</td>\n",
       "      <td>132.325</td>\n",
       "    </tr>\n",
       "  </tbody>\n",
       "</table>\n",
       "</div>"
      ],
      "text/plain": [
       "Sys Cat    High          Low   Normal\n",
       "RiskLevel                            \n",
       "high risk   160.0  92.193548  132.325"
      ]
     },
     "execution_count": 65,
     "metadata": {},
     "output_type": "execute_result"
    }
   ],
   "source": [
    "sys_cat"
   ]
  },
  {
   "cell_type": "code",
   "execution_count": 56,
   "metadata": {},
   "outputs": [
    {
     "data": {
      "text/plain": [
       "<matplotlib.axes._subplots.AxesSubplot at 0x7f5acfb9ab70>"
      ]
     },
     "execution_count": 56,
     "metadata": {},
     "output_type": "execute_result"
    },
    {
     "data": {
      "image/png": "[encoded data removed]",
      "text/plain": [
       "<matplotlib.figure.Figure at 0x7f5acfbfe860>"
      ]
     },
     "metadata": {},
     "output_type": "display_data"
    }
   ],
   "source": [
    "sys_cat.plot(kind='bar')"
   ]
  },
  {
   "cell_type": "code",
   "execution_count": 57,
   "metadata": {},
   "outputs": [],
   "source": [
    "dia_cat = pd.pivot_table(df1, index = 'RiskLevel', columns = 'Dia Cat', values = 'DiastolicBP')"
   ]
  },
  {
   "cell_type": "code",
   "execution_count": 58,
   "metadata": {},
   "outputs": [
    {
     "data": {
      "text/plain": [
       "<matplotlib.axes._subplots.AxesSubplot at 0x7f5acfb70470>"
      ]
     },
     "execution_count": 58,
     "metadata": {},
     "output_type": "execute_result"
    },
    {
     "data": {
      "image/png": "[encoded data removed]",
      "text/plain": [
       "<matplotlib.figure.Figure at 0x7f5acfc115c0>"
      ]
     },
     "metadata": {},
     "output_type": "display_data"
    }
   ],
   "source": [
    "dia_cat.plot(kind='bar')"
   ]
  },
  {
   "cell_type": "code",
   "execution_count": 59,
   "metadata": {},
   "outputs": [],
   "source": [
    "bs_cat = pd.pivot_table(df1, index = 'RiskLevel', columns = 'BS Cat', values = 'BS')"
   ]
  },
  {
   "cell_type": "code",
   "execution_count": 60,
   "metadata": {},
   "outputs": [
    {
     "data": {
      "text/plain": [
       "<matplotlib.axes._subplots.AxesSubplot at 0x7f5acfae9dd8>"
      ]
     },
     "execution_count": 60,
     "metadata": {},
     "output_type": "execute_result"
    },
    {
     "data": {
      "image/png": "[encoded data removed]",
      "text/plain": [
       "<matplotlib.figure.Figure at 0x7f5acfb0f9b0>"
      ]
     },
     "metadata": {},
     "output_type": "display_data"
    }
   ],
   "source": [
    "bs_cat.plot(kind='bar')"
   ]
  },
  {
   "cell_type": "code",
   "execution_count": 61,
   "metadata": {},
   "outputs": [],
   "source": [
    "temp_cat = pd.pivot_table(df1, index = 'RiskLevel', columns = 'Temp Cat', values = 'BodyTemp')"
   ]
  },
  {
   "cell_type": "code",
   "execution_count": 62,
   "metadata": {},
   "outputs": [
    {
     "data": {
      "text/plain": [
       "<matplotlib.axes._subplots.AxesSubplot at 0x7f5acfa7a9b0>"
      ]
     },
     "execution_count": 62,
     "metadata": {},
     "output_type": "execute_result"
    },
    {
     "data": {
      "image/png": "[encoded data removed]",
      "text/plain": [
       "<matplotlib.figure.Figure at 0x7f5acfabe2b0>"
      ]
     },
     "metadata": {},
     "output_type": "display_data"
    }
   ],
   "source": [
    "temp_cat.plot(kind='bar')"
   ]
  },
  {
   "cell_type": "code",
   "execution_count": 63,
   "metadata": {},
   "outputs": [],
   "source": [
    "heart_cat = pd.pivot_table(df1, index = 'RiskLevel', columns = 'Heart Cat', values = 'HeartRate')"
   ]
  },
  {
   "cell_type": "code",
   "execution_count": 64,
   "metadata": {},
   "outputs": [
    {
     "data": {
      "text/plain": [
       "<matplotlib.axes._subplots.AxesSubplot at 0x7f5acfa31d30>"
      ]
     },
     "execution_count": 64,
     "metadata": {},
     "output_type": "execute_result"
    },
    {
     "data": {
      "image/png": "[encoded data removed]",
      "text/plain": [
       "<matplotlib.figure.Figure at 0x7f5acfa886d8>"
      ]
     },
     "metadata": {},
     "output_type": "display_data"
    }
   ],
   "source": [
    "heart_cat.plot(kind='bar')"
   ]
  },
  {
   "cell_type": "code",
   "execution_count": null,
   "metadata": {},
   "outputs": [],
   "source": [
    "df2 = df_cat[df_cat['RiskLevel'] == 'high risk']"
   ]
  }
 ],
 "metadata": {
  "kernelspec": {
   "display_name": "Python 3",
   "language": "python",
   "name": "python3"
  },
  "language_info": {
   "codemirror_mode": {
    "name": "ipython",
    "version": 3
   },
   "file_extension": ".py",
   "mimetype": "text/x-python",
   "name": "python",
   "nbconvert_exporter": "python",
   "pygments_lexer": "ipython3",
   "version": "3.6.9"
  }
 },
 "nbformat": 4,
 "nbformat_minor": 2
}
