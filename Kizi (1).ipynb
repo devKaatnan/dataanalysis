{
 "cells": [
  {
   "cell_type": "code",
   "execution_count": 83,
   "metadata": {},
   "outputs": [],
   "source": [
    "import matplotlib.pyplot as plt\n",
    "import pandas as pd"
   ]
  },
  {
   "cell_type": "code",
   "execution_count": 84,
   "metadata": {},
   "outputs": [],
   "source": [
    "df = pd.read_csv('/home/kaatnanret/Desktop/Maternal_Health_Risk_Data_Set.csv')"
   ]
  },
  {
   "cell_type": "code",
   "execution_count": 85,
   "metadata": {},
   "outputs": [
    {
     "data": {
      "text/html": [
       "<div>\n",
       "<style scoped>\n",
       "    .dataframe tbody tr th:only-of-type {\n",
       "        vertical-align: middle;\n",
       "    }\n",
       "\n",
       "    .dataframe tbody tr th {\n",
       "        vertical-align: top;\n",
       "    }\n",
       "\n",
       "    .dataframe thead th {\n",
       "        text-align: right;\n",
       "    }\n",
       "</style>\n",
       "<table border=\"1\" class=\"dataframe\">\n",
       "  <thead>\n",
       "    <tr style=\"text-align: right;\">\n",
       "      <th></th>\n",
       "      <th>Age</th>\n",
       "      <th>SystolicBP</th>\n",
       "      <th>DiastolicBP</th>\n",
       "      <th>BS</th>\n",
       "      <th>BodyTemp</th>\n",
       "      <th>HeartRate</th>\n",
       "      <th>RiskLevel</th>\n",
       "    </tr>\n",
       "  </thead>\n",
       "  <tbody>\n",
       "    <tr>\n",
       "      <th>0</th>\n",
       "      <td>25</td>\n",
       "      <td>130</td>\n",
       "      <td>80</td>\n",
       "      <td>15.0</td>\n",
       "      <td>98.0</td>\n",
       "      <td>86</td>\n",
       "      <td>high risk</td>\n",
       "    </tr>\n",
       "    <tr>\n",
       "      <th>1</th>\n",
       "      <td>35</td>\n",
       "      <td>140</td>\n",
       "      <td>90</td>\n",
       "      <td>13.0</td>\n",
       "      <td>98.0</td>\n",
       "      <td>70</td>\n",
       "      <td>high risk</td>\n",
       "    </tr>\n",
       "    <tr>\n",
       "      <th>2</th>\n",
       "      <td>29</td>\n",
       "      <td>90</td>\n",
       "      <td>70</td>\n",
       "      <td>8.0</td>\n",
       "      <td>100.0</td>\n",
       "      <td>80</td>\n",
       "      <td>high risk</td>\n",
       "    </tr>\n",
       "    <tr>\n",
       "      <th>3</th>\n",
       "      <td>30</td>\n",
       "      <td>140</td>\n",
       "      <td>85</td>\n",
       "      <td>7.0</td>\n",
       "      <td>98.0</td>\n",
       "      <td>70</td>\n",
       "      <td>high risk</td>\n",
       "    </tr>\n",
       "    <tr>\n",
       "      <th>4</th>\n",
       "      <td>35</td>\n",
       "      <td>120</td>\n",
       "      <td>60</td>\n",
       "      <td>6.1</td>\n",
       "      <td>98.0</td>\n",
       "      <td>76</td>\n",
       "      <td>low risk</td>\n",
       "    </tr>\n",
       "  </tbody>\n",
       "</table>\n",
       "</div>"
      ],
      "text/plain": [
       "   Age  SystolicBP  DiastolicBP    BS  BodyTemp  HeartRate  RiskLevel\n",
       "0   25         130           80  15.0      98.0         86  high risk\n",
       "1   35         140           90  13.0      98.0         70  high risk\n",
       "2   29          90           70   8.0     100.0         80  high risk\n",
       "3   30         140           85   7.0      98.0         70  high risk\n",
       "4   35         120           60   6.1      98.0         76   low risk"
      ]
     },
     "execution_count": 85,
     "metadata": {},
     "output_type": "execute_result"
    }
   ],
   "source": [
    "df.head()"
   ]
  },
  {
   "cell_type": "code",
   "execution_count": 86,
   "metadata": {},
   "outputs": [
    {
     "name": "stdout",
     "output_type": "stream",
     "text": [
      "<class 'pandas.core.frame.DataFrame'>\n",
      "RangeIndex: 1014 entries, 0 to 1013\n",
      "Data columns (total 7 columns):\n",
      "Age            1014 non-null int64\n",
      "SystolicBP     1014 non-null int64\n",
      "DiastolicBP    1014 non-null int64\n",
      "BS             1014 non-null float64\n",
      "BodyTemp       1014 non-null float64\n",
      "HeartRate      1014 non-null int64\n",
      "RiskLevel      1014 non-null object\n",
      "dtypes: float64(2), int64(4), object(1)\n",
      "memory usage: 55.5+ KB\n"
     ]
    }
   ],
   "source": [
    "df.info()"
   ]
  },
  {
   "cell_type": "code",
   "execution_count": 87,
   "metadata": {},
   "outputs": [
    {
     "data": {
      "text/plain": [
       "15.0"
      ]
     },
     "execution_count": 87,
     "metadata": {},
     "output_type": "execute_result"
    }
   ],
   "source": [
    "df['BS'][0]"
   ]
  },
  {
   "cell_type": "code",
   "execution_count": 88,
   "metadata": {},
   "outputs": [
    {
     "data": {
      "text/plain": [
       "1014"
      ]
     },
     "execution_count": 88,
     "metadata": {},
     "output_type": "execute_result"
    }
   ],
   "source": [
    "len(df)"
   ]
  },
  {
   "cell_type": "code",
   "execution_count": 89,
   "metadata": {},
   "outputs": [],
   "source": [
    "#insert new empty column to categorize  at index 4 thats after the BS column\n",
    "df.insert(4,'BS Cat', '')"
   ]
  },
  {
   "cell_type": "code",
   "execution_count": 90,
   "metadata": {},
   "outputs": [],
   "source": [
    "#inserts value based on the BS column\n",
    "for i in range(len(df)):\n",
    "    if df.at[i,'BS'] < 7:\n",
    "        df.at[i,'BS Cat'] = 'Low'\n",
    "    elif df.at[i,'BS'] >= 7 and df['BS'][i] <= 10:\n",
    "        df.at[i,'BS Cat'] = 'Normal'\n",
    "    else:\n",
    "        df.at[i,'BS Cat'] = 'High'"
   ]
  },
  {
   "cell_type": "code",
   "execution_count": 91,
   "metadata": {},
   "outputs": [
    {
     "data": {
      "text/html": [
       "<div>\n",
       "<style scoped>\n",
       "    .dataframe tbody tr th:only-of-type {\n",
       "        vertical-align: middle;\n",
       "    }\n",
       "\n",
       "    .dataframe tbody tr th {\n",
       "        vertical-align: top;\n",
       "    }\n",
       "\n",
       "    .dataframe thead th {\n",
       "        text-align: right;\n",
       "    }\n",
       "</style>\n",
       "<table border=\"1\" class=\"dataframe\">\n",
       "  <thead>\n",
       "    <tr style=\"text-align: right;\">\n",
       "      <th></th>\n",
       "      <th>Age</th>\n",
       "      <th>SystolicBP</th>\n",
       "      <th>DiastolicBP</th>\n",
       "      <th>BS</th>\n",
       "      <th>BS Cat</th>\n",
       "      <th>BodyTemp</th>\n",
       "      <th>HeartRate</th>\n",
       "      <th>RiskLevel</th>\n",
       "    </tr>\n",
       "  </thead>\n",
       "  <tbody>\n",
       "    <tr>\n",
       "      <th>0</th>\n",
       "      <td>25</td>\n",
       "      <td>130</td>\n",
       "      <td>80</td>\n",
       "      <td>15.0</td>\n",
       "      <td>High</td>\n",
       "      <td>98.0</td>\n",
       "      <td>86</td>\n",
       "      <td>high risk</td>\n",
       "    </tr>\n",
       "    <tr>\n",
       "      <th>1</th>\n",
       "      <td>35</td>\n",
       "      <td>140</td>\n",
       "      <td>90</td>\n",
       "      <td>13.0</td>\n",
       "      <td>High</td>\n",
       "      <td>98.0</td>\n",
       "      <td>70</td>\n",
       "      <td>high risk</td>\n",
       "    </tr>\n",
       "    <tr>\n",
       "      <th>2</th>\n",
       "      <td>29</td>\n",
       "      <td>90</td>\n",
       "      <td>70</td>\n",
       "      <td>8.0</td>\n",
       "      <td>Normal</td>\n",
       "      <td>100.0</td>\n",
       "      <td>80</td>\n",
       "      <td>high risk</td>\n",
       "    </tr>\n",
       "    <tr>\n",
       "      <th>3</th>\n",
       "      <td>30</td>\n",
       "      <td>140</td>\n",
       "      <td>85</td>\n",
       "      <td>7.0</td>\n",
       "      <td>Normal</td>\n",
       "      <td>98.0</td>\n",
       "      <td>70</td>\n",
       "      <td>high risk</td>\n",
       "    </tr>\n",
       "    <tr>\n",
       "      <th>4</th>\n",
       "      <td>35</td>\n",
       "      <td>120</td>\n",
       "      <td>60</td>\n",
       "      <td>6.1</td>\n",
       "      <td>Low</td>\n",
       "      <td>98.0</td>\n",
       "      <td>76</td>\n",
       "      <td>low risk</td>\n",
       "    </tr>\n",
       "  </tbody>\n",
       "</table>\n",
       "</div>"
      ],
      "text/plain": [
       "   Age  SystolicBP  DiastolicBP    BS  BS Cat  BodyTemp  HeartRate  RiskLevel\n",
       "0   25         130           80  15.0    High      98.0         86  high risk\n",
       "1   35         140           90  13.0    High      98.0         70  high risk\n",
       "2   29          90           70   8.0  Normal     100.0         80  high risk\n",
       "3   30         140           85   7.0  Normal      98.0         70  high risk\n",
       "4   35         120           60   6.1     Low      98.0         76   low risk"
      ]
     },
     "execution_count": 91,
     "metadata": {},
     "output_type": "execute_result"
    }
   ],
   "source": [
    "df.head()"
   ]
  },
  {
   "cell_type": "code",
   "execution_count": 92,
   "metadata": {},
   "outputs": [
    {
     "data": {
      "text/plain": [
       "array(['High', 'Normal', 'Low'], dtype=object)"
      ]
     },
     "execution_count": 92,
     "metadata": {},
     "output_type": "execute_result"
    }
   ],
   "source": [
    "df['BS Cat'].unique()"
   ]
  },
  {
   "cell_type": "code",
   "execution_count": 93,
   "metadata": {},
   "outputs": [
    {
     "data": {
      "text/plain": [
       "Normal    485\n",
       "Low       323\n",
       "High      206\n",
       "Name: BS Cat, dtype: int64"
      ]
     },
     "execution_count": 93,
     "metadata": {},
     "output_type": "execute_result"
    }
   ],
   "source": [
    "df['BS Cat'].value_counts()"
   ]
  },
  {
   "cell_type": "code",
   "execution_count": 94,
   "metadata": {},
   "outputs": [],
   "source": [
    "counts_bsc = df['BS Cat'].value_counts()"
   ]
  },
  {
   "cell_type": "code",
   "execution_count": 95,
   "metadata": {},
   "outputs": [
    {
     "data": {
      "image/png": "[encoded data removed]",
      "text/plain": [
       "<matplotlib.figure.Figure at 0x7fe0f3a1e2b0>"
      ]
     },
     "metadata": {},
     "output_type": "display_data"
    }
   ],
   "source": [
    "plt.bar(counts_bsc.index, counts_bsc.values)\n",
    "plt.xlabel('Categories')\n",
    "plt.ylabel('Count')\n",
    "plt.title('Value Counts of Categories')\n",
    "plt.show()"
   ]
  },
  {
   "cell_type": "code",
   "execution_count": 96,
   "metadata": {},
   "outputs": [],
   "source": [
    "df.insert(1,'Age Cat', '')"
   ]
  },
  {
   "cell_type": "code",
   "execution_count": 97,
   "metadata": {},
   "outputs": [],
   "source": [
    "for i in range(len(df)):\n",
    "    if df.at[i,'Age'] < 20:\n",
    "        df.at[i,'Age Cat'] = 'Teenage Pregnancy'\n",
    "    elif df.at[i,'Age'] >= 20 and df['Age'][i] <= 35:\n",
    "        df.at[i,'Age Cat'] = 'Normal Maternal Age'\n",
    "    else:\n",
    "        df.at[i,'Age Cat'] = 'Advanced Maternal Age'"
   ]
  },
  {
   "cell_type": "code",
   "execution_count": 98,
   "metadata": {},
   "outputs": [
    {
     "data": {
      "text/plain": [
       "array(['Normal Maternal Age', 'Advanced Maternal Age',\n",
       "       'Teenage Pregnancy'], dtype=object)"
      ]
     },
     "execution_count": 98,
     "metadata": {},
     "output_type": "execute_result"
    }
   ],
   "source": [
    "df['Age Cat'].unique()"
   ]
  },
  {
   "cell_type": "code",
   "execution_count": 99,
   "metadata": {},
   "outputs": [
    {
     "data": {
      "text/html": [
       "<div>\n",
       "<style scoped>\n",
       "    .dataframe tbody tr th:only-of-type {\n",
       "        vertical-align: middle;\n",
       "    }\n",
       "\n",
       "    .dataframe tbody tr th {\n",
       "        vertical-align: top;\n",
       "    }\n",
       "\n",
       "    .dataframe thead th {\n",
       "        text-align: right;\n",
       "    }\n",
       "</style>\n",
       "<table border=\"1\" class=\"dataframe\">\n",
       "  <thead>\n",
       "    <tr style=\"text-align: right;\">\n",
       "      <th></th>\n",
       "      <th>Age</th>\n",
       "      <th>Age Cat</th>\n",
       "      <th>SystolicBP</th>\n",
       "      <th>DiastolicBP</th>\n",
       "      <th>BS</th>\n",
       "      <th>BS Cat</th>\n",
       "      <th>BodyTemp</th>\n",
       "      <th>HeartRate</th>\n",
       "      <th>RiskLevel</th>\n",
       "    </tr>\n",
       "  </thead>\n",
       "  <tbody>\n",
       "    <tr>\n",
       "      <th>0</th>\n",
       "      <td>25</td>\n",
       "      <td>Normal Maternal Age</td>\n",
       "      <td>130</td>\n",
       "      <td>80</td>\n",
       "      <td>15.00</td>\n",
       "      <td>High</td>\n",
       "      <td>98.0</td>\n",
       "      <td>86</td>\n",
       "      <td>high risk</td>\n",
       "    </tr>\n",
       "    <tr>\n",
       "      <th>1</th>\n",
       "      <td>35</td>\n",
       "      <td>Normal Maternal Age</td>\n",
       "      <td>140</td>\n",
       "      <td>90</td>\n",
       "      <td>13.00</td>\n",
       "      <td>High</td>\n",
       "      <td>98.0</td>\n",
       "      <td>70</td>\n",
       "      <td>high risk</td>\n",
       "    </tr>\n",
       "    <tr>\n",
       "      <th>2</th>\n",
       "      <td>29</td>\n",
       "      <td>Normal Maternal Age</td>\n",
       "      <td>90</td>\n",
       "      <td>70</td>\n",
       "      <td>8.00</td>\n",
       "      <td>Normal</td>\n",
       "      <td>100.0</td>\n",
       "      <td>80</td>\n",
       "      <td>high risk</td>\n",
       "    </tr>\n",
       "    <tr>\n",
       "      <th>3</th>\n",
       "      <td>30</td>\n",
       "      <td>Normal Maternal Age</td>\n",
       "      <td>140</td>\n",
       "      <td>85</td>\n",
       "      <td>7.00</td>\n",
       "      <td>Normal</td>\n",
       "      <td>98.0</td>\n",
       "      <td>70</td>\n",
       "      <td>high risk</td>\n",
       "    </tr>\n",
       "    <tr>\n",
       "      <th>4</th>\n",
       "      <td>35</td>\n",
       "      <td>Normal Maternal Age</td>\n",
       "      <td>120</td>\n",
       "      <td>60</td>\n",
       "      <td>6.10</td>\n",
       "      <td>Low</td>\n",
       "      <td>98.0</td>\n",
       "      <td>76</td>\n",
       "      <td>low risk</td>\n",
       "    </tr>\n",
       "    <tr>\n",
       "      <th>5</th>\n",
       "      <td>23</td>\n",
       "      <td>Normal Maternal Age</td>\n",
       "      <td>140</td>\n",
       "      <td>80</td>\n",
       "      <td>7.01</td>\n",
       "      <td>Normal</td>\n",
       "      <td>98.0</td>\n",
       "      <td>70</td>\n",
       "      <td>high risk</td>\n",
       "    </tr>\n",
       "    <tr>\n",
       "      <th>6</th>\n",
       "      <td>23</td>\n",
       "      <td>Normal Maternal Age</td>\n",
       "      <td>130</td>\n",
       "      <td>70</td>\n",
       "      <td>7.01</td>\n",
       "      <td>Normal</td>\n",
       "      <td>98.0</td>\n",
       "      <td>78</td>\n",
       "      <td>mid risk</td>\n",
       "    </tr>\n",
       "    <tr>\n",
       "      <th>7</th>\n",
       "      <td>35</td>\n",
       "      <td>Normal Maternal Age</td>\n",
       "      <td>85</td>\n",
       "      <td>60</td>\n",
       "      <td>11.00</td>\n",
       "      <td>High</td>\n",
       "      <td>102.0</td>\n",
       "      <td>86</td>\n",
       "      <td>high risk</td>\n",
       "    </tr>\n",
       "    <tr>\n",
       "      <th>8</th>\n",
       "      <td>32</td>\n",
       "      <td>Normal Maternal Age</td>\n",
       "      <td>120</td>\n",
       "      <td>90</td>\n",
       "      <td>6.90</td>\n",
       "      <td>Low</td>\n",
       "      <td>98.0</td>\n",
       "      <td>70</td>\n",
       "      <td>mid risk</td>\n",
       "    </tr>\n",
       "    <tr>\n",
       "      <th>9</th>\n",
       "      <td>42</td>\n",
       "      <td>Advanced Maternal Age</td>\n",
       "      <td>130</td>\n",
       "      <td>80</td>\n",
       "      <td>18.00</td>\n",
       "      <td>High</td>\n",
       "      <td>98.0</td>\n",
       "      <td>70</td>\n",
       "      <td>high risk</td>\n",
       "    </tr>\n",
       "  </tbody>\n",
       "</table>\n",
       "</div>"
      ],
      "text/plain": [
       "   Age                Age Cat  SystolicBP  DiastolicBP     BS  BS Cat  \\\n",
       "0   25    Normal Maternal Age         130           80  15.00    High   \n",
       "1   35    Normal Maternal Age         140           90  13.00    High   \n",
       "2   29    Normal Maternal Age          90           70   8.00  Normal   \n",
       "3   30    Normal Maternal Age         140           85   7.00  Normal   \n",
       "4   35    Normal Maternal Age         120           60   6.10     Low   \n",
       "5   23    Normal Maternal Age         140           80   7.01  Normal   \n",
       "6   23    Normal Maternal Age         130           70   7.01  Normal   \n",
       "7   35    Normal Maternal Age          85           60  11.00    High   \n",
       "8   32    Normal Maternal Age         120           90   6.90     Low   \n",
       "9   42  Advanced Maternal Age         130           80  18.00    High   \n",
       "\n",
       "   BodyTemp  HeartRate  RiskLevel  \n",
       "0      98.0         86  high risk  \n",
       "1      98.0         70  high risk  \n",
       "2     100.0         80  high risk  \n",
       "3      98.0         70  high risk  \n",
       "4      98.0         76   low risk  \n",
       "5      98.0         70  high risk  \n",
       "6      98.0         78   mid risk  \n",
       "7     102.0         86  high risk  \n",
       "8      98.0         70   mid risk  \n",
       "9      98.0         70  high risk  "
      ]
     },
     "execution_count": 99,
     "metadata": {},
     "output_type": "execute_result"
    }
   ],
   "source": [
    "df.head(10)"
   ]
  },
  {
   "cell_type": "code",
   "execution_count": 100,
   "metadata": {},
   "outputs": [],
   "source": [
    "df.insert(3,'Sys Cat', '')"
   ]
  },
  {
   "cell_type": "code",
   "execution_count": 101,
   "metadata": {},
   "outputs": [],
   "source": [
    "for i in range(len(df)):\n",
    "    if df.at[i,'SystolicBP'] < 120:\n",
    "        df.at[i,'Sys Cat'] = 'Low'\n",
    "    elif df.at[i,'SystolicBP'] >= 120 and df['SystolicBP'][i] <= 140:\n",
    "        df.at[i,'Sys Cat'] = 'Normal'\n",
    "    else:\n",
    "        df.at[i,'Sys Cat'] = 'High  '"
   ]
  },
  {
   "cell_type": "code",
   "execution_count": 102,
   "metadata": {},
   "outputs": [
    {
     "data": {
      "text/html": [
       "<div>\n",
       "<style scoped>\n",
       "    .dataframe tbody tr th:only-of-type {\n",
       "        vertical-align: middle;\n",
       "    }\n",
       "\n",
       "    .dataframe tbody tr th {\n",
       "        vertical-align: top;\n",
       "    }\n",
       "\n",
       "    .dataframe thead th {\n",
       "        text-align: right;\n",
       "    }\n",
       "</style>\n",
       "<table border=\"1\" class=\"dataframe\">\n",
       "  <thead>\n",
       "    <tr style=\"text-align: right;\">\n",
       "      <th></th>\n",
       "      <th>Age</th>\n",
       "      <th>Age Cat</th>\n",
       "      <th>SystolicBP</th>\n",
       "      <th>Sys Cat</th>\n",
       "      <th>DiastolicBP</th>\n",
       "      <th>BS</th>\n",
       "      <th>BS Cat</th>\n",
       "      <th>BodyTemp</th>\n",
       "      <th>HeartRate</th>\n",
       "      <th>RiskLevel</th>\n",
       "    </tr>\n",
       "  </thead>\n",
       "  <tbody>\n",
       "    <tr>\n",
       "      <th>0</th>\n",
       "      <td>25</td>\n",
       "      <td>Normal Maternal Age</td>\n",
       "      <td>130</td>\n",
       "      <td>Normal</td>\n",
       "      <td>80</td>\n",
       "      <td>15.00</td>\n",
       "      <td>High</td>\n",
       "      <td>98.0</td>\n",
       "      <td>86</td>\n",
       "      <td>high risk</td>\n",
       "    </tr>\n",
       "    <tr>\n",
       "      <th>1</th>\n",
       "      <td>35</td>\n",
       "      <td>Normal Maternal Age</td>\n",
       "      <td>140</td>\n",
       "      <td>Normal</td>\n",
       "      <td>90</td>\n",
       "      <td>13.00</td>\n",
       "      <td>High</td>\n",
       "      <td>98.0</td>\n",
       "      <td>70</td>\n",
       "      <td>high risk</td>\n",
       "    </tr>\n",
       "    <tr>\n",
       "      <th>2</th>\n",
       "      <td>29</td>\n",
       "      <td>Normal Maternal Age</td>\n",
       "      <td>90</td>\n",
       "      <td>Low</td>\n",
       "      <td>70</td>\n",
       "      <td>8.00</td>\n",
       "      <td>Normal</td>\n",
       "      <td>100.0</td>\n",
       "      <td>80</td>\n",
       "      <td>high risk</td>\n",
       "    </tr>\n",
       "    <tr>\n",
       "      <th>3</th>\n",
       "      <td>30</td>\n",
       "      <td>Normal Maternal Age</td>\n",
       "      <td>140</td>\n",
       "      <td>Normal</td>\n",
       "      <td>85</td>\n",
       "      <td>7.00</td>\n",
       "      <td>Normal</td>\n",
       "      <td>98.0</td>\n",
       "      <td>70</td>\n",
       "      <td>high risk</td>\n",
       "    </tr>\n",
       "    <tr>\n",
       "      <th>4</th>\n",
       "      <td>35</td>\n",
       "      <td>Normal Maternal Age</td>\n",
       "      <td>120</td>\n",
       "      <td>Normal</td>\n",
       "      <td>60</td>\n",
       "      <td>6.10</td>\n",
       "      <td>Low</td>\n",
       "      <td>98.0</td>\n",
       "      <td>76</td>\n",
       "      <td>low risk</td>\n",
       "    </tr>\n",
       "    <tr>\n",
       "      <th>5</th>\n",
       "      <td>23</td>\n",
       "      <td>Normal Maternal Age</td>\n",
       "      <td>140</td>\n",
       "      <td>Normal</td>\n",
       "      <td>80</td>\n",
       "      <td>7.01</td>\n",
       "      <td>Normal</td>\n",
       "      <td>98.0</td>\n",
       "      <td>70</td>\n",
       "      <td>high risk</td>\n",
       "    </tr>\n",
       "    <tr>\n",
       "      <th>6</th>\n",
       "      <td>23</td>\n",
       "      <td>Normal Maternal Age</td>\n",
       "      <td>130</td>\n",
       "      <td>Normal</td>\n",
       "      <td>70</td>\n",
       "      <td>7.01</td>\n",
       "      <td>Normal</td>\n",
       "      <td>98.0</td>\n",
       "      <td>78</td>\n",
       "      <td>mid risk</td>\n",
       "    </tr>\n",
       "    <tr>\n",
       "      <th>7</th>\n",
       "      <td>35</td>\n",
       "      <td>Normal Maternal Age</td>\n",
       "      <td>85</td>\n",
       "      <td>Low</td>\n",
       "      <td>60</td>\n",
       "      <td>11.00</td>\n",
       "      <td>High</td>\n",
       "      <td>102.0</td>\n",
       "      <td>86</td>\n",
       "      <td>high risk</td>\n",
       "    </tr>\n",
       "    <tr>\n",
       "      <th>8</th>\n",
       "      <td>32</td>\n",
       "      <td>Normal Maternal Age</td>\n",
       "      <td>120</td>\n",
       "      <td>Normal</td>\n",
       "      <td>90</td>\n",
       "      <td>6.90</td>\n",
       "      <td>Low</td>\n",
       "      <td>98.0</td>\n",
       "      <td>70</td>\n",
       "      <td>mid risk</td>\n",
       "    </tr>\n",
       "    <tr>\n",
       "      <th>9</th>\n",
       "      <td>42</td>\n",
       "      <td>Advanced Maternal Age</td>\n",
       "      <td>130</td>\n",
       "      <td>Normal</td>\n",
       "      <td>80</td>\n",
       "      <td>18.00</td>\n",
       "      <td>High</td>\n",
       "      <td>98.0</td>\n",
       "      <td>70</td>\n",
       "      <td>high risk</td>\n",
       "    </tr>\n",
       "  </tbody>\n",
       "</table>\n",
       "</div>"
      ],
      "text/plain": [
       "   Age                Age Cat  SystolicBP Sys Cat  DiastolicBP     BS  BS Cat  \\\n",
       "0   25    Normal Maternal Age         130  Normal           80  15.00    High   \n",
       "1   35    Normal Maternal Age         140  Normal           90  13.00    High   \n",
       "2   29    Normal Maternal Age          90     Low           70   8.00  Normal   \n",
       "3   30    Normal Maternal Age         140  Normal           85   7.00  Normal   \n",
       "4   35    Normal Maternal Age         120  Normal           60   6.10     Low   \n",
       "5   23    Normal Maternal Age         140  Normal           80   7.01  Normal   \n",
       "6   23    Normal Maternal Age         130  Normal           70   7.01  Normal   \n",
       "7   35    Normal Maternal Age          85     Low           60  11.00    High   \n",
       "8   32    Normal Maternal Age         120  Normal           90   6.90     Low   \n",
       "9   42  Advanced Maternal Age         130  Normal           80  18.00    High   \n",
       "\n",
       "   BodyTemp  HeartRate  RiskLevel  \n",
       "0      98.0         86  high risk  \n",
       "1      98.0         70  high risk  \n",
       "2     100.0         80  high risk  \n",
       "3      98.0         70  high risk  \n",
       "4      98.0         76   low risk  \n",
       "5      98.0         70  high risk  \n",
       "6      98.0         78   mid risk  \n",
       "7     102.0         86  high risk  \n",
       "8      98.0         70   mid risk  \n",
       "9      98.0         70  high risk  "
      ]
     },
     "execution_count": 102,
     "metadata": {},
     "output_type": "execute_result"
    }
   ],
   "source": [
    "df.head(10)"
   ]
  },
  {
   "cell_type": "code",
   "execution_count": 239,
   "metadata": {},
   "outputs": [],
   "source": [
    "for i in range(len(df)):\n",
    "    if df.at[i,'DiastolicBP'] < 70:\n",
    "        df.at[i,'Dia Cat'] = 'Low'\n",
    "    elif df.at[i,'DiastolicBP'] >= 70 and df['DiastolicBP'][i] <= 90:\n",
    "        df.at[i,'Dia Cat'] = 'Normal'\n",
    "    else:\n",
    "        df.at[i,'Dia Cat'] = 'High  '"
   ]
  },
  {
   "cell_type": "code",
   "execution_count": 240,
   "metadata": {
    "scrolled": true
   },
   "outputs": [
    {
     "data": {
      "text/html": [
       "<div>\n",
       "<style scoped>\n",
       "    .dataframe tbody tr th:only-of-type {\n",
       "        vertical-align: middle;\n",
       "    }\n",
       "\n",
       "    .dataframe tbody tr th {\n",
       "        vertical-align: top;\n",
       "    }\n",
       "\n",
       "    .dataframe thead th {\n",
       "        text-align: right;\n",
       "    }\n",
       "</style>\n",
       "<table border=\"1\" class=\"dataframe\">\n",
       "  <thead>\n",
       "    <tr style=\"text-align: right;\">\n",
       "      <th></th>\n",
       "      <th>Age</th>\n",
       "      <th>Age Cat</th>\n",
       "      <th>SystolicBP</th>\n",
       "      <th>Sys Cat</th>\n",
       "      <th>DiastolicBP</th>\n",
       "      <th>BS</th>\n",
       "      <th>BS Cat</th>\n",
       "      <th>BodyTemp</th>\n",
       "      <th>HeartRate</th>\n",
       "      <th>Temp Cat</th>\n",
       "      <th>RiskLevel</th>\n",
       "      <th>Heart Cat</th>\n",
       "      <th>Dia Cat</th>\n",
       "    </tr>\n",
       "  </thead>\n",
       "  <tbody>\n",
       "    <tr>\n",
       "      <th>0</th>\n",
       "      <td>25</td>\n",
       "      <td>Normal Maternal Age</td>\n",
       "      <td>130</td>\n",
       "      <td>Normal</td>\n",
       "      <td>80</td>\n",
       "      <td>15.00</td>\n",
       "      <td>High</td>\n",
       "      <td>98.0</td>\n",
       "      <td>86</td>\n",
       "      <td>Normal</td>\n",
       "      <td>high risk</td>\n",
       "      <td>Normal</td>\n",
       "      <td>Normal</td>\n",
       "    </tr>\n",
       "    <tr>\n",
       "      <th>1</th>\n",
       "      <td>35</td>\n",
       "      <td>Normal Maternal Age</td>\n",
       "      <td>140</td>\n",
       "      <td>Normal</td>\n",
       "      <td>90</td>\n",
       "      <td>13.00</td>\n",
       "      <td>High</td>\n",
       "      <td>98.0</td>\n",
       "      <td>70</td>\n",
       "      <td>Normal</td>\n",
       "      <td>high risk</td>\n",
       "      <td>Normal</td>\n",
       "      <td>Normal</td>\n",
       "    </tr>\n",
       "    <tr>\n",
       "      <th>2</th>\n",
       "      <td>29</td>\n",
       "      <td>Normal Maternal Age</td>\n",
       "      <td>90</td>\n",
       "      <td>Low</td>\n",
       "      <td>70</td>\n",
       "      <td>8.00</td>\n",
       "      <td>Normal</td>\n",
       "      <td>100.0</td>\n",
       "      <td>80</td>\n",
       "      <td>High</td>\n",
       "      <td>high risk</td>\n",
       "      <td>Normal</td>\n",
       "      <td>Normal</td>\n",
       "    </tr>\n",
       "    <tr>\n",
       "      <th>3</th>\n",
       "      <td>30</td>\n",
       "      <td>Normal Maternal Age</td>\n",
       "      <td>140</td>\n",
       "      <td>Normal</td>\n",
       "      <td>85</td>\n",
       "      <td>7.00</td>\n",
       "      <td>Normal</td>\n",
       "      <td>98.0</td>\n",
       "      <td>70</td>\n",
       "      <td>Normal</td>\n",
       "      <td>high risk</td>\n",
       "      <td>Normal</td>\n",
       "      <td>Normal</td>\n",
       "    </tr>\n",
       "    <tr>\n",
       "      <th>4</th>\n",
       "      <td>35</td>\n",
       "      <td>Normal Maternal Age</td>\n",
       "      <td>120</td>\n",
       "      <td>Normal</td>\n",
       "      <td>60</td>\n",
       "      <td>6.10</td>\n",
       "      <td>Low</td>\n",
       "      <td>98.0</td>\n",
       "      <td>76</td>\n",
       "      <td>Normal</td>\n",
       "      <td>low risk</td>\n",
       "      <td>Normal</td>\n",
       "      <td>Low</td>\n",
       "    </tr>\n",
       "    <tr>\n",
       "      <th>5</th>\n",
       "      <td>23</td>\n",
       "      <td>Normal Maternal Age</td>\n",
       "      <td>140</td>\n",
       "      <td>Normal</td>\n",
       "      <td>80</td>\n",
       "      <td>7.01</td>\n",
       "      <td>Normal</td>\n",
       "      <td>98.0</td>\n",
       "      <td>70</td>\n",
       "      <td>Normal</td>\n",
       "      <td>high risk</td>\n",
       "      <td>Normal</td>\n",
       "      <td>Normal</td>\n",
       "    </tr>\n",
       "    <tr>\n",
       "      <th>6</th>\n",
       "      <td>23</td>\n",
       "      <td>Normal Maternal Age</td>\n",
       "      <td>130</td>\n",
       "      <td>Normal</td>\n",
       "      <td>70</td>\n",
       "      <td>7.01</td>\n",
       "      <td>Normal</td>\n",
       "      <td>98.0</td>\n",
       "      <td>78</td>\n",
       "      <td>Normal</td>\n",
       "      <td>mid risk</td>\n",
       "      <td>Normal</td>\n",
       "      <td>Normal</td>\n",
       "    </tr>\n",
       "    <tr>\n",
       "      <th>7</th>\n",
       "      <td>35</td>\n",
       "      <td>Normal Maternal Age</td>\n",
       "      <td>85</td>\n",
       "      <td>Low</td>\n",
       "      <td>60</td>\n",
       "      <td>11.00</td>\n",
       "      <td>High</td>\n",
       "      <td>102.0</td>\n",
       "      <td>86</td>\n",
       "      <td>High</td>\n",
       "      <td>high risk</td>\n",
       "      <td>Normal</td>\n",
       "      <td>Low</td>\n",
       "    </tr>\n",
       "    <tr>\n",
       "      <th>8</th>\n",
       "      <td>32</td>\n",
       "      <td>Normal Maternal Age</td>\n",
       "      <td>120</td>\n",
       "      <td>Normal</td>\n",
       "      <td>90</td>\n",
       "      <td>6.90</td>\n",
       "      <td>Low</td>\n",
       "      <td>98.0</td>\n",
       "      <td>70</td>\n",
       "      <td>Normal</td>\n",
       "      <td>mid risk</td>\n",
       "      <td>Normal</td>\n",
       "      <td>Normal</td>\n",
       "    </tr>\n",
       "    <tr>\n",
       "      <th>9</th>\n",
       "      <td>42</td>\n",
       "      <td>Advanced Maternal Age</td>\n",
       "      <td>130</td>\n",
       "      <td>Normal</td>\n",
       "      <td>80</td>\n",
       "      <td>18.00</td>\n",
       "      <td>High</td>\n",
       "      <td>98.0</td>\n",
       "      <td>70</td>\n",
       "      <td>Normal</td>\n",
       "      <td>high risk</td>\n",
       "      <td>Normal</td>\n",
       "      <td>Normal</td>\n",
       "    </tr>\n",
       "  </tbody>\n",
       "</table>\n",
       "</div>"
      ],
      "text/plain": [
       "   Age                Age Cat  SystolicBP Sys Cat  DiastolicBP     BS  BS Cat  \\\n",
       "0   25    Normal Maternal Age         130  Normal           80  15.00    High   \n",
       "1   35    Normal Maternal Age         140  Normal           90  13.00    High   \n",
       "2   29    Normal Maternal Age          90     Low           70   8.00  Normal   \n",
       "3   30    Normal Maternal Age         140  Normal           85   7.00  Normal   \n",
       "4   35    Normal Maternal Age         120  Normal           60   6.10     Low   \n",
       "5   23    Normal Maternal Age         140  Normal           80   7.01  Normal   \n",
       "6   23    Normal Maternal Age         130  Normal           70   7.01  Normal   \n",
       "7   35    Normal Maternal Age          85     Low           60  11.00    High   \n",
       "8   32    Normal Maternal Age         120  Normal           90   6.90     Low   \n",
       "9   42  Advanced Maternal Age         130  Normal           80  18.00    High   \n",
       "\n",
       "   BodyTemp  HeartRate Temp Cat  RiskLevel Heart Cat Dia Cat  \n",
       "0      98.0         86   Normal  high risk    Normal  Normal  \n",
       "1      98.0         70   Normal  high risk    Normal  Normal  \n",
       "2     100.0         80   High    high risk    Normal  Normal  \n",
       "3      98.0         70   Normal  high risk    Normal  Normal  \n",
       "4      98.0         76   Normal   low risk    Normal     Low  \n",
       "5      98.0         70   Normal  high risk    Normal  Normal  \n",
       "6      98.0         78   Normal   mid risk    Normal  Normal  \n",
       "7     102.0         86   High    high risk    Normal     Low  \n",
       "8      98.0         70   Normal   mid risk    Normal  Normal  \n",
       "9      98.0         70   Normal  high risk    Normal  Normal  "
      ]
     },
     "execution_count": 240,
     "metadata": {},
     "output_type": "execute_result"
    }
   ],
   "source": [
    "df.head(10)"
   ]
  },
  {
   "cell_type": "code",
   "execution_count": 241,
   "metadata": {},
   "outputs": [],
   "source": [
    "del df['Dia Cat']"
   ]
  },
  {
   "cell_type": "code",
   "execution_count": 242,
   "metadata": {
    "scrolled": false
   },
   "outputs": [
    {
     "data": {
      "text/html": [
       "<div>\n",
       "<style scoped>\n",
       "    .dataframe tbody tr th:only-of-type {\n",
       "        vertical-align: middle;\n",
       "    }\n",
       "\n",
       "    .dataframe tbody tr th {\n",
       "        vertical-align: top;\n",
       "    }\n",
       "\n",
       "    .dataframe thead th {\n",
       "        text-align: right;\n",
       "    }\n",
       "</style>\n",
       "<table border=\"1\" class=\"dataframe\">\n",
       "  <thead>\n",
       "    <tr style=\"text-align: right;\">\n",
       "      <th></th>\n",
       "      <th>Age</th>\n",
       "      <th>Age Cat</th>\n",
       "      <th>SystolicBP</th>\n",
       "      <th>Sys Cat</th>\n",
       "      <th>DiastolicBP</th>\n",
       "      <th>BS</th>\n",
       "      <th>BS Cat</th>\n",
       "      <th>BodyTemp</th>\n",
       "      <th>HeartRate</th>\n",
       "      <th>Temp Cat</th>\n",
       "      <th>RiskLevel</th>\n",
       "      <th>Heart Cat</th>\n",
       "    </tr>\n",
       "  </thead>\n",
       "  <tbody>\n",
       "    <tr>\n",
       "      <th>0</th>\n",
       "      <td>25</td>\n",
       "      <td>Normal Maternal Age</td>\n",
       "      <td>130</td>\n",
       "      <td>Normal</td>\n",
       "      <td>80</td>\n",
       "      <td>15.0</td>\n",
       "      <td>High</td>\n",
       "      <td>98.0</td>\n",
       "      <td>86</td>\n",
       "      <td>Normal</td>\n",
       "      <td>high risk</td>\n",
       "      <td>Normal</td>\n",
       "    </tr>\n",
       "    <tr>\n",
       "      <th>1</th>\n",
       "      <td>35</td>\n",
       "      <td>Normal Maternal Age</td>\n",
       "      <td>140</td>\n",
       "      <td>Normal</td>\n",
       "      <td>90</td>\n",
       "      <td>13.0</td>\n",
       "      <td>High</td>\n",
       "      <td>98.0</td>\n",
       "      <td>70</td>\n",
       "      <td>Normal</td>\n",
       "      <td>high risk</td>\n",
       "      <td>Normal</td>\n",
       "    </tr>\n",
       "    <tr>\n",
       "      <th>2</th>\n",
       "      <td>29</td>\n",
       "      <td>Normal Maternal Age</td>\n",
       "      <td>90</td>\n",
       "      <td>Low</td>\n",
       "      <td>70</td>\n",
       "      <td>8.0</td>\n",
       "      <td>Normal</td>\n",
       "      <td>100.0</td>\n",
       "      <td>80</td>\n",
       "      <td>High</td>\n",
       "      <td>high risk</td>\n",
       "      <td>Normal</td>\n",
       "    </tr>\n",
       "    <tr>\n",
       "      <th>3</th>\n",
       "      <td>30</td>\n",
       "      <td>Normal Maternal Age</td>\n",
       "      <td>140</td>\n",
       "      <td>Normal</td>\n",
       "      <td>85</td>\n",
       "      <td>7.0</td>\n",
       "      <td>Normal</td>\n",
       "      <td>98.0</td>\n",
       "      <td>70</td>\n",
       "      <td>Normal</td>\n",
       "      <td>high risk</td>\n",
       "      <td>Normal</td>\n",
       "    </tr>\n",
       "    <tr>\n",
       "      <th>4</th>\n",
       "      <td>35</td>\n",
       "      <td>Normal Maternal Age</td>\n",
       "      <td>120</td>\n",
       "      <td>Normal</td>\n",
       "      <td>60</td>\n",
       "      <td>6.1</td>\n",
       "      <td>Low</td>\n",
       "      <td>98.0</td>\n",
       "      <td>76</td>\n",
       "      <td>Normal</td>\n",
       "      <td>low risk</td>\n",
       "      <td>Normal</td>\n",
       "    </tr>\n",
       "  </tbody>\n",
       "</table>\n",
       "</div>"
      ],
      "text/plain": [
       "   Age              Age Cat  SystolicBP Sys Cat  DiastolicBP    BS  BS Cat  \\\n",
       "0   25  Normal Maternal Age         130  Normal           80  15.0    High   \n",
       "1   35  Normal Maternal Age         140  Normal           90  13.0    High   \n",
       "2   29  Normal Maternal Age          90     Low           70   8.0  Normal   \n",
       "3   30  Normal Maternal Age         140  Normal           85   7.0  Normal   \n",
       "4   35  Normal Maternal Age         120  Normal           60   6.1     Low   \n",
       "\n",
       "   BodyTemp  HeartRate Temp Cat  RiskLevel Heart Cat  \n",
       "0      98.0         86   Normal  high risk    Normal  \n",
       "1      98.0         70   Normal  high risk    Normal  \n",
       "2     100.0         80   High    high risk    Normal  \n",
       "3      98.0         70   Normal  high risk    Normal  \n",
       "4      98.0         76   Normal   low risk    Normal  "
      ]
     },
     "execution_count": 242,
     "metadata": {},
     "output_type": "execute_result"
    }
   ],
   "source": [
    "df.head(5)"
   ]
  },
  {
   "cell_type": "code",
   "execution_count": 243,
   "metadata": {},
   "outputs": [],
   "source": [
    "df.insert(5,'Dia Cat', '')"
   ]
  },
  {
   "cell_type": "code",
   "execution_count": 244,
   "metadata": {},
   "outputs": [],
   "source": [
    "for i in range(len(df)):\n",
    "    if df.at[i,'DiastolicBP'] < 70:\n",
    "        df.at[i,'Dia Cat'] = 'Low'\n",
    "    elif df.at[i,'DiastolicBP'] >= 70 and df['DiastolicBP'][i] <= 90:\n",
    "        df.at[i,'Dia Cat'] = 'Normal'\n",
    "    else:\n",
    "        df.at[i,'Dia Cat'] = 'High  '"
   ]
  },
  {
   "cell_type": "code",
   "execution_count": 245,
   "metadata": {
    "scrolled": true
   },
   "outputs": [
    {
     "data": {
      "text/html": [
       "<div>\n",
       "<style scoped>\n",
       "    .dataframe tbody tr th:only-of-type {\n",
       "        vertical-align: middle;\n",
       "    }\n",
       "\n",
       "    .dataframe tbody tr th {\n",
       "        vertical-align: top;\n",
       "    }\n",
       "\n",
       "    .dataframe thead th {\n",
       "        text-align: right;\n",
       "    }\n",
       "</style>\n",
       "<table border=\"1\" class=\"dataframe\">\n",
       "  <thead>\n",
       "    <tr style=\"text-align: right;\">\n",
       "      <th></th>\n",
       "      <th>Age</th>\n",
       "      <th>Age Cat</th>\n",
       "      <th>SystolicBP</th>\n",
       "      <th>Sys Cat</th>\n",
       "      <th>DiastolicBP</th>\n",
       "      <th>Dia Cat</th>\n",
       "      <th>BS</th>\n",
       "      <th>BS Cat</th>\n",
       "      <th>BodyTemp</th>\n",
       "      <th>HeartRate</th>\n",
       "      <th>Temp Cat</th>\n",
       "      <th>RiskLevel</th>\n",
       "      <th>Heart Cat</th>\n",
       "    </tr>\n",
       "  </thead>\n",
       "  <tbody>\n",
       "    <tr>\n",
       "      <th>0</th>\n",
       "      <td>25</td>\n",
       "      <td>Normal Maternal Age</td>\n",
       "      <td>130</td>\n",
       "      <td>Normal</td>\n",
       "      <td>80</td>\n",
       "      <td>Normal</td>\n",
       "      <td>15.00</td>\n",
       "      <td>High</td>\n",
       "      <td>98.0</td>\n",
       "      <td>86</td>\n",
       "      <td>Normal</td>\n",
       "      <td>high risk</td>\n",
       "      <td>Normal</td>\n",
       "    </tr>\n",
       "    <tr>\n",
       "      <th>1</th>\n",
       "      <td>35</td>\n",
       "      <td>Normal Maternal Age</td>\n",
       "      <td>140</td>\n",
       "      <td>Normal</td>\n",
       "      <td>90</td>\n",
       "      <td>Normal</td>\n",
       "      <td>13.00</td>\n",
       "      <td>High</td>\n",
       "      <td>98.0</td>\n",
       "      <td>70</td>\n",
       "      <td>Normal</td>\n",
       "      <td>high risk</td>\n",
       "      <td>Normal</td>\n",
       "    </tr>\n",
       "    <tr>\n",
       "      <th>2</th>\n",
       "      <td>29</td>\n",
       "      <td>Normal Maternal Age</td>\n",
       "      <td>90</td>\n",
       "      <td>Low</td>\n",
       "      <td>70</td>\n",
       "      <td>Normal</td>\n",
       "      <td>8.00</td>\n",
       "      <td>Normal</td>\n",
       "      <td>100.0</td>\n",
       "      <td>80</td>\n",
       "      <td>High</td>\n",
       "      <td>high risk</td>\n",
       "      <td>Normal</td>\n",
       "    </tr>\n",
       "    <tr>\n",
       "      <th>3</th>\n",
       "      <td>30</td>\n",
       "      <td>Normal Maternal Age</td>\n",
       "      <td>140</td>\n",
       "      <td>Normal</td>\n",
       "      <td>85</td>\n",
       "      <td>Normal</td>\n",
       "      <td>7.00</td>\n",
       "      <td>Normal</td>\n",
       "      <td>98.0</td>\n",
       "      <td>70</td>\n",
       "      <td>Normal</td>\n",
       "      <td>high risk</td>\n",
       "      <td>Normal</td>\n",
       "    </tr>\n",
       "    <tr>\n",
       "      <th>4</th>\n",
       "      <td>35</td>\n",
       "      <td>Normal Maternal Age</td>\n",
       "      <td>120</td>\n",
       "      <td>Normal</td>\n",
       "      <td>60</td>\n",
       "      <td>Low</td>\n",
       "      <td>6.10</td>\n",
       "      <td>Low</td>\n",
       "      <td>98.0</td>\n",
       "      <td>76</td>\n",
       "      <td>Normal</td>\n",
       "      <td>low risk</td>\n",
       "      <td>Normal</td>\n",
       "    </tr>\n",
       "    <tr>\n",
       "      <th>5</th>\n",
       "      <td>23</td>\n",
       "      <td>Normal Maternal Age</td>\n",
       "      <td>140</td>\n",
       "      <td>Normal</td>\n",
       "      <td>80</td>\n",
       "      <td>Normal</td>\n",
       "      <td>7.01</td>\n",
       "      <td>Normal</td>\n",
       "      <td>98.0</td>\n",
       "      <td>70</td>\n",
       "      <td>Normal</td>\n",
       "      <td>high risk</td>\n",
       "      <td>Normal</td>\n",
       "    </tr>\n",
       "    <tr>\n",
       "      <th>6</th>\n",
       "      <td>23</td>\n",
       "      <td>Normal Maternal Age</td>\n",
       "      <td>130</td>\n",
       "      <td>Normal</td>\n",
       "      <td>70</td>\n",
       "      <td>Normal</td>\n",
       "      <td>7.01</td>\n",
       "      <td>Normal</td>\n",
       "      <td>98.0</td>\n",
       "      <td>78</td>\n",
       "      <td>Normal</td>\n",
       "      <td>mid risk</td>\n",
       "      <td>Normal</td>\n",
       "    </tr>\n",
       "    <tr>\n",
       "      <th>7</th>\n",
       "      <td>35</td>\n",
       "      <td>Normal Maternal Age</td>\n",
       "      <td>85</td>\n",
       "      <td>Low</td>\n",
       "      <td>60</td>\n",
       "      <td>Low</td>\n",
       "      <td>11.00</td>\n",
       "      <td>High</td>\n",
       "      <td>102.0</td>\n",
       "      <td>86</td>\n",
       "      <td>High</td>\n",
       "      <td>high risk</td>\n",
       "      <td>Normal</td>\n",
       "    </tr>\n",
       "    <tr>\n",
       "      <th>8</th>\n",
       "      <td>32</td>\n",
       "      <td>Normal Maternal Age</td>\n",
       "      <td>120</td>\n",
       "      <td>Normal</td>\n",
       "      <td>90</td>\n",
       "      <td>Normal</td>\n",
       "      <td>6.90</td>\n",
       "      <td>Low</td>\n",
       "      <td>98.0</td>\n",
       "      <td>70</td>\n",
       "      <td>Normal</td>\n",
       "      <td>mid risk</td>\n",
       "      <td>Normal</td>\n",
       "    </tr>\n",
       "    <tr>\n",
       "      <th>9</th>\n",
       "      <td>42</td>\n",
       "      <td>Advanced Maternal Age</td>\n",
       "      <td>130</td>\n",
       "      <td>Normal</td>\n",
       "      <td>80</td>\n",
       "      <td>Normal</td>\n",
       "      <td>18.00</td>\n",
       "      <td>High</td>\n",
       "      <td>98.0</td>\n",
       "      <td>70</td>\n",
       "      <td>Normal</td>\n",
       "      <td>high risk</td>\n",
       "      <td>Normal</td>\n",
       "    </tr>\n",
       "  </tbody>\n",
       "</table>\n",
       "</div>"
      ],
      "text/plain": [
       "   Age                Age Cat  SystolicBP Sys Cat  DiastolicBP Dia Cat     BS  \\\n",
       "0   25    Normal Maternal Age         130  Normal           80  Normal  15.00   \n",
       "1   35    Normal Maternal Age         140  Normal           90  Normal  13.00   \n",
       "2   29    Normal Maternal Age          90     Low           70  Normal   8.00   \n",
       "3   30    Normal Maternal Age         140  Normal           85  Normal   7.00   \n",
       "4   35    Normal Maternal Age         120  Normal           60     Low   6.10   \n",
       "5   23    Normal Maternal Age         140  Normal           80  Normal   7.01   \n",
       "6   23    Normal Maternal Age         130  Normal           70  Normal   7.01   \n",
       "7   35    Normal Maternal Age          85     Low           60     Low  11.00   \n",
       "8   32    Normal Maternal Age         120  Normal           90  Normal   6.90   \n",
       "9   42  Advanced Maternal Age         130  Normal           80  Normal  18.00   \n",
       "\n",
       "   BS Cat  BodyTemp  HeartRate Temp Cat  RiskLevel Heart Cat  \n",
       "0    High      98.0         86   Normal  high risk    Normal  \n",
       "1    High      98.0         70   Normal  high risk    Normal  \n",
       "2  Normal     100.0         80   High    high risk    Normal  \n",
       "3  Normal      98.0         70   Normal  high risk    Normal  \n",
       "4     Low      98.0         76   Normal   low risk    Normal  \n",
       "5  Normal      98.0         70   Normal  high risk    Normal  \n",
       "6  Normal      98.0         78   Normal   mid risk    Normal  \n",
       "7    High     102.0         86   High    high risk    Normal  \n",
       "8     Low      98.0         70   Normal   mid risk    Normal  \n",
       "9    High      98.0         70   Normal  high risk    Normal  "
      ]
     },
     "execution_count": 245,
     "metadata": {},
     "output_type": "execute_result"
    }
   ],
   "source": [
    "df.head(10)"
   ]
  },
  {
   "cell_type": "code",
   "execution_count": 250,
   "metadata": {},
   "outputs": [],
   "source": [
    "del df['Temp Cat']"
   ]
  },
  {
   "cell_type": "code",
   "execution_count": 251,
   "metadata": {
    "scrolled": true
   },
   "outputs": [
    {
     "data": {
      "text/html": [
       "<div>\n",
       "<style scoped>\n",
       "    .dataframe tbody tr th:only-of-type {\n",
       "        vertical-align: middle;\n",
       "    }\n",
       "\n",
       "    .dataframe tbody tr th {\n",
       "        vertical-align: top;\n",
       "    }\n",
       "\n",
       "    .dataframe thead th {\n",
       "        text-align: right;\n",
       "    }\n",
       "</style>\n",
       "<table border=\"1\" class=\"dataframe\">\n",
       "  <thead>\n",
       "    <tr style=\"text-align: right;\">\n",
       "      <th></th>\n",
       "      <th>Age</th>\n",
       "      <th>Age Cat</th>\n",
       "      <th>SystolicBP</th>\n",
       "      <th>Sys Cat</th>\n",
       "      <th>DiastolicBP</th>\n",
       "      <th>Dia Cat</th>\n",
       "      <th>BS</th>\n",
       "      <th>BS Cat</th>\n",
       "      <th>BodyTemp</th>\n",
       "      <th>HeartRate</th>\n",
       "      <th>RiskLevel</th>\n",
       "      <th>Heart Cat</th>\n",
       "    </tr>\n",
       "  </thead>\n",
       "  <tbody>\n",
       "    <tr>\n",
       "      <th>0</th>\n",
       "      <td>25</td>\n",
       "      <td>Normal Maternal Age</td>\n",
       "      <td>130</td>\n",
       "      <td>Normal</td>\n",
       "      <td>80</td>\n",
       "      <td>Normal</td>\n",
       "      <td>15.0</td>\n",
       "      <td>High</td>\n",
       "      <td>98.0</td>\n",
       "      <td>86</td>\n",
       "      <td>high risk</td>\n",
       "      <td>Normal</td>\n",
       "    </tr>\n",
       "    <tr>\n",
       "      <th>1</th>\n",
       "      <td>35</td>\n",
       "      <td>Normal Maternal Age</td>\n",
       "      <td>140</td>\n",
       "      <td>Normal</td>\n",
       "      <td>90</td>\n",
       "      <td>Normal</td>\n",
       "      <td>13.0</td>\n",
       "      <td>High</td>\n",
       "      <td>98.0</td>\n",
       "      <td>70</td>\n",
       "      <td>high risk</td>\n",
       "      <td>Normal</td>\n",
       "    </tr>\n",
       "  </tbody>\n",
       "</table>\n",
       "</div>"
      ],
      "text/plain": [
       "   Age              Age Cat  SystolicBP Sys Cat  DiastolicBP Dia Cat    BS  \\\n",
       "0   25  Normal Maternal Age         130  Normal           80  Normal  15.0   \n",
       "1   35  Normal Maternal Age         140  Normal           90  Normal  13.0   \n",
       "\n",
       "  BS Cat  BodyTemp  HeartRate  RiskLevel Heart Cat  \n",
       "0   High      98.0         86  high risk    Normal  \n",
       "1   High      98.0         70  high risk    Normal  "
      ]
     },
     "execution_count": 251,
     "metadata": {},
     "output_type": "execute_result"
    }
   ],
   "source": [
    "df.head(2)"
   ]
  },
  {
   "cell_type": "code",
   "execution_count": 252,
   "metadata": {},
   "outputs": [],
   "source": [
    "df.insert(9,'Temp Cat', '')"
   ]
  },
  {
   "cell_type": "code",
   "execution_count": 253,
   "metadata": {},
   "outputs": [],
   "source": [
    "for i in range(len(df)):\n",
    "    if df.at[i,'BodyTemp'] < 96:\n",
    "        df.at[i,'Temp Cat'] = 'Low'\n",
    "    elif df.at[i,'BodyTemp'] >= 96 and df['BodyTemp'][i] <= 99:\n",
    "        df.at[i,'Temp Cat'] = 'Normal'\n",
    "    else:\n",
    "        df.at[i,'Temp Cat'] = 'High  '"
   ]
  },
  {
   "cell_type": "code",
   "execution_count": 254,
   "metadata": {
    "scrolled": true
   },
   "outputs": [
    {
     "data": {
      "text/html": [
       "<div>\n",
       "<style scoped>\n",
       "    .dataframe tbody tr th:only-of-type {\n",
       "        vertical-align: middle;\n",
       "    }\n",
       "\n",
       "    .dataframe tbody tr th {\n",
       "        vertical-align: top;\n",
       "    }\n",
       "\n",
       "    .dataframe thead th {\n",
       "        text-align: right;\n",
       "    }\n",
       "</style>\n",
       "<table border=\"1\" class=\"dataframe\">\n",
       "  <thead>\n",
       "    <tr style=\"text-align: right;\">\n",
       "      <th></th>\n",
       "      <th>Age</th>\n",
       "      <th>Age Cat</th>\n",
       "      <th>SystolicBP</th>\n",
       "      <th>Sys Cat</th>\n",
       "      <th>DiastolicBP</th>\n",
       "      <th>Dia Cat</th>\n",
       "      <th>BS</th>\n",
       "      <th>BS Cat</th>\n",
       "      <th>BodyTemp</th>\n",
       "      <th>Temp Cat</th>\n",
       "      <th>HeartRate</th>\n",
       "      <th>RiskLevel</th>\n",
       "      <th>Heart Cat</th>\n",
       "    </tr>\n",
       "  </thead>\n",
       "  <tbody>\n",
       "    <tr>\n",
       "      <th>0</th>\n",
       "      <td>25</td>\n",
       "      <td>Normal Maternal Age</td>\n",
       "      <td>130</td>\n",
       "      <td>Normal</td>\n",
       "      <td>80</td>\n",
       "      <td>Normal</td>\n",
       "      <td>15.0</td>\n",
       "      <td>High</td>\n",
       "      <td>98.0</td>\n",
       "      <td>Normal</td>\n",
       "      <td>86</td>\n",
       "      <td>high risk</td>\n",
       "      <td>Normal</td>\n",
       "    </tr>\n",
       "    <tr>\n",
       "      <th>1</th>\n",
       "      <td>35</td>\n",
       "      <td>Normal Maternal Age</td>\n",
       "      <td>140</td>\n",
       "      <td>Normal</td>\n",
       "      <td>90</td>\n",
       "      <td>Normal</td>\n",
       "      <td>13.0</td>\n",
       "      <td>High</td>\n",
       "      <td>98.0</td>\n",
       "      <td>Normal</td>\n",
       "      <td>70</td>\n",
       "      <td>high risk</td>\n",
       "      <td>Normal</td>\n",
       "    </tr>\n",
       "    <tr>\n",
       "      <th>2</th>\n",
       "      <td>29</td>\n",
       "      <td>Normal Maternal Age</td>\n",
       "      <td>90</td>\n",
       "      <td>Low</td>\n",
       "      <td>70</td>\n",
       "      <td>Normal</td>\n",
       "      <td>8.0</td>\n",
       "      <td>Normal</td>\n",
       "      <td>100.0</td>\n",
       "      <td>High</td>\n",
       "      <td>80</td>\n",
       "      <td>high risk</td>\n",
       "      <td>Normal</td>\n",
       "    </tr>\n",
       "  </tbody>\n",
       "</table>\n",
       "</div>"
      ],
      "text/plain": [
       "   Age              Age Cat  SystolicBP Sys Cat  DiastolicBP Dia Cat    BS  \\\n",
       "0   25  Normal Maternal Age         130  Normal           80  Normal  15.0   \n",
       "1   35  Normal Maternal Age         140  Normal           90  Normal  13.0   \n",
       "2   29  Normal Maternal Age          90     Low           70  Normal   8.0   \n",
       "\n",
       "   BS Cat  BodyTemp Temp Cat  HeartRate  RiskLevel Heart Cat  \n",
       "0    High      98.0   Normal         86  high risk    Normal  \n",
       "1    High      98.0   Normal         70  high risk    Normal  \n",
       "2  Normal     100.0   High           80  high risk    Normal  "
      ]
     },
     "execution_count": 254,
     "metadata": {},
     "output_type": "execute_result"
    }
   ],
   "source": [
    "df.head(3)"
   ]
  },
  {
   "cell_type": "code",
   "execution_count": 256,
   "metadata": {},
   "outputs": [],
   "source": [
    "del df['Heart Cat']"
   ]
  },
  {
   "cell_type": "code",
   "execution_count": 257,
   "metadata": {},
   "outputs": [],
   "source": [
    "df.insert(11,'Heart Cat', '')"
   ]
  },
  {
   "cell_type": "code",
   "execution_count": 258,
   "metadata": {},
   "outputs": [
    {
     "data": {
      "text/html": [
       "<div>\n",
       "<style scoped>\n",
       "    .dataframe tbody tr th:only-of-type {\n",
       "        vertical-align: middle;\n",
       "    }\n",
       "\n",
       "    .dataframe tbody tr th {\n",
       "        vertical-align: top;\n",
       "    }\n",
       "\n",
       "    .dataframe thead th {\n",
       "        text-align: right;\n",
       "    }\n",
       "</style>\n",
       "<table border=\"1\" class=\"dataframe\">\n",
       "  <thead>\n",
       "    <tr style=\"text-align: right;\">\n",
       "      <th></th>\n",
       "      <th>Age</th>\n",
       "      <th>Age Cat</th>\n",
       "      <th>SystolicBP</th>\n",
       "      <th>Sys Cat</th>\n",
       "      <th>DiastolicBP</th>\n",
       "      <th>Dia Cat</th>\n",
       "      <th>BS</th>\n",
       "      <th>BS Cat</th>\n",
       "      <th>BodyTemp</th>\n",
       "      <th>Temp Cat</th>\n",
       "      <th>HeartRate</th>\n",
       "      <th>Heart Cat</th>\n",
       "      <th>RiskLevel</th>\n",
       "    </tr>\n",
       "  </thead>\n",
       "  <tbody>\n",
       "    <tr>\n",
       "      <th>0</th>\n",
       "      <td>25</td>\n",
       "      <td>Normal Maternal Age</td>\n",
       "      <td>130</td>\n",
       "      <td>Normal</td>\n",
       "      <td>80</td>\n",
       "      <td>Normal</td>\n",
       "      <td>15.0</td>\n",
       "      <td>High</td>\n",
       "      <td>98.0</td>\n",
       "      <td>Normal</td>\n",
       "      <td>86</td>\n",
       "      <td></td>\n",
       "      <td>high risk</td>\n",
       "    </tr>\n",
       "    <tr>\n",
       "      <th>1</th>\n",
       "      <td>35</td>\n",
       "      <td>Normal Maternal Age</td>\n",
       "      <td>140</td>\n",
       "      <td>Normal</td>\n",
       "      <td>90</td>\n",
       "      <td>Normal</td>\n",
       "      <td>13.0</td>\n",
       "      <td>High</td>\n",
       "      <td>98.0</td>\n",
       "      <td>Normal</td>\n",
       "      <td>70</td>\n",
       "      <td></td>\n",
       "      <td>high risk</td>\n",
       "    </tr>\n",
       "    <tr>\n",
       "      <th>2</th>\n",
       "      <td>29</td>\n",
       "      <td>Normal Maternal Age</td>\n",
       "      <td>90</td>\n",
       "      <td>Low</td>\n",
       "      <td>70</td>\n",
       "      <td>Normal</td>\n",
       "      <td>8.0</td>\n",
       "      <td>Normal</td>\n",
       "      <td>100.0</td>\n",
       "      <td>High</td>\n",
       "      <td>80</td>\n",
       "      <td></td>\n",
       "      <td>high risk</td>\n",
       "    </tr>\n",
       "  </tbody>\n",
       "</table>\n",
       "</div>"
      ],
      "text/plain": [
       "   Age              Age Cat  SystolicBP Sys Cat  DiastolicBP Dia Cat    BS  \\\n",
       "0   25  Normal Maternal Age         130  Normal           80  Normal  15.0   \n",
       "1   35  Normal Maternal Age         140  Normal           90  Normal  13.0   \n",
       "2   29  Normal Maternal Age          90     Low           70  Normal   8.0   \n",
       "\n",
       "   BS Cat  BodyTemp Temp Cat  HeartRate Heart Cat  RiskLevel  \n",
       "0    High      98.0   Normal         86            high risk  \n",
       "1    High      98.0   Normal         70            high risk  \n",
       "2  Normal     100.0   High           80            high risk  "
      ]
     },
     "execution_count": 258,
     "metadata": {},
     "output_type": "execute_result"
    }
   ],
   "source": [
    "df.head(3)"
   ]
  },
  {
   "cell_type": "code",
   "execution_count": 259,
   "metadata": {},
   "outputs": [],
   "source": [
    "for i in range(len(df)):\n",
    "    if df.at[i,'HeartRate'] < 60:\n",
    "        df.at[i,'Heart Cat'] = 'Low'\n",
    "    elif df.at[i,'HeartRate'] >= 60 and df['HeartRate'][i] <= 90:\n",
    "        df.at[i,'Heart Cat'] = 'Normal'\n",
    "    else:\n",
    "        df.at[i,'Heart Cat'] = 'High  '"
   ]
  },
  {
   "cell_type": "code",
   "execution_count": 260,
   "metadata": {},
   "outputs": [
    {
     "data": {
      "text/html": [
       "<div>\n",
       "<style scoped>\n",
       "    .dataframe tbody tr th:only-of-type {\n",
       "        vertical-align: middle;\n",
       "    }\n",
       "\n",
       "    .dataframe tbody tr th {\n",
       "        vertical-align: top;\n",
       "    }\n",
       "\n",
       "    .dataframe thead th {\n",
       "        text-align: right;\n",
       "    }\n",
       "</style>\n",
       "<table border=\"1\" class=\"dataframe\">\n",
       "  <thead>\n",
       "    <tr style=\"text-align: right;\">\n",
       "      <th></th>\n",
       "      <th>Age</th>\n",
       "      <th>Age Cat</th>\n",
       "      <th>SystolicBP</th>\n",
       "      <th>Sys Cat</th>\n",
       "      <th>DiastolicBP</th>\n",
       "      <th>Dia Cat</th>\n",
       "      <th>BS</th>\n",
       "      <th>BS Cat</th>\n",
       "      <th>BodyTemp</th>\n",
       "      <th>Temp Cat</th>\n",
       "      <th>HeartRate</th>\n",
       "      <th>Heart Cat</th>\n",
       "      <th>RiskLevel</th>\n",
       "    </tr>\n",
       "  </thead>\n",
       "  <tbody>\n",
       "    <tr>\n",
       "      <th>0</th>\n",
       "      <td>25</td>\n",
       "      <td>Normal Maternal Age</td>\n",
       "      <td>130</td>\n",
       "      <td>Normal</td>\n",
       "      <td>80</td>\n",
       "      <td>Normal</td>\n",
       "      <td>15.0</td>\n",
       "      <td>High</td>\n",
       "      <td>98.0</td>\n",
       "      <td>Normal</td>\n",
       "      <td>86</td>\n",
       "      <td>Normal</td>\n",
       "      <td>high risk</td>\n",
       "    </tr>\n",
       "    <tr>\n",
       "      <th>1</th>\n",
       "      <td>35</td>\n",
       "      <td>Normal Maternal Age</td>\n",
       "      <td>140</td>\n",
       "      <td>Normal</td>\n",
       "      <td>90</td>\n",
       "      <td>Normal</td>\n",
       "      <td>13.0</td>\n",
       "      <td>High</td>\n",
       "      <td>98.0</td>\n",
       "      <td>Normal</td>\n",
       "      <td>70</td>\n",
       "      <td>Normal</td>\n",
       "      <td>high risk</td>\n",
       "    </tr>\n",
       "    <tr>\n",
       "      <th>2</th>\n",
       "      <td>29</td>\n",
       "      <td>Normal Maternal Age</td>\n",
       "      <td>90</td>\n",
       "      <td>Low</td>\n",
       "      <td>70</td>\n",
       "      <td>Normal</td>\n",
       "      <td>8.0</td>\n",
       "      <td>Normal</td>\n",
       "      <td>100.0</td>\n",
       "      <td>High</td>\n",
       "      <td>80</td>\n",
       "      <td>Normal</td>\n",
       "      <td>high risk</td>\n",
       "    </tr>\n",
       "  </tbody>\n",
       "</table>\n",
       "</div>"
      ],
      "text/plain": [
       "   Age              Age Cat  SystolicBP Sys Cat  DiastolicBP Dia Cat    BS  \\\n",
       "0   25  Normal Maternal Age         130  Normal           80  Normal  15.0   \n",
       "1   35  Normal Maternal Age         140  Normal           90  Normal  13.0   \n",
       "2   29  Normal Maternal Age          90     Low           70  Normal   8.0   \n",
       "\n",
       "   BS Cat  BodyTemp Temp Cat  HeartRate Heart Cat  RiskLevel  \n",
       "0    High      98.0   Normal         86    Normal  high risk  \n",
       "1    High      98.0   Normal         70    Normal  high risk  \n",
       "2  Normal     100.0   High           80    Normal  high risk  "
      ]
     },
     "execution_count": 260,
     "metadata": {},
     "output_type": "execute_result"
    }
   ],
   "source": [
    "df.head(3)"
   ]
  },
  {
   "cell_type": "code",
   "execution_count": 261,
   "metadata": {},
   "outputs": [],
   "source": [
    "df1 = df['Age Cat'].value_counts()\n",
    "\n"
   ]
  },
  {
   "cell_type": "code",
   "execution_count": 262,
   "metadata": {},
   "outputs": [
    {
     "data": {
      "text/plain": [
       "Normal Maternal Age      467\n",
       "Teenage Pregnancy        279\n",
       "Advanced Maternal Age    268\n",
       "Name: Age Cat, dtype: int64"
      ]
     },
     "execution_count": 262,
     "metadata": {},
     "output_type": "execute_result"
    }
   ],
   "source": [
    "df1"
   ]
  },
  {
   "cell_type": "code",
   "execution_count": 263,
   "metadata": {},
   "outputs": [
    {
     "ename": "KeyError",
     "evalue": "' RiskLevel'",
     "output_type": "error",
     "traceback": [
      "\u001b[0;31m---------------------------------------------------------------------------\u001b[0m",
      "\u001b[0;31mKeyError\u001b[0m                                  Traceback (most recent call last)",
      "\u001b[0;32m/usr/lib/python3/dist-packages/pandas/core/indexes/base.py\u001b[0m in \u001b[0;36mget_loc\u001b[0;34m(self, key, method, tolerance)\u001b[0m\n\u001b[1;32m   2524\u001b[0m             \u001b[0;32mtry\u001b[0m\u001b[0;34m:\u001b[0m\u001b[0;34m\u001b[0m\u001b[0;34m\u001b[0m\u001b[0m\n\u001b[0;32m-> 2525\u001b[0;31m                 \u001b[0;32mreturn\u001b[0m \u001b[0mself\u001b[0m\u001b[0;34m.\u001b[0m\u001b[0m_engine\u001b[0m\u001b[0;34m.\u001b[0m\u001b[0mget_loc\u001b[0m\u001b[0;34m(\u001b[0m\u001b[0mkey\u001b[0m\u001b[0;34m)\u001b[0m\u001b[0;34m\u001b[0m\u001b[0;34m\u001b[0m\u001b[0m\n\u001b[0m\u001b[1;32m   2526\u001b[0m             \u001b[0;32mexcept\u001b[0m \u001b[0mKeyError\u001b[0m\u001b[0;34m:\u001b[0m\u001b[0;34m\u001b[0m\u001b[0;34m\u001b[0m\u001b[0m\n",
      "\u001b[0;32mpandas/_libs/index.pyx\u001b[0m in \u001b[0;36mpandas._libs.index.IndexEngine.get_loc\u001b[0;34m()\u001b[0m\n",
      "\u001b[0;32mpandas/_libs/index.pyx\u001b[0m in \u001b[0;36mpandas._libs.index.IndexEngine.get_loc\u001b[0;34m()\u001b[0m\n",
      "\u001b[0;32mpandas/_libs/hashtable_class_helper.pxi\u001b[0m in \u001b[0;36mpandas._libs.hashtable.PyObjectHashTable.get_item\u001b[0;34m()\u001b[0m\n",
      "\u001b[0;32mpandas/_libs/hashtable_class_helper.pxi\u001b[0m in \u001b[0;36mpandas._libs.hashtable.PyObjectHashTable.get_item\u001b[0;34m()\u001b[0m\n",
      "\u001b[0;31mKeyError\u001b[0m: ' RiskLevel'",
      "\nDuring handling of the above exception, another exception occurred:\n",
      "\u001b[0;31mKeyError\u001b[0m                                  Traceback (most recent call last)",
      "\u001b[0;32m<ipython-input-263-555818555ee0>\u001b[0m in \u001b[0;36m<module>\u001b[0;34m()\u001b[0m\n\u001b[1;32m      4\u001b[0m \u001b[0mdf5\u001b[0m \u001b[0;34m=\u001b[0m \u001b[0mdf\u001b[0m\u001b[0;34m[\u001b[0m\u001b[0;34m'Temp Cat'\u001b[0m\u001b[0;34m]\u001b[0m\u001b[0;34m.\u001b[0m\u001b[0mvalue_counts\u001b[0m\u001b[0;34m(\u001b[0m\u001b[0;34m)\u001b[0m\u001b[0;34m\u001b[0m\u001b[0;34m\u001b[0m\u001b[0m\n\u001b[1;32m      5\u001b[0m \u001b[0mdf6\u001b[0m \u001b[0;34m=\u001b[0m \u001b[0mdf\u001b[0m\u001b[0;34m[\u001b[0m\u001b[0;34m'Heart Cat'\u001b[0m\u001b[0;34m]\u001b[0m\u001b[0;34m.\u001b[0m\u001b[0mvalue_counts\u001b[0m\u001b[0;34m(\u001b[0m\u001b[0;34m)\u001b[0m\u001b[0;34m\u001b[0m\u001b[0;34m\u001b[0m\u001b[0m\n\u001b[0;32m----> 6\u001b[0;31m \u001b[0mdf7\u001b[0m \u001b[0;34m=\u001b[0m \u001b[0mdf\u001b[0m\u001b[0;34m[\u001b[0m\u001b[0;34m' RiskLevel'\u001b[0m\u001b[0;34m]\u001b[0m\u001b[0;34m.\u001b[0m\u001b[0mvalue_counts\u001b[0m\u001b[0;34m(\u001b[0m\u001b[0;34m)\u001b[0m\u001b[0;34m\u001b[0m\u001b[0;34m\u001b[0m\u001b[0m\n\u001b[0m",
      "\u001b[0;32m/usr/lib/python3/dist-packages/pandas/core/frame.py\u001b[0m in \u001b[0;36m__getitem__\u001b[0;34m(self, key)\u001b[0m\n\u001b[1;32m   2137\u001b[0m             \u001b[0;32mreturn\u001b[0m \u001b[0mself\u001b[0m\u001b[0;34m.\u001b[0m\u001b[0m_getitem_multilevel\u001b[0m\u001b[0;34m(\u001b[0m\u001b[0mkey\u001b[0m\u001b[0;34m)\u001b[0m\u001b[0;34m\u001b[0m\u001b[0;34m\u001b[0m\u001b[0m\n\u001b[1;32m   2138\u001b[0m         \u001b[0;32melse\u001b[0m\u001b[0;34m:\u001b[0m\u001b[0;34m\u001b[0m\u001b[0;34m\u001b[0m\u001b[0m\n\u001b[0;32m-> 2139\u001b[0;31m             \u001b[0;32mreturn\u001b[0m \u001b[0mself\u001b[0m\u001b[0;34m.\u001b[0m\u001b[0m_getitem_column\u001b[0m\u001b[0;34m(\u001b[0m\u001b[0mkey\u001b[0m\u001b[0;34m)\u001b[0m\u001b[0;34m\u001b[0m\u001b[0;34m\u001b[0m\u001b[0m\n\u001b[0m\u001b[1;32m   2140\u001b[0m \u001b[0;34m\u001b[0m\u001b[0m\n\u001b[1;32m   2141\u001b[0m     \u001b[0;32mdef\u001b[0m \u001b[0m_getitem_column\u001b[0m\u001b[0;34m(\u001b[0m\u001b[0mself\u001b[0m\u001b[0;34m,\u001b[0m \u001b[0mkey\u001b[0m\u001b[0;34m)\u001b[0m\u001b[0;34m:\u001b[0m\u001b[0;34m\u001b[0m\u001b[0;34m\u001b[0m\u001b[0m\n",
      "\u001b[0;32m/usr/lib/python3/dist-packages/pandas/core/frame.py\u001b[0m in \u001b[0;36m_getitem_column\u001b[0;34m(self, key)\u001b[0m\n\u001b[1;32m   2144\u001b[0m         \u001b[0;31m# get column\u001b[0m\u001b[0;34m\u001b[0m\u001b[0;34m\u001b[0m\u001b[0;34m\u001b[0m\u001b[0m\n\u001b[1;32m   2145\u001b[0m         \u001b[0;32mif\u001b[0m \u001b[0mself\u001b[0m\u001b[0;34m.\u001b[0m\u001b[0mcolumns\u001b[0m\u001b[0;34m.\u001b[0m\u001b[0mis_unique\u001b[0m\u001b[0;34m:\u001b[0m\u001b[0;34m\u001b[0m\u001b[0;34m\u001b[0m\u001b[0m\n\u001b[0;32m-> 2146\u001b[0;31m             \u001b[0;32mreturn\u001b[0m \u001b[0mself\u001b[0m\u001b[0;34m.\u001b[0m\u001b[0m_get_item_cache\u001b[0m\u001b[0;34m(\u001b[0m\u001b[0mkey\u001b[0m\u001b[0;34m)\u001b[0m\u001b[0;34m\u001b[0m\u001b[0;34m\u001b[0m\u001b[0m\n\u001b[0m\u001b[1;32m   2147\u001b[0m \u001b[0;34m\u001b[0m\u001b[0m\n\u001b[1;32m   2148\u001b[0m         \u001b[0;31m# duplicate columns & possible reduce dimensionality\u001b[0m\u001b[0;34m\u001b[0m\u001b[0;34m\u001b[0m\u001b[0;34m\u001b[0m\u001b[0m\n",
      "\u001b[0;32m/usr/lib/python3/dist-packages/pandas/core/generic.py\u001b[0m in \u001b[0;36m_get_item_cache\u001b[0;34m(self, item)\u001b[0m\n\u001b[1;32m   1840\u001b[0m         \u001b[0mres\u001b[0m \u001b[0;34m=\u001b[0m \u001b[0mcache\u001b[0m\u001b[0;34m.\u001b[0m\u001b[0mget\u001b[0m\u001b[0;34m(\u001b[0m\u001b[0mitem\u001b[0m\u001b[0;34m)\u001b[0m\u001b[0;34m\u001b[0m\u001b[0;34m\u001b[0m\u001b[0m\n\u001b[1;32m   1841\u001b[0m         \u001b[0;32mif\u001b[0m \u001b[0mres\u001b[0m \u001b[0;32mis\u001b[0m \u001b[0;32mNone\u001b[0m\u001b[0;34m:\u001b[0m\u001b[0;34m\u001b[0m\u001b[0;34m\u001b[0m\u001b[0m\n\u001b[0;32m-> 1842\u001b[0;31m             \u001b[0mvalues\u001b[0m \u001b[0;34m=\u001b[0m \u001b[0mself\u001b[0m\u001b[0;34m.\u001b[0m\u001b[0m_data\u001b[0m\u001b[0;34m.\u001b[0m\u001b[0mget\u001b[0m\u001b[0;34m(\u001b[0m\u001b[0mitem\u001b[0m\u001b[0;34m)\u001b[0m\u001b[0;34m\u001b[0m\u001b[0;34m\u001b[0m\u001b[0m\n\u001b[0m\u001b[1;32m   1843\u001b[0m             \u001b[0mres\u001b[0m \u001b[0;34m=\u001b[0m \u001b[0mself\u001b[0m\u001b[0;34m.\u001b[0m\u001b[0m_box_item_values\u001b[0m\u001b[0;34m(\u001b[0m\u001b[0mitem\u001b[0m\u001b[0;34m,\u001b[0m \u001b[0mvalues\u001b[0m\u001b[0;34m)\u001b[0m\u001b[0;34m\u001b[0m\u001b[0;34m\u001b[0m\u001b[0m\n\u001b[1;32m   1844\u001b[0m             \u001b[0mcache\u001b[0m\u001b[0;34m[\u001b[0m\u001b[0mitem\u001b[0m\u001b[0;34m]\u001b[0m \u001b[0;34m=\u001b[0m \u001b[0mres\u001b[0m\u001b[0;34m\u001b[0m\u001b[0;34m\u001b[0m\u001b[0m\n",
      "\u001b[0;32m/usr/lib/python3/dist-packages/pandas/core/internals.py\u001b[0m in \u001b[0;36mget\u001b[0;34m(self, item, fastpath)\u001b[0m\n\u001b[1;32m   3841\u001b[0m \u001b[0;34m\u001b[0m\u001b[0m\n\u001b[1;32m   3842\u001b[0m             \u001b[0;32mif\u001b[0m \u001b[0;32mnot\u001b[0m \u001b[0misna\u001b[0m\u001b[0;34m(\u001b[0m\u001b[0mitem\u001b[0m\u001b[0;34m)\u001b[0m\u001b[0;34m:\u001b[0m\u001b[0;34m\u001b[0m\u001b[0;34m\u001b[0m\u001b[0m\n\u001b[0;32m-> 3843\u001b[0;31m                 \u001b[0mloc\u001b[0m \u001b[0;34m=\u001b[0m \u001b[0mself\u001b[0m\u001b[0;34m.\u001b[0m\u001b[0mitems\u001b[0m\u001b[0;34m.\u001b[0m\u001b[0mget_loc\u001b[0m\u001b[0;34m(\u001b[0m\u001b[0mitem\u001b[0m\u001b[0;34m)\u001b[0m\u001b[0;34m\u001b[0m\u001b[0;34m\u001b[0m\u001b[0m\n\u001b[0m\u001b[1;32m   3844\u001b[0m             \u001b[0;32melse\u001b[0m\u001b[0;34m:\u001b[0m\u001b[0;34m\u001b[0m\u001b[0;34m\u001b[0m\u001b[0m\n\u001b[1;32m   3845\u001b[0m                 \u001b[0mindexer\u001b[0m \u001b[0;34m=\u001b[0m \u001b[0mnp\u001b[0m\u001b[0;34m.\u001b[0m\u001b[0marange\u001b[0m\u001b[0;34m(\u001b[0m\u001b[0mlen\u001b[0m\u001b[0;34m(\u001b[0m\u001b[0mself\u001b[0m\u001b[0;34m.\u001b[0m\u001b[0mitems\u001b[0m\u001b[0;34m)\u001b[0m\u001b[0;34m)\u001b[0m\u001b[0;34m[\u001b[0m\u001b[0misna\u001b[0m\u001b[0;34m(\u001b[0m\u001b[0mself\u001b[0m\u001b[0;34m.\u001b[0m\u001b[0mitems\u001b[0m\u001b[0;34m)\u001b[0m\u001b[0;34m]\u001b[0m\u001b[0;34m\u001b[0m\u001b[0;34m\u001b[0m\u001b[0m\n",
      "\u001b[0;32m/usr/lib/python3/dist-packages/pandas/core/indexes/base.py\u001b[0m in \u001b[0;36mget_loc\u001b[0;34m(self, key, method, tolerance)\u001b[0m\n\u001b[1;32m   2525\u001b[0m                 \u001b[0;32mreturn\u001b[0m \u001b[0mself\u001b[0m\u001b[0;34m.\u001b[0m\u001b[0m_engine\u001b[0m\u001b[0;34m.\u001b[0m\u001b[0mget_loc\u001b[0m\u001b[0;34m(\u001b[0m\u001b[0mkey\u001b[0m\u001b[0;34m)\u001b[0m\u001b[0;34m\u001b[0m\u001b[0;34m\u001b[0m\u001b[0m\n\u001b[1;32m   2526\u001b[0m             \u001b[0;32mexcept\u001b[0m \u001b[0mKeyError\u001b[0m\u001b[0;34m:\u001b[0m\u001b[0;34m\u001b[0m\u001b[0;34m\u001b[0m\u001b[0m\n\u001b[0;32m-> 2527\u001b[0;31m                 \u001b[0;32mreturn\u001b[0m \u001b[0mself\u001b[0m\u001b[0;34m.\u001b[0m\u001b[0m_engine\u001b[0m\u001b[0;34m.\u001b[0m\u001b[0mget_loc\u001b[0m\u001b[0;34m(\u001b[0m\u001b[0mself\u001b[0m\u001b[0;34m.\u001b[0m\u001b[0m_maybe_cast_indexer\u001b[0m\u001b[0;34m(\u001b[0m\u001b[0mkey\u001b[0m\u001b[0;34m)\u001b[0m\u001b[0;34m)\u001b[0m\u001b[0;34m\u001b[0m\u001b[0;34m\u001b[0m\u001b[0m\n\u001b[0m\u001b[1;32m   2528\u001b[0m \u001b[0;34m\u001b[0m\u001b[0m\n\u001b[1;32m   2529\u001b[0m         \u001b[0mindexer\u001b[0m \u001b[0;34m=\u001b[0m \u001b[0mself\u001b[0m\u001b[0;34m.\u001b[0m\u001b[0mget_indexer\u001b[0m\u001b[0;34m(\u001b[0m\u001b[0;34m[\u001b[0m\u001b[0mkey\u001b[0m\u001b[0;34m]\u001b[0m\u001b[0;34m,\u001b[0m \u001b[0mmethod\u001b[0m\u001b[0;34m=\u001b[0m\u001b[0mmethod\u001b[0m\u001b[0;34m,\u001b[0m \u001b[0mtolerance\u001b[0m\u001b[0;34m=\u001b[0m\u001b[0mtolerance\u001b[0m\u001b[0;34m)\u001b[0m\u001b[0;34m\u001b[0m\u001b[0;34m\u001b[0m\u001b[0m\n",
      "\u001b[0;32mpandas/_libs/index.pyx\u001b[0m in \u001b[0;36mpandas._libs.index.IndexEngine.get_loc\u001b[0;34m()\u001b[0m\n",
      "\u001b[0;32mpandas/_libs/index.pyx\u001b[0m in \u001b[0;36mpandas._libs.index.IndexEngine.get_loc\u001b[0;34m()\u001b[0m\n",
      "\u001b[0;32mpandas/_libs/hashtable_class_helper.pxi\u001b[0m in \u001b[0;36mpandas._libs.hashtable.PyObjectHashTable.get_item\u001b[0;34m()\u001b[0m\n",
      "\u001b[0;32mpandas/_libs/hashtable_class_helper.pxi\u001b[0m in \u001b[0;36mpandas._libs.hashtable.PyObjectHashTable.get_item\u001b[0;34m()\u001b[0m\n",
      "\u001b[0;31mKeyError\u001b[0m: ' RiskLevel'"
     ]
    }
   ],
   "source": [
    "df2 = df['Sys Cat'].value_counts()\n",
    "df3 = df['Dia Cat'].value_counts()\n",
    "df4 = df['BS Cat'].value_counts()\n",
    "df5 = df['Temp Cat'].value_counts()\n",
    "df6 = df['Heart Cat'].value_counts()\n",
    "df7 = df[' RiskLevel'].value_counts()"
   ]
  },
  {
   "cell_type": "code",
   "execution_count": 264,
   "metadata": {},
   "outputs": [],
   "source": [
    "df2 = df[['Sys Cat','Dia Cat', 'RiskLevel']]"
   ]
  },
  {
   "cell_type": "code",
   "execution_count": 265,
   "metadata": {
    "scrolled": true
   },
   "outputs": [
    {
     "data": {
      "text/html": [
       "<div>\n",
       "<style scoped>\n",
       "    .dataframe tbody tr th:only-of-type {\n",
       "        vertical-align: middle;\n",
       "    }\n",
       "\n",
       "    .dataframe tbody tr th {\n",
       "        vertical-align: top;\n",
       "    }\n",
       "\n",
       "    .dataframe thead th {\n",
       "        text-align: right;\n",
       "    }\n",
       "</style>\n",
       "<table border=\"1\" class=\"dataframe\">\n",
       "  <thead>\n",
       "    <tr style=\"text-align: right;\">\n",
       "      <th></th>\n",
       "      <th>Sys Cat</th>\n",
       "      <th>Dia Cat</th>\n",
       "      <th>RiskLevel</th>\n",
       "    </tr>\n",
       "  </thead>\n",
       "  <tbody>\n",
       "    <tr>\n",
       "      <th>0</th>\n",
       "      <td>Normal</td>\n",
       "      <td>Normal</td>\n",
       "      <td>high risk</td>\n",
       "    </tr>\n",
       "    <tr>\n",
       "      <th>1</th>\n",
       "      <td>Normal</td>\n",
       "      <td>Normal</td>\n",
       "      <td>high risk</td>\n",
       "    </tr>\n",
       "    <tr>\n",
       "      <th>2</th>\n",
       "      <td>Low</td>\n",
       "      <td>Normal</td>\n",
       "      <td>high risk</td>\n",
       "    </tr>\n",
       "    <tr>\n",
       "      <th>3</th>\n",
       "      <td>Normal</td>\n",
       "      <td>Normal</td>\n",
       "      <td>high risk</td>\n",
       "    </tr>\n",
       "    <tr>\n",
       "      <th>4</th>\n",
       "      <td>Normal</td>\n",
       "      <td>Low</td>\n",
       "      <td>low risk</td>\n",
       "    </tr>\n",
       "    <tr>\n",
       "      <th>5</th>\n",
       "      <td>Normal</td>\n",
       "      <td>Normal</td>\n",
       "      <td>high risk</td>\n",
       "    </tr>\n",
       "    <tr>\n",
       "      <th>6</th>\n",
       "      <td>Normal</td>\n",
       "      <td>Normal</td>\n",
       "      <td>mid risk</td>\n",
       "    </tr>\n",
       "    <tr>\n",
       "      <th>7</th>\n",
       "      <td>Low</td>\n",
       "      <td>Low</td>\n",
       "      <td>high risk</td>\n",
       "    </tr>\n",
       "    <tr>\n",
       "      <th>8</th>\n",
       "      <td>Normal</td>\n",
       "      <td>Normal</td>\n",
       "      <td>mid risk</td>\n",
       "    </tr>\n",
       "    <tr>\n",
       "      <th>9</th>\n",
       "      <td>Normal</td>\n",
       "      <td>Normal</td>\n",
       "      <td>high risk</td>\n",
       "    </tr>\n",
       "  </tbody>\n",
       "</table>\n",
       "</div>"
      ],
      "text/plain": [
       "  Sys Cat Dia Cat  RiskLevel\n",
       "0  Normal  Normal  high risk\n",
       "1  Normal  Normal  high risk\n",
       "2     Low  Normal  high risk\n",
       "3  Normal  Normal  high risk\n",
       "4  Normal     Low   low risk\n",
       "5  Normal  Normal  high risk\n",
       "6  Normal  Normal   mid risk\n",
       "7     Low     Low  high risk\n",
       "8  Normal  Normal   mid risk\n",
       "9  Normal  Normal  high risk"
      ]
     },
     "execution_count": 265,
     "metadata": {},
     "output_type": "execute_result"
    }
   ],
   "source": [
    "df2.head(10)"
   ]
  },
  {
   "cell_type": "code",
   "execution_count": 266,
   "metadata": {},
   "outputs": [
    {
     "data": {
      "text/plain": [
       "Normal Maternal Age      467\n",
       "Teenage Pregnancy        279\n",
       "Advanced Maternal Age    268\n",
       "Name: Age Cat, dtype: int64"
      ]
     },
     "execution_count": 266,
     "metadata": {},
     "output_type": "execute_result"
    }
   ],
   "source": [
    "df['Age Cat'].value_counts()\n"
   ]
  },
  {
   "cell_type": "code",
   "execution_count": 128,
   "metadata": {},
   "outputs": [
    {
     "data": {
      "text/plain": [
       "Normal    633\n",
       "Low       371\n",
       "High       10\n",
       "Name: Sys Cat, dtype: int64"
      ]
     },
     "execution_count": 128,
     "metadata": {},
     "output_type": "execute_result"
    }
   ],
   "source": [
    "df['Sys Cat'].value_counts()\n"
   ]
  },
  {
   "cell_type": "code",
   "execution_count": null,
   "metadata": {},
   "outputs": [],
   "source": []
  },
  {
   "cell_type": "code",
   "execution_count": null,
   "metadata": {},
   "outputs": [],
   "source": []
  },
  {
   "cell_type": "code",
   "execution_count": null,
   "metadata": {},
   "outputs": [],
   "source": []
  },
  {
   "cell_type": "code",
   "execution_count": 129,
   "metadata": {},
   "outputs": [],
   "source": [
    "df4 = df['RiskLevel'].value_counts()\n"
   ]
  },
  {
   "cell_type": "code",
   "execution_count": 267,
   "metadata": {},
   "outputs": [
    {
     "data": {
      "text/plain": [
       "<matplotlib.axes._subplots.AxesSubplot at 0x7fe0ed433c18>"
      ]
     },
     "execution_count": 267,
     "metadata": {},
     "output_type": "execute_result"
    },
    {
     "data": {
      "image/png": "[encoded data removed]",
      "text/plain": [
       "<matplotlib.figure.Figure at 0x7fe0ed4333c8>"
      ]
     },
     "metadata": {},
     "output_type": "display_data"
    }
   ],
   "source": [
    "df4.plot(kind='bar')\n"
   ]
  },
  {
   "cell_type": "code",
   "execution_count": 131,
   "metadata": {},
   "outputs": [],
   "source": [
    "df6 = df[df['RiskLevel'] == 'high risk']"
   ]
  },
  {
   "cell_type": "code",
   "execution_count": 132,
   "metadata": {},
   "outputs": [
    {
     "data": {
      "text/html": [
       "<div>\n",
       "<style scoped>\n",
       "    .dataframe tbody tr th:only-of-type {\n",
       "        vertical-align: middle;\n",
       "    }\n",
       "\n",
       "    .dataframe tbody tr th {\n",
       "        vertical-align: top;\n",
       "    }\n",
       "\n",
       "    .dataframe thead th {\n",
       "        text-align: right;\n",
       "    }\n",
       "</style>\n",
       "<table border=\"1\" class=\"dataframe\">\n",
       "  <thead>\n",
       "    <tr style=\"text-align: right;\">\n",
       "      <th></th>\n",
       "      <th>Age</th>\n",
       "      <th>Age Cat</th>\n",
       "      <th>SystolicBP</th>\n",
       "      <th>Sys Cat</th>\n",
       "      <th>DiastolicBP</th>\n",
       "      <th>BS</th>\n",
       "      <th>BS Cat</th>\n",
       "      <th>BodyTemp</th>\n",
       "      <th>HeartRate</th>\n",
       "      <th>Temp Cat</th>\n",
       "      <th>RiskLevel</th>\n",
       "      <th>Heart Cat</th>\n",
       "      <th>Dia Cat</th>\n",
       "    </tr>\n",
       "  </thead>\n",
       "  <tbody>\n",
       "    <tr>\n",
       "      <th>0</th>\n",
       "      <td>25</td>\n",
       "      <td>Normal Maternal Age</td>\n",
       "      <td>130</td>\n",
       "      <td>Normal</td>\n",
       "      <td>80</td>\n",
       "      <td>15.00</td>\n",
       "      <td>High</td>\n",
       "      <td>98.0</td>\n",
       "      <td>86</td>\n",
       "      <td>Normal</td>\n",
       "      <td>high risk</td>\n",
       "      <td>Normal</td>\n",
       "      <td>Low</td>\n",
       "    </tr>\n",
       "    <tr>\n",
       "      <th>1</th>\n",
       "      <td>35</td>\n",
       "      <td>Normal Maternal Age</td>\n",
       "      <td>140</td>\n",
       "      <td>Normal</td>\n",
       "      <td>90</td>\n",
       "      <td>13.00</td>\n",
       "      <td>High</td>\n",
       "      <td>98.0</td>\n",
       "      <td>70</td>\n",
       "      <td>Normal</td>\n",
       "      <td>high risk</td>\n",
       "      <td>Normal</td>\n",
       "      <td>Low</td>\n",
       "    </tr>\n",
       "    <tr>\n",
       "      <th>2</th>\n",
       "      <td>29</td>\n",
       "      <td>Normal Maternal Age</td>\n",
       "      <td>90</td>\n",
       "      <td>Low</td>\n",
       "      <td>70</td>\n",
       "      <td>8.00</td>\n",
       "      <td>Normal</td>\n",
       "      <td>100.0</td>\n",
       "      <td>80</td>\n",
       "      <td>High</td>\n",
       "      <td>high risk</td>\n",
       "      <td>Normal</td>\n",
       "      <td>Low</td>\n",
       "    </tr>\n",
       "    <tr>\n",
       "      <th>3</th>\n",
       "      <td>30</td>\n",
       "      <td>Normal Maternal Age</td>\n",
       "      <td>140</td>\n",
       "      <td>Normal</td>\n",
       "      <td>85</td>\n",
       "      <td>7.00</td>\n",
       "      <td>Normal</td>\n",
       "      <td>98.0</td>\n",
       "      <td>70</td>\n",
       "      <td>Normal</td>\n",
       "      <td>high risk</td>\n",
       "      <td>Normal</td>\n",
       "      <td>Low</td>\n",
       "    </tr>\n",
       "    <tr>\n",
       "      <th>5</th>\n",
       "      <td>23</td>\n",
       "      <td>Normal Maternal Age</td>\n",
       "      <td>140</td>\n",
       "      <td>Normal</td>\n",
       "      <td>80</td>\n",
       "      <td>7.01</td>\n",
       "      <td>Normal</td>\n",
       "      <td>98.0</td>\n",
       "      <td>70</td>\n",
       "      <td>Normal</td>\n",
       "      <td>high risk</td>\n",
       "      <td>Normal</td>\n",
       "      <td>Low</td>\n",
       "    </tr>\n",
       "  </tbody>\n",
       "</table>\n",
       "</div>"
      ],
      "text/plain": [
       "   Age              Age Cat  SystolicBP Sys Cat  DiastolicBP     BS  BS Cat  \\\n",
       "0   25  Normal Maternal Age         130  Normal           80  15.00    High   \n",
       "1   35  Normal Maternal Age         140  Normal           90  13.00    High   \n",
       "2   29  Normal Maternal Age          90     Low           70   8.00  Normal   \n",
       "3   30  Normal Maternal Age         140  Normal           85   7.00  Normal   \n",
       "5   23  Normal Maternal Age         140  Normal           80   7.01  Normal   \n",
       "\n",
       "   BodyTemp  HeartRate Temp Cat  RiskLevel Heart Cat Dia Cat  \n",
       "0      98.0         86   Normal  high risk    Normal     Low  \n",
       "1      98.0         70   Normal  high risk    Normal     Low  \n",
       "2     100.0         80   High    high risk    Normal     Low  \n",
       "3      98.0         70   Normal  high risk    Normal     Low  \n",
       "5      98.0         70   Normal  high risk    Normal     Low  "
      ]
     },
     "execution_count": 132,
     "metadata": {},
     "output_type": "execute_result"
    }
   ],
   "source": [
    "df6.head(5)"
   ]
  },
  {
   "cell_type": "code",
   "execution_count": 133,
   "metadata": {},
   "outputs": [],
   "source": [
    "df7 = df.groupby(['Age Cat', 'RiskLevel']).size()"
   ]
  },
  {
   "cell_type": "code",
   "execution_count": 134,
   "metadata": {},
   "outputs": [
    {
     "data": {
      "text/plain": [
       "Age Cat                RiskLevel\n",
       "Advanced Maternal Age  high risk    132\n",
       "                       low risk      72\n",
       "                       mid risk      64\n",
       "Normal Maternal Age    high risk    101\n",
       "                       low risk     195\n",
       "                       mid risk     171\n",
       "Teenage Pregnancy      high risk     39\n",
       "                       low risk     139\n",
       "                       mid risk     101\n",
       "dtype: int64"
      ]
     },
     "execution_count": 134,
     "metadata": {},
     "output_type": "execute_result"
    }
   ],
   "source": [
    "df7\n"
   ]
  },
  {
   "cell_type": "code",
   "execution_count": 135,
   "metadata": {},
   "outputs": [],
   "source": [
    "new = df[\"RiskLevel\"].isin([\"high risk\"])\n"
   ]
  },
  {
   "cell_type": "code",
   "execution_count": 136,
   "metadata": {},
   "outputs": [
    {
     "data": {
      "text/plain": [
       "Sys Cat  RiskLevel\n",
       "High     high risk     10\n",
       "Low      high risk     62\n",
       "         low risk     197\n",
       "         mid risk     112\n",
       "Normal   high risk    200\n",
       "         low risk     209\n",
       "         mid risk     224\n",
       "dtype: int64"
      ]
     },
     "execution_count": 136,
     "metadata": {},
     "output_type": "execute_result"
    }
   ],
   "source": [
    "df.groupby(['Sys Cat', 'RiskLevel']).size()"
   ]
  },
  {
   "cell_type": "code",
   "execution_count": 137,
   "metadata": {},
   "outputs": [
    {
     "data": {
      "text/plain": [
       "Dia Cat  RiskLevel\n",
       "Low      high risk    272\n",
       "         low risk     406\n",
       "         mid risk     336\n",
       "dtype: int64"
      ]
     },
     "execution_count": 137,
     "metadata": {},
     "output_type": "execute_result"
    }
   ],
   "source": [
    "df.groupby(['Dia Cat', 'RiskLevel']).size()"
   ]
  },
  {
   "cell_type": "code",
   "execution_count": 138,
   "metadata": {},
   "outputs": [
    {
     "data": {
      "text/plain": [
       "Temp Cat  RiskLevel\n",
       "High      high risk     70\n",
       "          low risk      39\n",
       "          mid risk      88\n",
       "Normal    high risk    202\n",
       "          low risk     367\n",
       "          mid risk     248\n",
       "dtype: int64"
      ]
     },
     "execution_count": 138,
     "metadata": {},
     "output_type": "execute_result"
    }
   ],
   "source": [
    "df.groupby(['Temp Cat', 'RiskLevel']).size()"
   ]
  },
  {
   "cell_type": "code",
   "execution_count": 139,
   "metadata": {},
   "outputs": [
    {
     "data": {
      "text/plain": [
       "Heart Cat  RiskLevel\n",
       "Low        low risk       2\n",
       "Normal     high risk    272\n",
       "           low risk     404\n",
       "           mid risk     336\n",
       "dtype: int64"
      ]
     },
     "execution_count": 139,
     "metadata": {},
     "output_type": "execute_result"
    }
   ],
   "source": [
    "df.groupby(['Heart Cat', 'RiskLevel']).size()"
   ]
  },
  {
   "cell_type": "code",
   "execution_count": 140,
   "metadata": {},
   "outputs": [
    {
     "data": {
      "text/plain": [
       "BS Cat  RiskLevel\n",
       "High    high risk    170\n",
       "        low risk       4\n",
       "        mid risk      32\n",
       "Low     high risk     22\n",
       "        low risk     144\n",
       "        mid risk     157\n",
       "Normal  high risk     80\n",
       "        low risk     258\n",
       "        mid risk     147\n",
       "dtype: int64"
      ]
     },
     "execution_count": 140,
     "metadata": {},
     "output_type": "execute_result"
    }
   ],
   "source": [
    "df.groupby(['BS Cat', 'RiskLevel']).size()"
   ]
  },
  {
   "cell_type": "code",
   "execution_count": 141,
   "metadata": {},
   "outputs": [
    {
     "data": {
      "text/plain": [
       "80"
      ]
     },
     "execution_count": 141,
     "metadata": {},
     "output_type": "execute_result"
    }
   ],
   "source": [
    "df['HeartRate'][2]"
   ]
  },
  {
   "cell_type": "code",
   "execution_count": 142,
   "metadata": {},
   "outputs": [],
   "source": [
    "df6 = df[df['RiskLevel'] == 'high risk']"
   ]
  },
  {
   "cell_type": "code",
   "execution_count": 143,
   "metadata": {},
   "outputs": [
    {
     "data": {
      "text/html": [
       "<div>\n",
       "<style scoped>\n",
       "    .dataframe tbody tr th:only-of-type {\n",
       "        vertical-align: middle;\n",
       "    }\n",
       "\n",
       "    .dataframe tbody tr th {\n",
       "        vertical-align: top;\n",
       "    }\n",
       "\n",
       "    .dataframe thead th {\n",
       "        text-align: right;\n",
       "    }\n",
       "</style>\n",
       "<table border=\"1\" class=\"dataframe\">\n",
       "  <thead>\n",
       "    <tr style=\"text-align: right;\">\n",
       "      <th></th>\n",
       "      <th>Age</th>\n",
       "      <th>Age Cat</th>\n",
       "      <th>SystolicBP</th>\n",
       "      <th>Sys Cat</th>\n",
       "      <th>DiastolicBP</th>\n",
       "      <th>BS</th>\n",
       "      <th>BS Cat</th>\n",
       "      <th>BodyTemp</th>\n",
       "      <th>HeartRate</th>\n",
       "      <th>Temp Cat</th>\n",
       "      <th>RiskLevel</th>\n",
       "      <th>Heart Cat</th>\n",
       "      <th>Dia Cat</th>\n",
       "    </tr>\n",
       "  </thead>\n",
       "  <tbody>\n",
       "    <tr>\n",
       "      <th>0</th>\n",
       "      <td>25</td>\n",
       "      <td>Normal Maternal Age</td>\n",
       "      <td>130</td>\n",
       "      <td>Normal</td>\n",
       "      <td>80</td>\n",
       "      <td>15.00</td>\n",
       "      <td>High</td>\n",
       "      <td>98.0</td>\n",
       "      <td>86</td>\n",
       "      <td>Normal</td>\n",
       "      <td>high risk</td>\n",
       "      <td>Normal</td>\n",
       "      <td>Low</td>\n",
       "    </tr>\n",
       "    <tr>\n",
       "      <th>1</th>\n",
       "      <td>35</td>\n",
       "      <td>Normal Maternal Age</td>\n",
       "      <td>140</td>\n",
       "      <td>Normal</td>\n",
       "      <td>90</td>\n",
       "      <td>13.00</td>\n",
       "      <td>High</td>\n",
       "      <td>98.0</td>\n",
       "      <td>70</td>\n",
       "      <td>Normal</td>\n",
       "      <td>high risk</td>\n",
       "      <td>Normal</td>\n",
       "      <td>Low</td>\n",
       "    </tr>\n",
       "    <tr>\n",
       "      <th>2</th>\n",
       "      <td>29</td>\n",
       "      <td>Normal Maternal Age</td>\n",
       "      <td>90</td>\n",
       "      <td>Low</td>\n",
       "      <td>70</td>\n",
       "      <td>8.00</td>\n",
       "      <td>Normal</td>\n",
       "      <td>100.0</td>\n",
       "      <td>80</td>\n",
       "      <td>High</td>\n",
       "      <td>high risk</td>\n",
       "      <td>Normal</td>\n",
       "      <td>Low</td>\n",
       "    </tr>\n",
       "    <tr>\n",
       "      <th>3</th>\n",
       "      <td>30</td>\n",
       "      <td>Normal Maternal Age</td>\n",
       "      <td>140</td>\n",
       "      <td>Normal</td>\n",
       "      <td>85</td>\n",
       "      <td>7.00</td>\n",
       "      <td>Normal</td>\n",
       "      <td>98.0</td>\n",
       "      <td>70</td>\n",
       "      <td>Normal</td>\n",
       "      <td>high risk</td>\n",
       "      <td>Normal</td>\n",
       "      <td>Low</td>\n",
       "    </tr>\n",
       "    <tr>\n",
       "      <th>5</th>\n",
       "      <td>23</td>\n",
       "      <td>Normal Maternal Age</td>\n",
       "      <td>140</td>\n",
       "      <td>Normal</td>\n",
       "      <td>80</td>\n",
       "      <td>7.01</td>\n",
       "      <td>Normal</td>\n",
       "      <td>98.0</td>\n",
       "      <td>70</td>\n",
       "      <td>Normal</td>\n",
       "      <td>high risk</td>\n",
       "      <td>Normal</td>\n",
       "      <td>Low</td>\n",
       "    </tr>\n",
       "    <tr>\n",
       "      <th>7</th>\n",
       "      <td>35</td>\n",
       "      <td>Normal Maternal Age</td>\n",
       "      <td>85</td>\n",
       "      <td>Low</td>\n",
       "      <td>60</td>\n",
       "      <td>11.00</td>\n",
       "      <td>High</td>\n",
       "      <td>102.0</td>\n",
       "      <td>86</td>\n",
       "      <td>High</td>\n",
       "      <td>high risk</td>\n",
       "      <td>Normal</td>\n",
       "      <td>Low</td>\n",
       "    </tr>\n",
       "    <tr>\n",
       "      <th>9</th>\n",
       "      <td>42</td>\n",
       "      <td>Advanced Maternal Age</td>\n",
       "      <td>130</td>\n",
       "      <td>Normal</td>\n",
       "      <td>80</td>\n",
       "      <td>18.00</td>\n",
       "      <td>High</td>\n",
       "      <td>98.0</td>\n",
       "      <td>70</td>\n",
       "      <td>Normal</td>\n",
       "      <td>high risk</td>\n",
       "      <td>Normal</td>\n",
       "      <td>Low</td>\n",
       "    </tr>\n",
       "    <tr>\n",
       "      <th>16</th>\n",
       "      <td>50</td>\n",
       "      <td>Advanced Maternal Age</td>\n",
       "      <td>140</td>\n",
       "      <td>Normal</td>\n",
       "      <td>90</td>\n",
       "      <td>15.00</td>\n",
       "      <td>High</td>\n",
       "      <td>98.0</td>\n",
       "      <td>90</td>\n",
       "      <td>Normal</td>\n",
       "      <td>high risk</td>\n",
       "      <td>Normal</td>\n",
       "      <td>Low</td>\n",
       "    </tr>\n",
       "    <tr>\n",
       "      <th>17</th>\n",
       "      <td>25</td>\n",
       "      <td>Normal Maternal Age</td>\n",
       "      <td>140</td>\n",
       "      <td>Normal</td>\n",
       "      <td>100</td>\n",
       "      <td>7.01</td>\n",
       "      <td>Normal</td>\n",
       "      <td>98.0</td>\n",
       "      <td>80</td>\n",
       "      <td>Normal</td>\n",
       "      <td>high risk</td>\n",
       "      <td>Normal</td>\n",
       "      <td>Low</td>\n",
       "    </tr>\n",
       "    <tr>\n",
       "      <th>20</th>\n",
       "      <td>40</td>\n",
       "      <td>Advanced Maternal Age</td>\n",
       "      <td>140</td>\n",
       "      <td>Normal</td>\n",
       "      <td>100</td>\n",
       "      <td>18.00</td>\n",
       "      <td>High</td>\n",
       "      <td>98.0</td>\n",
       "      <td>90</td>\n",
       "      <td>Normal</td>\n",
       "      <td>high risk</td>\n",
       "      <td>Normal</td>\n",
       "      <td>Low</td>\n",
       "    </tr>\n",
       "  </tbody>\n",
       "</table>\n",
       "</div>"
      ],
      "text/plain": [
       "    Age                Age Cat  SystolicBP Sys Cat  DiastolicBP     BS  \\\n",
       "0    25    Normal Maternal Age         130  Normal           80  15.00   \n",
       "1    35    Normal Maternal Age         140  Normal           90  13.00   \n",
       "2    29    Normal Maternal Age          90     Low           70   8.00   \n",
       "3    30    Normal Maternal Age         140  Normal           85   7.00   \n",
       "5    23    Normal Maternal Age         140  Normal           80   7.01   \n",
       "7    35    Normal Maternal Age          85     Low           60  11.00   \n",
       "9    42  Advanced Maternal Age         130  Normal           80  18.00   \n",
       "16   50  Advanced Maternal Age         140  Normal           90  15.00   \n",
       "17   25    Normal Maternal Age         140  Normal          100   7.01   \n",
       "20   40  Advanced Maternal Age         140  Normal          100  18.00   \n",
       "\n",
       "    BS Cat  BodyTemp  HeartRate Temp Cat  RiskLevel Heart Cat Dia Cat  \n",
       "0     High      98.0         86   Normal  high risk    Normal     Low  \n",
       "1     High      98.0         70   Normal  high risk    Normal     Low  \n",
       "2   Normal     100.0         80   High    high risk    Normal     Low  \n",
       "3   Normal      98.0         70   Normal  high risk    Normal     Low  \n",
       "5   Normal      98.0         70   Normal  high risk    Normal     Low  \n",
       "7     High     102.0         86   High    high risk    Normal     Low  \n",
       "9     High      98.0         70   Normal  high risk    Normal     Low  \n",
       "16    High      98.0         90   Normal  high risk    Normal     Low  \n",
       "17  Normal      98.0         80   Normal  high risk    Normal     Low  \n",
       "20    High      98.0         90   Normal  high risk    Normal     Low  "
      ]
     },
     "execution_count": 143,
     "metadata": {},
     "output_type": "execute_result"
    }
   ],
   "source": [
    "df6.head(10)"
   ]
  },
  {
   "cell_type": "code",
   "execution_count": 144,
   "metadata": {},
   "outputs": [
    {
     "data": {
      "text/plain": [
       "Normal Maternal Age      467\n",
       "Teenage Pregnancy        279\n",
       "Advanced Maternal Age    268\n",
       "Name: Age Cat, dtype: int64"
      ]
     },
     "execution_count": 144,
     "metadata": {},
     "output_type": "execute_result"
    }
   ],
   "source": [
    "df['Age Cat'].value_counts()\n"
   ]
  },
  {
   "cell_type": "code",
   "execution_count": 145,
   "metadata": {},
   "outputs": [
    {
     "data": {
      "text/plain": [
       "Normal    633\n",
       "Low       371\n",
       "High       10\n",
       "Name: Sys Cat, dtype: int64"
      ]
     },
     "execution_count": 145,
     "metadata": {},
     "output_type": "execute_result"
    }
   ],
   "source": [
    "df['Sys Cat'].value_counts()\n"
   ]
  },
  {
   "cell_type": "code",
   "execution_count": 149,
   "metadata": {},
   "outputs": [
    {
     "data": {
      "text/plain": [
       "Normal    842\n",
       "High      123\n",
       "Low        49\n",
       "Name: Dia Cat, dtype: int64"
      ]
     },
     "execution_count": 149,
     "metadata": {},
     "output_type": "execute_result"
    }
   ],
   "source": [
    "df['Dia Cat'].value_counts()\n"
   ]
  },
  {
   "cell_type": "code",
   "execution_count": 150,
   "metadata": {},
   "outputs": [
    {
     "data": {
      "text/plain": [
       "Normal    485\n",
       "Low       323\n",
       "High      206\n",
       "Name: BS Cat, dtype: int64"
      ]
     },
     "execution_count": 150,
     "metadata": {},
     "output_type": "execute_result"
    }
   ],
   "source": [
    "df['BS Cat'].value_counts()\n"
   ]
  },
  {
   "cell_type": "code",
   "execution_count": 151,
   "metadata": {},
   "outputs": [
    {
     "data": {
      "text/plain": [
       "Normal    1012\n",
       "Low          2\n",
       "Name: Heart Cat, dtype: int64"
      ]
     },
     "execution_count": 151,
     "metadata": {},
     "output_type": "execute_result"
    }
   ],
   "source": [
    "df['Heart Cat'].value_counts()\n"
   ]
  },
  {
   "cell_type": "code",
   "execution_count": 152,
   "metadata": {},
   "outputs": [
    {
     "data": {
      "text/plain": [
       "Normal    817\n",
       "High      197\n",
       "Name: Temp Cat, dtype: int64"
      ]
     },
     "execution_count": 152,
     "metadata": {},
     "output_type": "execute_result"
    }
   ],
   "source": [
    "df['Temp Cat'].value_counts()\n"
   ]
  },
  {
   "cell_type": "code",
   "execution_count": 161,
   "metadata": {},
   "outputs": [
    {
     "data": {
      "text/plain": [
       "<Container object of 1014 artists>"
      ]
     },
     "execution_count": 161,
     "metadata": {},
     "output_type": "execute_result"
    },
    {
     "data": {
      "image/png": "[encoded data removed]",
      "text/plain": [
       "<matplotlib.figure.Figure at 0x7fe0efbcf908>"
      ]
     },
     "metadata": {},
     "output_type": "display_data"
    }
   ],
   "source": [
    "plt.bar(df['RiskLevel'], df['Age'])"
   ]
  },
  {
   "cell_type": "code",
   "execution_count": 173,
   "metadata": {},
   "outputs": [],
   "source": [
    "pivot = pd.pivot_table(df, index = 'RiskLevel')"
   ]
  },
  {
   "cell_type": "code",
   "execution_count": 177,
   "metadata": {},
   "outputs": [
    {
     "data": {
      "text/html": [
       "<div>\n",
       "<style scoped>\n",
       "    .dataframe tbody tr th:only-of-type {\n",
       "        vertical-align: middle;\n",
       "    }\n",
       "\n",
       "    .dataframe tbody tr th {\n",
       "        vertical-align: top;\n",
       "    }\n",
       "\n",
       "    .dataframe thead th {\n",
       "        text-align: right;\n",
       "    }\n",
       "</style>\n",
       "<table border=\"1\" class=\"dataframe\">\n",
       "  <thead>\n",
       "    <tr style=\"text-align: right;\">\n",
       "      <th></th>\n",
       "      <th>Age</th>\n",
       "      <th>BS</th>\n",
       "      <th>BodyTemp</th>\n",
       "      <th>DiastolicBP</th>\n",
       "      <th>HeartRate</th>\n",
       "      <th>SystolicBP</th>\n",
       "    </tr>\n",
       "    <tr>\n",
       "      <th>RiskLevel</th>\n",
       "      <th></th>\n",
       "      <th></th>\n",
       "      <th></th>\n",
       "      <th></th>\n",
       "      <th></th>\n",
       "      <th></th>\n",
       "    </tr>\n",
       "  </thead>\n",
       "  <tbody>\n",
       "    <tr>\n",
       "      <th>high risk</th>\n",
       "      <td>36.216912</td>\n",
       "      <td>12.122610</td>\n",
       "      <td>98.899265</td>\n",
       "      <td>85.073529</td>\n",
       "      <td>76.742647</td>\n",
       "      <td>124.194853</td>\n",
       "    </tr>\n",
       "    <tr>\n",
       "      <th>low risk</th>\n",
       "      <td>26.869458</td>\n",
       "      <td>7.220271</td>\n",
       "      <td>98.368966</td>\n",
       "      <td>72.534483</td>\n",
       "      <td>72.770936</td>\n",
       "      <td>105.866995</td>\n",
       "    </tr>\n",
       "    <tr>\n",
       "      <th>mid risk</th>\n",
       "      <td>28.363095</td>\n",
       "      <td>7.795744</td>\n",
       "      <td>98.833333</td>\n",
       "      <td>74.232143</td>\n",
       "      <td>74.175595</td>\n",
       "      <td>113.154762</td>\n",
       "    </tr>\n",
       "  </tbody>\n",
       "</table>\n",
       "</div>"
      ],
      "text/plain": [
       "                 Age         BS   BodyTemp  DiastolicBP  HeartRate  SystolicBP\n",
       "RiskLevel                                                                     \n",
       "high risk  36.216912  12.122610  98.899265    85.073529  76.742647  124.194853\n",
       "low risk   26.869458   7.220271  98.368966    72.534483  72.770936  105.866995\n",
       "mid risk   28.363095   7.795744  98.833333    74.232143  74.175595  113.154762"
      ]
     },
     "execution_count": 177,
     "metadata": {},
     "output_type": "execute_result"
    }
   ],
   "source": [
    "pivot\n"
   ]
  },
  {
   "cell_type": "code",
   "execution_count": 178,
   "metadata": {},
   "outputs": [],
   "source": [
    "df8 = pd.pivot_table(df, index = 'RiskLevel', columns = 'Age Cat', values = 'Age')"
   ]
  },
  {
   "cell_type": "code",
   "execution_count": 179,
   "metadata": {},
   "outputs": [
    {
     "data": {
      "text/html": [
       "<div>\n",
       "<style scoped>\n",
       "    .dataframe tbody tr th:only-of-type {\n",
       "        vertical-align: middle;\n",
       "    }\n",
       "\n",
       "    .dataframe tbody tr th {\n",
       "        vertical-align: top;\n",
       "    }\n",
       "\n",
       "    .dataframe thead th {\n",
       "        text-align: right;\n",
       "    }\n",
       "</style>\n",
       "<table border=\"1\" class=\"dataframe\">\n",
       "  <thead>\n",
       "    <tr style=\"text-align: right;\">\n",
       "      <th>Age Cat</th>\n",
       "      <th>Advanced Maternal Age</th>\n",
       "      <th>Normal Maternal Age</th>\n",
       "      <th>Teenage Pregnancy</th>\n",
       "    </tr>\n",
       "    <tr>\n",
       "      <th>RiskLevel</th>\n",
       "      <th></th>\n",
       "      <th></th>\n",
       "      <th></th>\n",
       "    </tr>\n",
       "  </thead>\n",
       "  <tbody>\n",
       "    <tr>\n",
       "      <th>high risk</th>\n",
       "      <td>47.348485</td>\n",
       "      <td>29.603960</td>\n",
       "      <td>15.666667</td>\n",
       "    </tr>\n",
       "    <tr>\n",
       "      <th>low risk</th>\n",
       "      <td>51.319444</td>\n",
       "      <td>25.671795</td>\n",
       "      <td>15.884892</td>\n",
       "    </tr>\n",
       "    <tr>\n",
       "      <th>mid risk</th>\n",
       "      <td>50.687500</td>\n",
       "      <td>26.929825</td>\n",
       "      <td>16.643564</td>\n",
       "    </tr>\n",
       "  </tbody>\n",
       "</table>\n",
       "</div>"
      ],
      "text/plain": [
       "Age Cat    Advanced Maternal Age  Normal Maternal Age  Teenage Pregnancy\n",
       "RiskLevel                                                               \n",
       "high risk              47.348485            29.603960          15.666667\n",
       "low risk               51.319444            25.671795          15.884892\n",
       "mid risk               50.687500            26.929825          16.643564"
      ]
     },
     "execution_count": 179,
     "metadata": {},
     "output_type": "execute_result"
    }
   ],
   "source": [
    "df8"
   ]
  },
  {
   "cell_type": "code",
   "execution_count": 183,
   "metadata": {},
   "outputs": [],
   "source": [
    "df9 = pd.pivot_table(df, index = 'RiskLevel', columns = 'Sys Cat', values = 'SystolicBP')"
   ]
  },
  {
   "cell_type": "code",
   "execution_count": 184,
   "metadata": {},
   "outputs": [
    {
     "data": {
      "text/html": [
       "<div>\n",
       "<style scoped>\n",
       "    .dataframe tbody tr th:only-of-type {\n",
       "        vertical-align: middle;\n",
       "    }\n",
       "\n",
       "    .dataframe tbody tr th {\n",
       "        vertical-align: top;\n",
       "    }\n",
       "\n",
       "    .dataframe thead th {\n",
       "        text-align: right;\n",
       "    }\n",
       "</style>\n",
       "<table border=\"1\" class=\"dataframe\">\n",
       "  <thead>\n",
       "    <tr style=\"text-align: right;\">\n",
       "      <th>Sys Cat</th>\n",
       "      <th>High</th>\n",
       "      <th>Low</th>\n",
       "      <th>Normal</th>\n",
       "    </tr>\n",
       "    <tr>\n",
       "      <th>RiskLevel</th>\n",
       "      <th></th>\n",
       "      <th></th>\n",
       "      <th></th>\n",
       "    </tr>\n",
       "  </thead>\n",
       "  <tbody>\n",
       "    <tr>\n",
       "      <th>high risk</th>\n",
       "      <td>160.0</td>\n",
       "      <td>92.193548</td>\n",
       "      <td>132.325000</td>\n",
       "    </tr>\n",
       "    <tr>\n",
       "      <th>low risk</th>\n",
       "      <td>NaN</td>\n",
       "      <td>90.827411</td>\n",
       "      <td>120.043062</td>\n",
       "    </tr>\n",
       "    <tr>\n",
       "      <th>mid risk</th>\n",
       "      <td>NaN</td>\n",
       "      <td>94.285714</td>\n",
       "      <td>122.589286</td>\n",
       "    </tr>\n",
       "  </tbody>\n",
       "</table>\n",
       "</div>"
      ],
      "text/plain": [
       "Sys Cat    High          Low      Normal\n",
       "RiskLevel                               \n",
       "high risk   160.0  92.193548  132.325000\n",
       "low risk      NaN  90.827411  120.043062\n",
       "mid risk      NaN  94.285714  122.589286"
      ]
     },
     "execution_count": 184,
     "metadata": {},
     "output_type": "execute_result"
    }
   ],
   "source": [
    "df9"
   ]
  },
  {
   "cell_type": "code",
   "execution_count": 185,
   "metadata": {},
   "outputs": [
    {
     "data": {
      "text/plain": [
       "<matplotlib.axes._subplots.AxesSubplot at 0x7fe0ee251d68>"
      ]
     },
     "execution_count": 185,
     "metadata": {},
     "output_type": "execute_result"
    },
    {
     "data": {
      "image/png": "[encoded data removed]",
      "text/plain": [
       "<matplotlib.figure.Figure at 0x7fe0eed2b9e8>"
      ]
     },
     "metadata": {},
     "output_type": "display_data"
    }
   ],
   "source": [
    "df8.plot(kind='bar')\n"
   ]
  },
  {
   "cell_type": "code",
   "execution_count": 186,
   "metadata": {},
   "outputs": [
    {
     "data": {
      "text/plain": [
       "<matplotlib.axes._subplots.AxesSubplot at 0x7fe0edfa4518>"
      ]
     },
     "execution_count": 186,
     "metadata": {},
     "output_type": "execute_result"
    },
    {
     "data": {
      "image/png": "[encoded data removed]",
      "text/plain": [
       "<matplotlib.figure.Figure at 0x7fe0edb38c18>"
      ]
     },
     "metadata": {},
     "output_type": "display_data"
    }
   ],
   "source": [
    "df9.plot(kind='bar')\n"
   ]
  },
  {
   "cell_type": "code",
   "execution_count": 191,
   "metadata": {},
   "outputs": [],
   "source": [
    "df10 = pd.pivot_table(df, index = 'RiskLevel', columns = 'Dia Cat', values = 'DiastolicBP')"
   ]
  },
  {
   "cell_type": "code",
   "execution_count": 192,
   "metadata": {},
   "outputs": [
    {
     "data": {
      "text/plain": [
       "<matplotlib.axes._subplots.AxesSubplot at 0x7fe0ed81b320>"
      ]
     },
     "execution_count": 192,
     "metadata": {},
     "output_type": "execute_result"
    },
    {
     "data": {
      "image/png": "[encoded data removed]",
      "text/plain": [
       "<matplotlib.figure.Figure at 0x7fe0edb436d8>"
      ]
     },
     "metadata": {},
     "output_type": "display_data"
    }
   ],
   "source": [
    "df10.plot(kind='bar')\n"
   ]
  },
  {
   "cell_type": "code",
   "execution_count": 193,
   "metadata": {},
   "outputs": [],
   "source": [
    "df11 = pd.pivot_table(df, index = 'RiskLevel', columns = 'BS Cat', values = 'BS')"
   ]
  },
  {
   "cell_type": "code",
   "execution_count": 208,
   "metadata": {},
   "outputs": [
    {
     "data": {
      "text/plain": [
       "<matplotlib.axes._subplots.AxesSubplot at 0x7fe0ed52a198>"
      ]
     },
     "execution_count": 208,
     "metadata": {},
     "output_type": "execute_result"
    },
    {
     "data": {
      "image/png": "[encoded data removed]",
      "text/plain": [
       "<matplotlib.figure.Figure at 0x7fe0ed5764e0>"
      ]
     },
     "metadata": {},
     "output_type": "display_data"
    }
   ],
   "source": [
    "df11.plot(kind='bar')\n"
   ]
  },
  {
   "cell_type": "code",
   "execution_count": 196,
   "metadata": {},
   "outputs": [],
   "source": [
    "df12 = pd.pivot_table(df, index = 'RiskLevel', columns = 'Temp Cat', values = 'BodyTemp')"
   ]
  },
  {
   "cell_type": "code",
   "execution_count": 197,
   "metadata": {},
   "outputs": [
    {
     "data": {
      "text/plain": [
       "<matplotlib.axes._subplots.AxesSubplot at 0x7fe0ed890ba8>"
      ]
     },
     "execution_count": 197,
     "metadata": {},
     "output_type": "execute_result"
    },
    {
     "data": {
      "image/png": "[encoded data removed]",
      "text/plain": [
       "<matplotlib.figure.Figure at 0x7fe0ed8399b0>"
      ]
     },
     "metadata": {},
     "output_type": "display_data"
    }
   ],
   "source": [
    "df12.plot(kind='bar')\n"
   ]
  },
  {
   "cell_type": "code",
   "execution_count": 198,
   "metadata": {},
   "outputs": [],
   "source": [
    "df13 = pd.pivot_table(df, index = 'RiskLevel', columns = 'Heart Cat', values = 'HeartRate')"
   ]
  },
  {
   "cell_type": "code",
   "execution_count": 199,
   "metadata": {},
   "outputs": [
    {
     "data": {
      "text/plain": [
       "<matplotlib.axes._subplots.AxesSubplot at 0x7fe0ed6e19e8>"
      ]
     },
     "execution_count": 199,
     "metadata": {},
     "output_type": "execute_result"
    },
    {
     "data": {
      "image/png": "[encoded data removed]",
      "text/plain": [
       "<matplotlib.figure.Figure at 0x7fe0ed841e10>"
      ]
     },
     "metadata": {},
     "output_type": "display_data"
    }
   ],
   "source": [
    "df13.plot(kind='bar')\n"
   ]
  },
  {
   "cell_type": "code",
   "execution_count": 203,
   "metadata": {},
   "outputs": [
    {
     "data": {
      "text/plain": [
       "<Container object of 3 artists>"
      ]
     },
     "execution_count": 203,
     "metadata": {},
     "output_type": "execute_result"
    },
    {
     "data": {
      "image/png": "[encoded data removed]",
      "text/plain": [
       "<matplotlib.figure.Figure at 0x7fe0ed83b710>"
      ]
     },
     "metadata": {},
     "output_type": "display_data"
    }
   ],
   "source": [
    "plt.bar(df9.index, df9.columns)"
   ]
  },
  {
   "cell_type": "code",
   "execution_count": 209,
   "metadata": {},
   "outputs": [
    {
     "data": {
      "text/html": [
       "<div>\n",
       "<style scoped>\n",
       "    .dataframe tbody tr th:only-of-type {\n",
       "        vertical-align: middle;\n",
       "    }\n",
       "\n",
       "    .dataframe tbody tr th {\n",
       "        vertical-align: top;\n",
       "    }\n",
       "\n",
       "    .dataframe thead th {\n",
       "        text-align: right;\n",
       "    }\n",
       "</style>\n",
       "<table border=\"1\" class=\"dataframe\">\n",
       "  <thead>\n",
       "    <tr style=\"text-align: right;\">\n",
       "      <th></th>\n",
       "      <th>Age</th>\n",
       "      <th>Age Cat</th>\n",
       "      <th>SystolicBP</th>\n",
       "      <th>Sys Cat</th>\n",
       "      <th>DiastolicBP</th>\n",
       "      <th>BS</th>\n",
       "      <th>BS Cat</th>\n",
       "      <th>BodyTemp</th>\n",
       "      <th>HeartRate</th>\n",
       "      <th>Temp Cat</th>\n",
       "      <th>RiskLevel</th>\n",
       "      <th>Heart Cat</th>\n",
       "      <th>Dia Cat</th>\n",
       "    </tr>\n",
       "  </thead>\n",
       "  <tbody>\n",
       "    <tr>\n",
       "      <th>0</th>\n",
       "      <td>25</td>\n",
       "      <td>Normal Maternal Age</td>\n",
       "      <td>130</td>\n",
       "      <td>Normal</td>\n",
       "      <td>80</td>\n",
       "      <td>15.00</td>\n",
       "      <td>High</td>\n",
       "      <td>98.0</td>\n",
       "      <td>86</td>\n",
       "      <td>Normal</td>\n",
       "      <td>high risk</td>\n",
       "      <td>Normal</td>\n",
       "      <td>Normal</td>\n",
       "    </tr>\n",
       "    <tr>\n",
       "      <th>1</th>\n",
       "      <td>35</td>\n",
       "      <td>Normal Maternal Age</td>\n",
       "      <td>140</td>\n",
       "      <td>Normal</td>\n",
       "      <td>90</td>\n",
       "      <td>13.00</td>\n",
       "      <td>High</td>\n",
       "      <td>98.0</td>\n",
       "      <td>70</td>\n",
       "      <td>Normal</td>\n",
       "      <td>high risk</td>\n",
       "      <td>Normal</td>\n",
       "      <td>Normal</td>\n",
       "    </tr>\n",
       "    <tr>\n",
       "      <th>2</th>\n",
       "      <td>29</td>\n",
       "      <td>Normal Maternal Age</td>\n",
       "      <td>90</td>\n",
       "      <td>Low</td>\n",
       "      <td>70</td>\n",
       "      <td>8.00</td>\n",
       "      <td>Normal</td>\n",
       "      <td>100.0</td>\n",
       "      <td>80</td>\n",
       "      <td>High</td>\n",
       "      <td>high risk</td>\n",
       "      <td>Normal</td>\n",
       "      <td>Normal</td>\n",
       "    </tr>\n",
       "    <tr>\n",
       "      <th>3</th>\n",
       "      <td>30</td>\n",
       "      <td>Normal Maternal Age</td>\n",
       "      <td>140</td>\n",
       "      <td>Normal</td>\n",
       "      <td>85</td>\n",
       "      <td>7.00</td>\n",
       "      <td>Normal</td>\n",
       "      <td>98.0</td>\n",
       "      <td>70</td>\n",
       "      <td>Normal</td>\n",
       "      <td>high risk</td>\n",
       "      <td>Normal</td>\n",
       "      <td>Normal</td>\n",
       "    </tr>\n",
       "    <tr>\n",
       "      <th>4</th>\n",
       "      <td>35</td>\n",
       "      <td>Normal Maternal Age</td>\n",
       "      <td>120</td>\n",
       "      <td>Normal</td>\n",
       "      <td>60</td>\n",
       "      <td>6.10</td>\n",
       "      <td>Low</td>\n",
       "      <td>98.0</td>\n",
       "      <td>76</td>\n",
       "      <td>Normal</td>\n",
       "      <td>low risk</td>\n",
       "      <td>Normal</td>\n",
       "      <td>Normal</td>\n",
       "    </tr>\n",
       "    <tr>\n",
       "      <th>5</th>\n",
       "      <td>23</td>\n",
       "      <td>Normal Maternal Age</td>\n",
       "      <td>140</td>\n",
       "      <td>Normal</td>\n",
       "      <td>80</td>\n",
       "      <td>7.01</td>\n",
       "      <td>Normal</td>\n",
       "      <td>98.0</td>\n",
       "      <td>70</td>\n",
       "      <td>Normal</td>\n",
       "      <td>high risk</td>\n",
       "      <td>Normal</td>\n",
       "      <td>Normal</td>\n",
       "    </tr>\n",
       "    <tr>\n",
       "      <th>6</th>\n",
       "      <td>23</td>\n",
       "      <td>Normal Maternal Age</td>\n",
       "      <td>130</td>\n",
       "      <td>Normal</td>\n",
       "      <td>70</td>\n",
       "      <td>7.01</td>\n",
       "      <td>Normal</td>\n",
       "      <td>98.0</td>\n",
       "      <td>78</td>\n",
       "      <td>Normal</td>\n",
       "      <td>mid risk</td>\n",
       "      <td>Normal</td>\n",
       "      <td>Normal</td>\n",
       "    </tr>\n",
       "    <tr>\n",
       "      <th>7</th>\n",
       "      <td>35</td>\n",
       "      <td>Normal Maternal Age</td>\n",
       "      <td>85</td>\n",
       "      <td>Low</td>\n",
       "      <td>60</td>\n",
       "      <td>11.00</td>\n",
       "      <td>High</td>\n",
       "      <td>102.0</td>\n",
       "      <td>86</td>\n",
       "      <td>High</td>\n",
       "      <td>high risk</td>\n",
       "      <td>Normal</td>\n",
       "      <td>Normal</td>\n",
       "    </tr>\n",
       "    <tr>\n",
       "      <th>8</th>\n",
       "      <td>32</td>\n",
       "      <td>Normal Maternal Age</td>\n",
       "      <td>120</td>\n",
       "      <td>Normal</td>\n",
       "      <td>90</td>\n",
       "      <td>6.90</td>\n",
       "      <td>Low</td>\n",
       "      <td>98.0</td>\n",
       "      <td>70</td>\n",
       "      <td>Normal</td>\n",
       "      <td>mid risk</td>\n",
       "      <td>Normal</td>\n",
       "      <td>Normal</td>\n",
       "    </tr>\n",
       "    <tr>\n",
       "      <th>9</th>\n",
       "      <td>42</td>\n",
       "      <td>Advanced Maternal Age</td>\n",
       "      <td>130</td>\n",
       "      <td>Normal</td>\n",
       "      <td>80</td>\n",
       "      <td>18.00</td>\n",
       "      <td>High</td>\n",
       "      <td>98.0</td>\n",
       "      <td>70</td>\n",
       "      <td>Normal</td>\n",
       "      <td>high risk</td>\n",
       "      <td>Normal</td>\n",
       "      <td>Normal</td>\n",
       "    </tr>\n",
       "  </tbody>\n",
       "</table>\n",
       "</div>"
      ],
      "text/plain": [
       "   Age                Age Cat  SystolicBP Sys Cat  DiastolicBP     BS  BS Cat  \\\n",
       "0   25    Normal Maternal Age         130  Normal           80  15.00    High   \n",
       "1   35    Normal Maternal Age         140  Normal           90  13.00    High   \n",
       "2   29    Normal Maternal Age          90     Low           70   8.00  Normal   \n",
       "3   30    Normal Maternal Age         140  Normal           85   7.00  Normal   \n",
       "4   35    Normal Maternal Age         120  Normal           60   6.10     Low   \n",
       "5   23    Normal Maternal Age         140  Normal           80   7.01  Normal   \n",
       "6   23    Normal Maternal Age         130  Normal           70   7.01  Normal   \n",
       "7   35    Normal Maternal Age          85     Low           60  11.00    High   \n",
       "8   32    Normal Maternal Age         120  Normal           90   6.90     Low   \n",
       "9   42  Advanced Maternal Age         130  Normal           80  18.00    High   \n",
       "\n",
       "   BodyTemp  HeartRate Temp Cat  RiskLevel Heart Cat Dia Cat  \n",
       "0      98.0         86   Normal  high risk    Normal  Normal  \n",
       "1      98.0         70   Normal  high risk    Normal  Normal  \n",
       "2     100.0         80   High    high risk    Normal  Normal  \n",
       "3      98.0         70   Normal  high risk    Normal  Normal  \n",
       "4      98.0         76   Normal   low risk    Normal  Normal  \n",
       "5      98.0         70   Normal  high risk    Normal  Normal  \n",
       "6      98.0         78   Normal   mid risk    Normal  Normal  \n",
       "7     102.0         86   High    high risk    Normal  Normal  \n",
       "8      98.0         70   Normal   mid risk    Normal  Normal  \n",
       "9      98.0         70   Normal  high risk    Normal  Normal  "
      ]
     },
     "execution_count": 209,
     "metadata": {},
     "output_type": "execute_result"
    }
   ],
   "source": [
    "df.head(10)"
   ]
  },
  {
   "cell_type": "code",
   "execution_count": 210,
   "metadata": {},
   "outputs": [],
   "source": [
    "df_new = df[df['RiskLevel'] == 'high risk']"
   ]
  },
  {
   "cell_type": "code",
   "execution_count": 221,
   "metadata": {},
   "outputs": [
    {
     "data": {
      "text/html": [
       "<div>\n",
       "<style scoped>\n",
       "    .dataframe tbody tr th:only-of-type {\n",
       "        vertical-align: middle;\n",
       "    }\n",
       "\n",
       "    .dataframe tbody tr th {\n",
       "        vertical-align: top;\n",
       "    }\n",
       "\n",
       "    .dataframe thead th {\n",
       "        text-align: right;\n",
       "    }\n",
       "</style>\n",
       "<table border=\"1\" class=\"dataframe\">\n",
       "  <thead>\n",
       "    <tr style=\"text-align: right;\">\n",
       "      <th></th>\n",
       "      <th>Age</th>\n",
       "      <th>Age Cat</th>\n",
       "      <th>SystolicBP</th>\n",
       "      <th>Sys Cat</th>\n",
       "      <th>DiastolicBP</th>\n",
       "      <th>BS</th>\n",
       "      <th>BS Cat</th>\n",
       "      <th>BodyTemp</th>\n",
       "      <th>HeartRate</th>\n",
       "      <th>Temp Cat</th>\n",
       "      <th>RiskLevel</th>\n",
       "      <th>Heart Cat</th>\n",
       "      <th>Dia Cat</th>\n",
       "    </tr>\n",
       "  </thead>\n",
       "  <tbody>\n",
       "    <tr>\n",
       "      <th>0</th>\n",
       "      <td>25</td>\n",
       "      <td>Normal Maternal Age</td>\n",
       "      <td>130</td>\n",
       "      <td>Normal</td>\n",
       "      <td>80</td>\n",
       "      <td>15.00</td>\n",
       "      <td>High</td>\n",
       "      <td>98.0</td>\n",
       "      <td>86</td>\n",
       "      <td>Normal</td>\n",
       "      <td>high risk</td>\n",
       "      <td>Normal</td>\n",
       "      <td>Normal</td>\n",
       "    </tr>\n",
       "    <tr>\n",
       "      <th>1</th>\n",
       "      <td>35</td>\n",
       "      <td>Normal Maternal Age</td>\n",
       "      <td>140</td>\n",
       "      <td>Normal</td>\n",
       "      <td>90</td>\n",
       "      <td>13.00</td>\n",
       "      <td>High</td>\n",
       "      <td>98.0</td>\n",
       "      <td>70</td>\n",
       "      <td>Normal</td>\n",
       "      <td>high risk</td>\n",
       "      <td>Normal</td>\n",
       "      <td>Normal</td>\n",
       "    </tr>\n",
       "    <tr>\n",
       "      <th>2</th>\n",
       "      <td>29</td>\n",
       "      <td>Normal Maternal Age</td>\n",
       "      <td>90</td>\n",
       "      <td>Low</td>\n",
       "      <td>70</td>\n",
       "      <td>8.00</td>\n",
       "      <td>Normal</td>\n",
       "      <td>100.0</td>\n",
       "      <td>80</td>\n",
       "      <td>High</td>\n",
       "      <td>high risk</td>\n",
       "      <td>Normal</td>\n",
       "      <td>Normal</td>\n",
       "    </tr>\n",
       "    <tr>\n",
       "      <th>3</th>\n",
       "      <td>30</td>\n",
       "      <td>Normal Maternal Age</td>\n",
       "      <td>140</td>\n",
       "      <td>Normal</td>\n",
       "      <td>85</td>\n",
       "      <td>7.00</td>\n",
       "      <td>Normal</td>\n",
       "      <td>98.0</td>\n",
       "      <td>70</td>\n",
       "      <td>Normal</td>\n",
       "      <td>high risk</td>\n",
       "      <td>Normal</td>\n",
       "      <td>Normal</td>\n",
       "    </tr>\n",
       "    <tr>\n",
       "      <th>5</th>\n",
       "      <td>23</td>\n",
       "      <td>Normal Maternal Age</td>\n",
       "      <td>140</td>\n",
       "      <td>Normal</td>\n",
       "      <td>80</td>\n",
       "      <td>7.01</td>\n",
       "      <td>Normal</td>\n",
       "      <td>98.0</td>\n",
       "      <td>70</td>\n",
       "      <td>Normal</td>\n",
       "      <td>high risk</td>\n",
       "      <td>Normal</td>\n",
       "      <td>Normal</td>\n",
       "    </tr>\n",
       "  </tbody>\n",
       "</table>\n",
       "</div>"
      ],
      "text/plain": [
       "   Age              Age Cat  SystolicBP Sys Cat  DiastolicBP     BS  BS Cat  \\\n",
       "0   25  Normal Maternal Age         130  Normal           80  15.00    High   \n",
       "1   35  Normal Maternal Age         140  Normal           90  13.00    High   \n",
       "2   29  Normal Maternal Age          90     Low           70   8.00  Normal   \n",
       "3   30  Normal Maternal Age         140  Normal           85   7.00  Normal   \n",
       "5   23  Normal Maternal Age         140  Normal           80   7.01  Normal   \n",
       "\n",
       "   BodyTemp  HeartRate Temp Cat  RiskLevel Heart Cat Dia Cat  \n",
       "0      98.0         86   Normal  high risk    Normal  Normal  \n",
       "1      98.0         70   Normal  high risk    Normal  Normal  \n",
       "2     100.0         80   High    high risk    Normal  Normal  \n",
       "3      98.0         70   Normal  high risk    Normal  Normal  \n",
       "5      98.0         70   Normal  high risk    Normal  Normal  "
      ]
     },
     "execution_count": 221,
     "metadata": {},
     "output_type": "execute_result"
    }
   ],
   "source": [
    "df_new.head(5)"
   ]
  },
  {
   "cell_type": "code",
   "execution_count": 213,
   "metadata": {},
   "outputs": [
    {
     "data": {
      "text/plain": [
       "(272, 13)"
      ]
     },
     "execution_count": 213,
     "metadata": {},
     "output_type": "execute_result"
    }
   ],
   "source": [
    "df_new.shape"
   ]
  },
  {
   "cell_type": "code",
   "execution_count": 214,
   "metadata": {},
   "outputs": [
    {
     "data": {
      "text/plain": [
       "Advanced Maternal Age    132\n",
       "Normal Maternal Age      101\n",
       "Teenage Pregnancy         39\n",
       "Name: Age Cat, dtype: int64"
      ]
     },
     "execution_count": 214,
     "metadata": {},
     "output_type": "execute_result"
    }
   ],
   "source": [
    "df_new['Age Cat'].value_counts()\n"
   ]
  },
  {
   "cell_type": "code",
   "execution_count": 225,
   "metadata": {},
   "outputs": [
    {
     "data": {
      "text/plain": [
       "Age Cat                RiskLevel\n",
       "Advanced Maternal Age  high risk    132\n",
       "Normal Maternal Age    high risk    101\n",
       "Teenage Pregnancy      high risk     39\n",
       "dtype: int64"
      ]
     },
     "execution_count": 225,
     "metadata": {},
     "output_type": "execute_result"
    }
   ],
   "source": [
    "df_new.groupby(['Age Cat', 'RiskLevel']).size()"
   ]
  },
  {
   "cell_type": "code",
   "execution_count": 215,
   "metadata": {},
   "outputs": [
    {
     "data": {
      "text/plain": [
       "Normal    200\n",
       "Low        62\n",
       "High       10\n",
       "Name: Sys Cat, dtype: int64"
      ]
     },
     "execution_count": 215,
     "metadata": {},
     "output_type": "execute_result"
    }
   ],
   "source": [
    "df_new['Sys Cat'].value_counts()\n"
   ]
  },
  {
   "cell_type": "code",
   "execution_count": 227,
   "metadata": {},
   "outputs": [
    {
     "data": {
      "text/plain": [
       "Normal    169\n",
       "High      103\n",
       "Name: Dia Cat, dtype: int64"
      ]
     },
     "execution_count": 227,
     "metadata": {},
     "output_type": "execute_result"
    }
   ],
   "source": [
    "df_new['Dia Cat'].value_counts()\n"
   ]
  },
  {
   "cell_type": "code",
   "execution_count": 217,
   "metadata": {},
   "outputs": [
    {
     "data": {
      "text/plain": [
       "High      170\n",
       "Normal     80\n",
       "Low        22\n",
       "Name: BS Cat, dtype: int64"
      ]
     },
     "execution_count": 217,
     "metadata": {},
     "output_type": "execute_result"
    }
   ],
   "source": [
    "df_new['BS Cat'].value_counts()\n"
   ]
  },
  {
   "cell_type": "code",
   "execution_count": 218,
   "metadata": {},
   "outputs": [
    {
     "data": {
      "text/plain": [
       "Normal    202\n",
       "High       70\n",
       "Name: Temp Cat, dtype: int64"
      ]
     },
     "execution_count": 218,
     "metadata": {},
     "output_type": "execute_result"
    }
   ],
   "source": [
    "df_new['Temp Cat'].value_counts()\n"
   ]
  },
  {
   "cell_type": "code",
   "execution_count": 219,
   "metadata": {},
   "outputs": [
    {
     "data": {
      "text/plain": [
       "Normal    272\n",
       "Name: Heart Cat, dtype: int64"
      ]
     },
     "execution_count": 219,
     "metadata": {},
     "output_type": "execute_result"
    }
   ],
   "source": [
    "df_new['Heart Cat'].value_counts()\n"
   ]
  },
  {
   "cell_type": "code",
   "execution_count": 220,
   "metadata": {},
   "outputs": [
    {
     "data": {
      "text/plain": [
       "high risk    272\n",
       "Name: RiskLevel, dtype: int64"
      ]
     },
     "execution_count": 220,
     "metadata": {},
     "output_type": "execute_result"
    }
   ],
   "source": [
    "df_new['RiskLevel'].value_counts()\n"
   ]
  },
  {
   "cell_type": "code",
   "execution_count": 228,
   "metadata": {},
   "outputs": [
    {
     "data": {
      "text/html": [
       "<div>\n",
       "<style scoped>\n",
       "    .dataframe tbody tr th:only-of-type {\n",
       "        vertical-align: middle;\n",
       "    }\n",
       "\n",
       "    .dataframe tbody tr th {\n",
       "        vertical-align: top;\n",
       "    }\n",
       "\n",
       "    .dataframe thead th {\n",
       "        text-align: right;\n",
       "    }\n",
       "</style>\n",
       "<table border=\"1\" class=\"dataframe\">\n",
       "  <thead>\n",
       "    <tr style=\"text-align: right;\">\n",
       "      <th></th>\n",
       "      <th>Age</th>\n",
       "      <th>SystolicBP</th>\n",
       "      <th>DiastolicBP</th>\n",
       "      <th>BS</th>\n",
       "      <th>BodyTemp</th>\n",
       "      <th>HeartRate</th>\n",
       "    </tr>\n",
       "  </thead>\n",
       "  <tbody>\n",
       "    <tr>\n",
       "      <th>Age</th>\n",
       "      <td>1.000000</td>\n",
       "      <td>0.416045</td>\n",
       "      <td>0.398026</td>\n",
       "      <td>0.473284</td>\n",
       "      <td>-0.255323</td>\n",
       "      <td>0.079798</td>\n",
       "    </tr>\n",
       "    <tr>\n",
       "      <th>SystolicBP</th>\n",
       "      <td>0.416045</td>\n",
       "      <td>1.000000</td>\n",
       "      <td>0.787006</td>\n",
       "      <td>0.425172</td>\n",
       "      <td>-0.286616</td>\n",
       "      <td>-0.023108</td>\n",
       "    </tr>\n",
       "    <tr>\n",
       "      <th>DiastolicBP</th>\n",
       "      <td>0.398026</td>\n",
       "      <td>0.787006</td>\n",
       "      <td>1.000000</td>\n",
       "      <td>0.423824</td>\n",
       "      <td>-0.257538</td>\n",
       "      <td>-0.046151</td>\n",
       "    </tr>\n",
       "    <tr>\n",
       "      <th>BS</th>\n",
       "      <td>0.473284</td>\n",
       "      <td>0.425172</td>\n",
       "      <td>0.423824</td>\n",
       "      <td>1.000000</td>\n",
       "      <td>-0.103493</td>\n",
       "      <td>0.142867</td>\n",
       "    </tr>\n",
       "    <tr>\n",
       "      <th>BodyTemp</th>\n",
       "      <td>-0.255323</td>\n",
       "      <td>-0.286616</td>\n",
       "      <td>-0.257538</td>\n",
       "      <td>-0.103493</td>\n",
       "      <td>1.000000</td>\n",
       "      <td>0.098771</td>\n",
       "    </tr>\n",
       "    <tr>\n",
       "      <th>HeartRate</th>\n",
       "      <td>0.079798</td>\n",
       "      <td>-0.023108</td>\n",
       "      <td>-0.046151</td>\n",
       "      <td>0.142867</td>\n",
       "      <td>0.098771</td>\n",
       "      <td>1.000000</td>\n",
       "    </tr>\n",
       "  </tbody>\n",
       "</table>\n",
       "</div>"
      ],
      "text/plain": [
       "                  Age  SystolicBP  DiastolicBP        BS  BodyTemp  HeartRate\n",
       "Age          1.000000    0.416045     0.398026  0.473284 -0.255323   0.079798\n",
       "SystolicBP   0.416045    1.000000     0.787006  0.425172 -0.286616  -0.023108\n",
       "DiastolicBP  0.398026    0.787006     1.000000  0.423824 -0.257538  -0.046151\n",
       "BS           0.473284    0.425172     0.423824  1.000000 -0.103493   0.142867\n",
       "BodyTemp    -0.255323   -0.286616    -0.257538 -0.103493  1.000000   0.098771\n",
       "HeartRate    0.079798   -0.023108    -0.046151  0.142867  0.098771   1.000000"
      ]
     },
     "execution_count": 228,
     "metadata": {},
     "output_type": "execute_result"
    }
   ],
   "source": [
    "df.corr()\n"
   ]
  },
  {
   "cell_type": "code",
   "execution_count": 230,
   "metadata": {},
   "outputs": [
    {
     "ename": "TypeError",
     "evalue": "'DataFrame' object is not callable",
     "output_type": "error",
     "traceback": [
      "\u001b[0;31m---------------------------------------------------------------------------\u001b[0m",
      "\u001b[0;31mTypeError\u001b[0m                                 Traceback (most recent call last)",
      "\u001b[0;32m<ipython-input-230-789a26a8b147>\u001b[0m in \u001b[0;36m<module>\u001b[0;34m()\u001b[0m\n\u001b[0;32m----> 1\u001b[0;31m \u001b[0mdf_new\u001b[0m\u001b[0;34m(\u001b[0m\u001b[0mdf_new\u001b[0m\u001b[0;34m[\u001b[0m\u001b[0mdf_new\u001b[0m\u001b[0;34m[\u001b[0m\u001b[0;34m'Age Cat'\u001b[0m\u001b[0;34m]\u001b[0m \u001b[0;34m==\u001b[0m \u001b[0;34m'Age'\u001b[0m\u001b[0;34m]\u001b[0m\u001b[0;34m,\u001b[0m \u001b[0mindex\u001b[0m \u001b[0;34m=\u001b[0m \u001b[0;34m'RiskLevel'\u001b[0m\u001b[0;34m)\u001b[0m\u001b[0;34m\u001b[0m\u001b[0;34m\u001b[0m\u001b[0m\n\u001b[0m",
      "\u001b[0;31mTypeError\u001b[0m: 'DataFrame' object is not callable"
     ]
    }
   ],
   "source": [
    "df_new(df_new[df_new['Age Cat'] == 'Age'], index = 'RiskLevel')"
   ]
  },
  {
   "cell_type": "code",
   "execution_count": 233,
   "metadata": {},
   "outputs": [
    {
     "data": {
      "text/plain": [
       "Age              int64\n",
       "Age Cat         object\n",
       "SystolicBP       int64\n",
       "Sys Cat         object\n",
       "DiastolicBP      int64\n",
       "BS             float64\n",
       "BS Cat          object\n",
       "BodyTemp       float64\n",
       "HeartRate        int64\n",
       "Temp Cat        object\n",
       "RiskLevel       object\n",
       "Heart Cat       object\n",
       "Dia Cat         object\n",
       "dtype: object"
      ]
     },
     "execution_count": 233,
     "metadata": {},
     "output_type": "execute_result"
    }
   ],
   "source": [
    "df_new.dtypes"
   ]
  },
  {
   "cell_type": "code",
   "execution_count": 234,
   "metadata": {},
   "outputs": [
    {
     "data": {
      "text/plain": [
       "Age            34\n",
       "Age Cat         3\n",
       "SystolicBP     11\n",
       "Sys Cat         3\n",
       "DiastolicBP    11\n",
       "BS             22\n",
       "BS Cat          3\n",
       "BodyTemp        7\n",
       "HeartRate      12\n",
       "Temp Cat        2\n",
       "RiskLevel       1\n",
       "Heart Cat       1\n",
       "Dia Cat         2\n",
       "dtype: int64"
      ]
     },
     "execution_count": 234,
     "metadata": {},
     "output_type": "execute_result"
    }
   ],
   "source": [
    "df_new.nunique()"
   ]
  },
  {
   "cell_type": "code",
   "execution_count": 235,
   "metadata": {},
   "outputs": [
    {
     "data": {
      "text/html": [
       "<div>\n",
       "<style scoped>\n",
       "    .dataframe tbody tr th:only-of-type {\n",
       "        vertical-align: middle;\n",
       "    }\n",
       "\n",
       "    .dataframe tbody tr th {\n",
       "        vertical-align: top;\n",
       "    }\n",
       "\n",
       "    .dataframe thead th {\n",
       "        text-align: right;\n",
       "    }\n",
       "</style>\n",
       "<table border=\"1\" class=\"dataframe\">\n",
       "  <thead>\n",
       "    <tr style=\"text-align: right;\">\n",
       "      <th></th>\n",
       "      <th>Age</th>\n",
       "      <th>SystolicBP</th>\n",
       "      <th>DiastolicBP</th>\n",
       "      <th>BS</th>\n",
       "      <th>BodyTemp</th>\n",
       "      <th>HeartRate</th>\n",
       "    </tr>\n",
       "  </thead>\n",
       "  <tbody>\n",
       "    <tr>\n",
       "      <th>count</th>\n",
       "      <td>1014.000000</td>\n",
       "      <td>1014.000000</td>\n",
       "      <td>1014.000000</td>\n",
       "      <td>1014.000000</td>\n",
       "      <td>1014.000000</td>\n",
       "      <td>1014.000000</td>\n",
       "    </tr>\n",
       "    <tr>\n",
       "      <th>mean</th>\n",
       "      <td>29.871795</td>\n",
       "      <td>113.198225</td>\n",
       "      <td>76.460552</td>\n",
       "      <td>8.725986</td>\n",
       "      <td>98.665089</td>\n",
       "      <td>74.301775</td>\n",
       "    </tr>\n",
       "    <tr>\n",
       "      <th>std</th>\n",
       "      <td>13.474386</td>\n",
       "      <td>18.403913</td>\n",
       "      <td>13.885796</td>\n",
       "      <td>3.293532</td>\n",
       "      <td>1.371384</td>\n",
       "      <td>8.088702</td>\n",
       "    </tr>\n",
       "    <tr>\n",
       "      <th>min</th>\n",
       "      <td>10.000000</td>\n",
       "      <td>70.000000</td>\n",
       "      <td>49.000000</td>\n",
       "      <td>6.000000</td>\n",
       "      <td>98.000000</td>\n",
       "      <td>7.000000</td>\n",
       "    </tr>\n",
       "    <tr>\n",
       "      <th>25%</th>\n",
       "      <td>19.000000</td>\n",
       "      <td>100.000000</td>\n",
       "      <td>65.000000</td>\n",
       "      <td>6.900000</td>\n",
       "      <td>98.000000</td>\n",
       "      <td>70.000000</td>\n",
       "    </tr>\n",
       "    <tr>\n",
       "      <th>50%</th>\n",
       "      <td>26.000000</td>\n",
       "      <td>120.000000</td>\n",
       "      <td>80.000000</td>\n",
       "      <td>7.500000</td>\n",
       "      <td>98.000000</td>\n",
       "      <td>76.000000</td>\n",
       "    </tr>\n",
       "    <tr>\n",
       "      <th>75%</th>\n",
       "      <td>39.000000</td>\n",
       "      <td>120.000000</td>\n",
       "      <td>90.000000</td>\n",
       "      <td>8.000000</td>\n",
       "      <td>98.000000</td>\n",
       "      <td>80.000000</td>\n",
       "    </tr>\n",
       "    <tr>\n",
       "      <th>max</th>\n",
       "      <td>70.000000</td>\n",
       "      <td>160.000000</td>\n",
       "      <td>100.000000</td>\n",
       "      <td>19.000000</td>\n",
       "      <td>103.000000</td>\n",
       "      <td>90.000000</td>\n",
       "    </tr>\n",
       "  </tbody>\n",
       "</table>\n",
       "</div>"
      ],
      "text/plain": [
       "               Age   SystolicBP  DiastolicBP           BS     BodyTemp  \\\n",
       "count  1014.000000  1014.000000  1014.000000  1014.000000  1014.000000   \n",
       "mean     29.871795   113.198225    76.460552     8.725986    98.665089   \n",
       "std      13.474386    18.403913    13.885796     3.293532     1.371384   \n",
       "min      10.000000    70.000000    49.000000     6.000000    98.000000   \n",
       "25%      19.000000   100.000000    65.000000     6.900000    98.000000   \n",
       "50%      26.000000   120.000000    80.000000     7.500000    98.000000   \n",
       "75%      39.000000   120.000000    90.000000     8.000000    98.000000   \n",
       "max      70.000000   160.000000   100.000000    19.000000   103.000000   \n",
       "\n",
       "         HeartRate  \n",
       "count  1014.000000  \n",
       "mean     74.301775  \n",
       "std       8.088702  \n",
       "min       7.000000  \n",
       "25%      70.000000  \n",
       "50%      76.000000  \n",
       "75%      80.000000  \n",
       "max      90.000000  "
      ]
     },
     "execution_count": 235,
     "metadata": {},
     "output_type": "execute_result"
    }
   ],
   "source": [
    "df.describe()"
   ]
  },
  {
   "cell_type": "code",
   "execution_count": 273,
   "metadata": {},
   "outputs": [
    {
     "name": "stderr",
     "output_type": "stream",
     "text": [
      "UsageError: Line magic function `%pip` not found.\n"
     ]
    }
   ],
   "source": [
    "%pip install seaborn"
   ]
  },
  {
   "cell_type": "code",
   "execution_count": null,
   "metadata": {},
   "outputs": [],
   "source": []
  }
 ],
 "metadata": {
  "kernelspec": {
   "display_name": "Python 3",
   "language": "python",
   "name": "python3"
  },
  "language_info": {
   "codemirror_mode": {
    "name": "ipython",
    "version": 3
   },
   "file_extension": ".py",
   "mimetype": "text/x-python",
   "name": "python",
   "nbconvert_exporter": "python",
   "pygments_lexer": "ipython3",
   "version": "3.6.9"
  }
 },
 "nbformat": 4,
 "nbformat_minor": 5
}
